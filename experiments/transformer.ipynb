{
 "cells": [
  {
   "cell_type": "code",
   "execution_count": 51,
   "id": "initial_id",
   "metadata": {
    "collapsed": true,
    "ExecuteTime": {
     "end_time": "2024-02-20T11:53:21.728348198Z",
     "start_time": "2024-02-20T11:53:21.722412306Z"
    }
   },
   "outputs": [],
   "source": [
    "import numpy as np\n",
    "import pandas as pd\n",
    "\n",
    "\n",
    "file_path = 'energy_hourly_dataset_2012.csv'\n",
    "df = pd.read_csv(file_path)\n",
    "# df"
   ]
  },
  {
   "cell_type": "code",
   "outputs": [],
   "source": [
    "df.set_index('date', inplace=True)"
   ],
   "metadata": {
    "collapsed": false,
    "ExecuteTime": {
     "end_time": "2024-02-20T11:53:21.775696362Z",
     "start_time": "2024-02-20T11:53:21.731219591Z"
    }
   },
   "id": "486be6b9cc94f9eb",
   "execution_count": 52
  },
  {
   "cell_type": "code",
   "outputs": [],
   "source": [
    "# df"
   ],
   "metadata": {
    "collapsed": false,
    "ExecuteTime": {
     "end_time": "2024-02-20T11:53:21.776092566Z",
     "start_time": "2024-02-20T11:53:21.775542796Z"
    }
   },
   "id": "8f3f1f1008ae69d3",
   "execution_count": 53
  },
  {
   "cell_type": "code",
   "outputs": [],
   "source": [
    "df.index = pd.to_datetime(df.index)"
   ],
   "metadata": {
    "collapsed": false,
    "ExecuteTime": {
     "end_time": "2024-02-20T11:53:21.776436961Z",
     "start_time": "2024-02-20T11:53:21.775739673Z"
    }
   },
   "id": "ba6fa087d5c0c5dc",
   "execution_count": 54
  },
  {
   "cell_type": "code",
   "outputs": [],
   "source": [
    "# df"
   ],
   "metadata": {
    "collapsed": false,
    "ExecuteTime": {
     "end_time": "2024-02-20T11:53:21.776665227Z",
     "start_time": "2024-02-20T11:53:21.775836284Z"
    }
   },
   "id": "5bcf8f8054c493ac",
   "execution_count": 55
  },
  {
   "cell_type": "code",
   "outputs": [
    {
     "name": "stdout",
     "output_type": "stream",
     "text": [
      "Выберите гранулярность:\n",
      "Y: year\n",
      "M: month\n",
      "D: day\n",
      "W: weekday\n",
      "H: hour\n",
      "T: minute\n",
      "S: second\n",
      "U: microsecond\n",
      "N: nanosecond\n",
      "Выберите направление преобразования:\n",
      "1: Вверх (например, подневную в помесячную) - используется resample\n",
      "2: Вниз (например, месяц в день) - используется интерполяция\n"
     ]
    },
    {
     "data": {
      "text/plain": "date\n2012-01-01 00:00:00    69.000000\n2012-01-01 00:01:00    69.383333\n2012-01-01 00:02:00    69.766667\n2012-01-01 00:03:00    70.150000\n2012-01-01 00:04:00    70.533333\n                         ...    \n2012-03-31 22:56:00    94.066667\n2012-03-31 22:57:00    94.050000\n2012-03-31 22:58:00    94.033333\n2012-03-31 22:59:00    94.016667\n2012-03-31 23:00:00    94.000000\nFreq: T, Name: value, Length: 130981, dtype: float64"
     },
     "execution_count": 56,
     "metadata": {},
     "output_type": "execute_result"
    }
   ],
   "source": [
    "def transform_granularity(df):\n",
    "    date_attrs = {\n",
    "        \"Y\": \"year\",\n",
    "        \"M\": \"month\",\n",
    "        \"D\": \"day\",\n",
    "        \"W\": \"weekday\",\n",
    "        # \"doy\": \"dayofyear\",\n",
    "        \"H\": \"hour\",\n",
    "        \"T\": \"minute\",\n",
    "        \"S\": \"second\",\n",
    "        \"U\": \"microsecond\",\n",
    "        \"N\": \"nanosecond\",\n",
    "    }\n",
    "\n",
    "    print(\"Выберите гранулярность:\")\n",
    "    for key, value in date_attrs.items():\n",
    "        print(f\"{key}: {value}\")\n",
    "\n",
    "    chosen_granularity = input(\"Введите код гранулярности: \")\n",
    "\n",
    "    if chosen_granularity not in date_attrs:\n",
    "        raise ValueError(\"Выбрана некорректная гранулярность.\")\n",
    "\n",
    "    print(\"Выберите направление преобразования:\")\n",
    "    print(\"1: Вверх (например, подневную в помесячную) - используется resample\")\n",
    "    print(\"2: Вниз (например, месяц в день) - используется интерполяция\")\n",
    "\n",
    "    chosen_direction = input(\"Введите номер направления: \")\n",
    "\n",
    "    if chosen_direction not in [\"1\", \"2\"]:\n",
    "        raise ValueError(\"Выбрано некорректное направление.\")\n",
    "\n",
    "    df['value'] = pd.to_numeric(df['value'], errors='coerce')\n",
    "\n",
    "    if chosen_direction == \"1\":\n",
    "        # Вверх (resample)\n",
    "        df_resampled = df.resample(chosen_granularity).sum()\n",
    "        return df_resampled\n",
    "    else:\n",
    "        # Вниз (интерполяция)\n",
    "        df_resampled = df.resample(chosen_granularity).sum()\n",
    "        df_resampled['value'] = df_resampled['value'].replace(0.0, np.nan)\n",
    "        df_resampled['value'] = df_resampled['value'].interpolate(method='linear')\n",
    "        return df_resampled\n",
    "\n",
    "\n",
    "transformed_df = transform_granularity(df)\n",
    "# transformed_df['value']"
   ],
   "metadata": {
    "collapsed": false,
    "ExecuteTime": {
     "end_time": "2024-02-20T11:53:30.231778564Z",
     "start_time": "2024-02-20T11:53:21.775916860Z"
    }
   },
   "id": "7d94e7b7517df242",
   "execution_count": 56
  },
  {
   "cell_type": "code",
   "outputs": [],
   "source": [],
   "metadata": {
    "collapsed": false,
    "ExecuteTime": {
     "end_time": "2024-02-20T11:53:30.233076492Z",
     "start_time": "2024-02-20T11:53:30.228639645Z"
    }
   },
   "id": "7bf544434815ebb5",
   "execution_count": 56
  }
 ],
 "metadata": {
  "kernelspec": {
   "display_name": "Python 3",
   "language": "python",
   "name": "python3"
  },
  "language_info": {
   "codemirror_mode": {
    "name": "ipython",
    "version": 2
   },
   "file_extension": ".py",
   "mimetype": "text/x-python",
   "name": "python",
   "nbconvert_exporter": "python",
   "pygments_lexer": "ipython2",
   "version": "2.7.6"
  }
 },
 "nbformat": 4,
 "nbformat_minor": 5
}
