{
 "cells": [
  {
   "cell_type": "markdown",
   "source": [
    "# Hierarchical series with different levels of granularity"
   ],
   "metadata": {
    "collapsed": false
   },
   "id": "4ca1b262de4ec769"
  },
  {
   "cell_type": "markdown",
   "source": [
    "## Hierarchical Time Series Forecasting & Reconciliation\n",
    "*It has the following steps:*\n",
    "- Building Hierarchical Time Series\n",
    "- Hierarchical Forecasting\n",
    "- Forecast reconciliation\n",
    "## Time Series at top levels have noticeable trends and seasonality. We built time series models on each time series using ARIMA.\n",
    "- we took seasonality and trends into consideration when modeling\n",
    "- we used automatic selection of parameters for ARIMA model\n",
    "## We tried 3 such simplified reconciliaton strategies: \n",
    "- BU, \n",
    "- OLS, \n",
    "- Mint\n"
   ],
   "metadata": {
    "collapsed": false
   },
   "id": "fd7415c944e85ed2"
  },
  {
   "cell_type": "code",
   "execution_count": 315,
   "id": "initial_id",
   "metadata": {
    "collapsed": true,
    "ExecuteTime": {
     "end_time": "2024-01-23T09:57:52.536892934Z",
     "start_time": "2024-01-23T09:57:51.763934566Z"
    }
   },
   "outputs": [],
   "source": [
    "import numpy as np\n",
    "import pandas as pd\n",
    "import matplotlib.pyplot as plt\n",
    "# import plotly.express as px\n",
    "\n",
    "\n",
    "file_path = '/home/olga/ts_year_project/TimeSeriesMasters2023/eda_olga/energy_hourly_dataset_2012.csv'\n",
    "df = pd.read_csv(file_path)\n",
    "# df"
   ]
  },
  {
   "cell_type": "code",
   "outputs": [],
   "source": [
    "#df.set_index('date', inplace=True)"
   ],
   "metadata": {
    "collapsed": false,
    "ExecuteTime": {
     "end_time": "2024-01-23T09:57:52.587982863Z",
     "start_time": "2024-01-23T09:57:52.533913696Z"
    }
   },
   "id": "f008722ece8b9b19",
   "execution_count": 316
  },
  {
   "cell_type": "code",
   "outputs": [
    {
     "data": {
      "text/plain": "False"
     },
     "execution_count": 317,
     "metadata": {},
     "output_type": "execute_result"
    }
   ],
   "source": [
    "is_unique = df['date'].duplicated().any()\n",
    "is_unique"
   ],
   "metadata": {
    "collapsed": false,
    "ExecuteTime": {
     "end_time": "2024-01-23T09:57:52.653923117Z",
     "start_time": "2024-01-23T09:57:52.581582453Z"
    }
   },
   "id": "3627027020ed50e5",
   "execution_count": 317
  },
  {
   "cell_type": "code",
   "outputs": [],
   "source": [
    "df.reset_index(inplace=True)"
   ],
   "metadata": {
    "collapsed": false,
    "ExecuteTime": {
     "end_time": "2024-01-23T09:57:52.715280351Z",
     "start_time": "2024-01-23T09:57:52.638646441Z"
    }
   },
   "id": "66a1342913f00924",
   "execution_count": 318
  },
  {
   "cell_type": "code",
   "outputs": [],
   "source": [
    "# fig = px.line(df, x='date', y='value', labels={'value': 'Потребление электроэнергии'}, title='Потребление электроэнергии по часам')\n",
    "# fig.show()"
   ],
   "metadata": {
    "collapsed": false,
    "ExecuteTime": {
     "end_time": "2024-01-23T09:57:52.878803609Z",
     "start_time": "2024-01-23T09:57:52.692911273Z"
    }
   },
   "id": "6f5af3a742b0b7f7",
   "execution_count": 319
  },
  {
   "cell_type": "code",
   "outputs": [],
   "source": [
    "# df.index = pd.to_datetime(df.index)"
   ],
   "metadata": {
    "collapsed": false,
    "ExecuteTime": {
     "end_time": "2024-01-23T09:57:53.063737530Z",
     "start_time": "2024-01-23T09:57:52.875064127Z"
    }
   },
   "id": "918764b036c3d02d",
   "execution_count": 320
  },
  {
   "cell_type": "code",
   "outputs": [],
   "source": [
    "# df.reset_index(inplace=True)"
   ],
   "metadata": {
    "collapsed": false,
    "ExecuteTime": {
     "end_time": "2024-01-23T09:57:53.067355003Z",
     "start_time": "2024-01-23T09:57:52.947550987Z"
    }
   },
   "id": "711c57c9fc901750",
   "execution_count": 321
  },
  {
   "cell_type": "code",
   "outputs": [],
   "source": [
    "# df.info()"
   ],
   "metadata": {
    "collapsed": false,
    "ExecuteTime": {
     "end_time": "2024-01-23T09:57:53.109154325Z",
     "start_time": "2024-01-23T09:57:53.068306307Z"
    }
   },
   "id": "b3c93a94f8be5e45",
   "execution_count": 322
  },
  {
   "cell_type": "code",
   "outputs": [],
   "source": [
    "def transform_to_custom_freq(df, freq):\n",
    "    df['value'] = pd.to_numeric(df['value'], errors='coerce')\n",
    "    # df.set_index('date', inplace=True)\n",
    "    df_resampled = df.resample(freq).sum()\n",
    "    # df_resampled.reset_index(inplace=True)\n",
    "    \n",
    "    return df_resampled"
   ],
   "metadata": {
    "collapsed": false,
    "ExecuteTime": {
     "end_time": "2024-01-23T09:57:53.202745219Z",
     "start_time": "2024-01-23T09:57:53.095644634Z"
    }
   },
   "id": "bc1c69fb7bf222af",
   "execution_count": 323
  },
  {
   "cell_type": "markdown",
   "source": [
    "## week"
   ],
   "metadata": {
    "collapsed": false
   },
   "id": "703566641fcc37c3"
  },
  {
   "cell_type": "code",
   "outputs": [],
   "source": [
    "df['date'] = pd.to_datetime(df['date'])\n",
    "df.set_index('date', inplace=True)"
   ],
   "metadata": {
    "collapsed": false,
    "ExecuteTime": {
     "end_time": "2024-01-23T09:57:53.235318254Z",
     "start_time": "2024-01-23T09:57:53.200555236Z"
    }
   },
   "id": "c7797eb6b637af05",
   "execution_count": 324
  },
  {
   "cell_type": "code",
   "outputs": [],
   "source": [
    "# df"
   ],
   "metadata": {
    "collapsed": false,
    "ExecuteTime": {
     "end_time": "2024-01-23T09:57:53.352289325Z",
     "start_time": "2024-01-23T09:57:53.235954135Z"
    }
   },
   "id": "fe4f6e5812a4534a",
   "execution_count": 325
  },
  {
   "cell_type": "code",
   "outputs": [],
   "source": [
    "selected_freq = 'W'\n",
    "df_resampled_week = transform_to_custom_freq(df, selected_freq)\n",
    "# df_resampled_week"
   ],
   "metadata": {
    "collapsed": false,
    "ExecuteTime": {
     "end_time": "2024-01-23T09:57:53.458276554Z",
     "start_time": "2024-01-23T09:57:53.324455902Z"
    }
   },
   "id": "e9c70f842a141f8f",
   "execution_count": 326
  },
  {
   "cell_type": "markdown",
   "source": [
    "## Daily"
   ],
   "metadata": {
    "collapsed": false
   },
   "id": "45d18933bb0b0979"
  },
  {
   "cell_type": "code",
   "outputs": [],
   "source": [
    "# df"
   ],
   "metadata": {
    "collapsed": false,
    "ExecuteTime": {
     "end_time": "2024-01-23T09:57:53.462064533Z",
     "start_time": "2024-01-23T09:57:53.411459554Z"
    }
   },
   "id": "26c0f69a4645e42c",
   "execution_count": 327
  },
  {
   "cell_type": "code",
   "outputs": [],
   "source": [
    "df.reset_index(inplace=True)"
   ],
   "metadata": {
    "collapsed": false,
    "ExecuteTime": {
     "end_time": "2024-01-23T09:57:53.566773243Z",
     "start_time": "2024-01-23T09:57:53.463080528Z"
    }
   },
   "id": "ca157e46714d0911",
   "execution_count": 328
  },
  {
   "cell_type": "code",
   "outputs": [],
   "source": [
    "df['date'] = pd.to_datetime(df['date'])\n",
    "df.set_index('date', inplace=True)\n",
    "# df"
   ],
   "metadata": {
    "collapsed": false,
    "ExecuteTime": {
     "end_time": "2024-01-23T09:57:53.632799847Z",
     "start_time": "2024-01-23T09:57:53.550498330Z"
    }
   },
   "id": "fecb836cec2be391",
   "execution_count": 329
  },
  {
   "cell_type": "code",
   "outputs": [],
   "source": [
    "selected_freq = 'D'\n",
    "df_resampled_day = transform_to_custom_freq(df, selected_freq)\n",
    "# df_resampled_day"
   ],
   "metadata": {
    "collapsed": false,
    "ExecuteTime": {
     "end_time": "2024-01-23T09:57:53.755510068Z",
     "start_time": "2024-01-23T09:57:53.624926475Z"
    }
   },
   "id": "e5c4332afc2a03e5",
   "execution_count": 330
  },
  {
   "cell_type": "markdown",
   "source": [
    "## по месяцам"
   ],
   "metadata": {
    "collapsed": false
   },
   "id": "d4be024cd194718e"
  },
  {
   "cell_type": "code",
   "outputs": [],
   "source": [
    "df.reset_index(inplace=True)"
   ],
   "metadata": {
    "collapsed": false,
    "ExecuteTime": {
     "end_time": "2024-01-23T09:57:53.760074145Z",
     "start_time": "2024-01-23T09:57:53.703399802Z"
    }
   },
   "id": "258a017efa72354d",
   "execution_count": 331
  },
  {
   "cell_type": "code",
   "outputs": [],
   "source": [
    "df['date'] = pd.to_datetime(df['date'])\n",
    "df.set_index('date', inplace=True)"
   ],
   "metadata": {
    "collapsed": false,
    "ExecuteTime": {
     "end_time": "2024-01-23T09:57:53.873127641Z",
     "start_time": "2024-01-23T09:57:53.762383969Z"
    }
   },
   "id": "b8cb88466657c70",
   "execution_count": 332
  },
  {
   "cell_type": "code",
   "outputs": [],
   "source": [
    "# df.reset_index(inplace=True)\n",
    "selected_freq = 'M'\n",
    "df_resampled_month = transform_to_custom_freq(df, selected_freq)\n",
    "# df_resampled_month"
   ],
   "metadata": {
    "collapsed": false,
    "ExecuteTime": {
     "end_time": "2024-01-23T09:57:53.956892889Z",
     "start_time": "2024-01-23T09:57:53.844057443Z"
    }
   },
   "id": "bf9f85af6a355b8e",
   "execution_count": 333
  },
  {
   "cell_type": "code",
   "outputs": [],
   "source": [
    "df_resampled_month.reset_index(inplace=True)"
   ],
   "metadata": {
    "collapsed": false,
    "ExecuteTime": {
     "end_time": "2024-01-23T09:57:54.028384689Z",
     "start_time": "2024-01-23T09:57:53.927428019Z"
    }
   },
   "id": "33b7690d000f7c0f",
   "execution_count": 334
  },
  {
   "cell_type": "code",
   "outputs": [],
   "source": [
    "# df_resampled_month"
   ],
   "metadata": {
    "collapsed": false,
    "ExecuteTime": {
     "end_time": "2024-01-23T09:57:54.112862614Z",
     "start_time": "2024-01-23T09:57:53.961508454Z"
    }
   },
   "id": "567d420e83652d92",
   "execution_count": 335
  },
  {
   "cell_type": "code",
   "outputs": [],
   "source": [
    "# fig = px.line(df_resampled_month, x='date', y='value', labels={'value': 'Потребление электроэнергии'}, title='Потребление электроэнергии по месяцам')\n",
    "# fig.show()"
   ],
   "metadata": {
    "collapsed": false,
    "ExecuteTime": {
     "end_time": "2024-01-23T09:57:54.178187275Z",
     "start_time": "2024-01-23T09:57:54.084803251Z"
    }
   },
   "id": "1beee21846328e3c",
   "execution_count": 336
  },
  {
   "cell_type": "code",
   "outputs": [],
   "source": [
    "# df"
   ],
   "metadata": {
    "collapsed": false,
    "ExecuteTime": {
     "end_time": "2024-01-23T09:57:54.245724827Z",
     "start_time": "2024-01-23T09:57:54.155007477Z"
    }
   },
   "id": "13c15c3dd28fc75c",
   "execution_count": 337
  },
  {
   "cell_type": "code",
   "outputs": [],
   "source": [],
   "metadata": {
    "collapsed": false,
    "ExecuteTime": {
     "end_time": "2024-01-23T09:57:54.330679522Z",
     "start_time": "2024-01-23T09:57:54.232814418Z"
    }
   },
   "id": "a240dede943624f9",
   "execution_count": 337
  },
  {
   "cell_type": "markdown",
   "source": [
    "## Обучение моделей на каждой гранулярности"
   ],
   "metadata": {
    "collapsed": false
   },
   "id": "917505b86a0ea828"
  },
  {
   "cell_type": "code",
   "outputs": [],
   "source": [
    "from statsmodels.tsa.arima.model import ARIMA\n",
    "# from fbprophet import Prophet"
   ],
   "metadata": {
    "collapsed": false,
    "ExecuteTime": {
     "end_time": "2024-01-23T09:57:54.351108898Z",
     "start_time": "2024-01-23T09:57:54.299464983Z"
    }
   },
   "id": "c7118632fbff51df",
   "execution_count": 338
  },
  {
   "cell_type": "code",
   "outputs": [],
   "source": [
    "# !pip install statsmodels\n",
    "#!python -m pip install prophet"
   ],
   "metadata": {
    "collapsed": false,
    "ExecuteTime": {
     "end_time": "2024-01-23T09:57:54.453059262Z",
     "start_time": "2024-01-23T09:57:54.335619539Z"
    }
   },
   "id": "89eddc21c2ebaf61",
   "execution_count": 339
  },
  {
   "cell_type": "code",
   "outputs": [],
   "source": [
    "# !python -m pip install fbprophet"
   ],
   "metadata": {
    "collapsed": false,
    "ExecuteTime": {
     "end_time": "2024-01-23T09:57:54.542920872Z",
     "start_time": "2024-01-23T09:57:54.412547963Z"
    }
   },
   "id": "df3024aa1f6c8078",
   "execution_count": 340
  },
  {
   "cell_type": "code",
   "outputs": [],
   "source": [
    "from pmdarima import auto_arima"
   ],
   "metadata": {
    "collapsed": false,
    "ExecuteTime": {
     "end_time": "2024-01-23T09:57:54.568079847Z",
     "start_time": "2024-01-23T09:57:54.467303980Z"
    }
   },
   "id": "b69e9a514d925590",
   "execution_count": 341
  },
  {
   "cell_type": "code",
   "outputs": [],
   "source": [
    "# !pip install pmdarima"
   ],
   "metadata": {
    "collapsed": false,
    "ExecuteTime": {
     "end_time": "2024-01-23T09:57:54.656681546Z",
     "start_time": "2024-01-23T09:57:54.567908021Z"
    }
   },
   "id": "857a897e084a7f0d",
   "execution_count": 342
  },
  {
   "cell_type": "markdown",
   "source": [
    "## hour"
   ],
   "metadata": {
    "collapsed": false
   },
   "id": "3fd7add49a90cc11"
  },
  {
   "cell_type": "code",
   "outputs": [],
   "source": [
    "from sklearn.metrics import mean_absolute_error, mean_squared_error"
   ],
   "metadata": {
    "collapsed": false,
    "ExecuteTime": {
     "end_time": "2024-01-23T09:57:54.745243497Z",
     "start_time": "2024-01-23T09:57:54.629418574Z"
    }
   },
   "id": "9b159053bb1b85",
   "execution_count": 343
  },
  {
   "cell_type": "code",
   "outputs": [],
   "source": [
    "train_size = int(len(df) * 0.8)\n",
    "train_hour, test_hour = df.iloc[:train_size], df.iloc[train_size:]"
   ],
   "metadata": {
    "collapsed": false,
    "ExecuteTime": {
     "end_time": "2024-01-23T09:57:54.818972478Z",
     "start_time": "2024-01-23T09:57:54.680485888Z"
    }
   },
   "id": "2e0f3d3bbde32484",
   "execution_count": 344
  },
  {
   "cell_type": "code",
   "outputs": [],
   "source": [
    "auto_arima_model = auto_arima(train_hour['value'], seasonal=True, stepwise=True, suppress_warnings=True)"
   ],
   "metadata": {
    "collapsed": false,
    "ExecuteTime": {
     "end_time": "2024-01-23T09:58:12.812563833Z",
     "start_time": "2024-01-23T09:57:54.773655242Z"
    }
   },
   "id": "5a11e1616ca877bf",
   "execution_count": 345
  },
  {
   "cell_type": "code",
   "outputs": [
    {
     "data": {
      "text/plain": "(3, 0, 2)"
     },
     "execution_count": 346,
     "metadata": {},
     "output_type": "execute_result"
    }
   ],
   "source": [
    "auto_arima_model.order"
   ],
   "metadata": {
    "collapsed": false,
    "ExecuteTime": {
     "end_time": "2024-01-23T09:58:12.946581632Z",
     "start_time": "2024-01-23T09:58:12.815444361Z"
    }
   },
   "id": "e940688d6bccc658",
   "execution_count": 346
  },
  {
   "cell_type": "code",
   "outputs": [
    {
     "data": {
      "text/plain": "(0, 0, 0, 0)"
     },
     "execution_count": 347,
     "metadata": {},
     "output_type": "execute_result"
    }
   ],
   "source": [
    "auto_arima_model.seasonal_order"
   ],
   "metadata": {
    "collapsed": false,
    "ExecuteTime": {
     "end_time": "2024-01-23T09:58:12.952949429Z",
     "start_time": "2024-01-23T09:58:12.815685483Z"
    }
   },
   "id": "fd5bc646de33e86b",
   "execution_count": 347
  },
  {
   "cell_type": "code",
   "outputs": [
    {
     "name": "stdout",
     "output_type": "stream",
     "text": [
      "ARIMA Order: (3, 0, 2)\n",
      "ARIMA Seasonal Order: (0, 0, 0, 0)\n"
     ]
    }
   ],
   "source": [
    "print(f'ARIMA Order: {auto_arima_model.order}')\n",
    "print(f'ARIMA Seasonal Order: {auto_arima_model.seasonal_order}')"
   ],
   "metadata": {
    "collapsed": false,
    "ExecuteTime": {
     "end_time": "2024-01-23T09:58:12.976836957Z",
     "start_time": "2024-01-23T09:58:12.815824047Z"
    }
   },
   "id": "6040cd847ce5adb2",
   "execution_count": 348
  },
  {
   "cell_type": "code",
   "outputs": [],
   "source": [
    "fitted_model = auto_arima_model.fit(train_hour['value'])"
   ],
   "metadata": {
    "collapsed": false,
    "ExecuteTime": {
     "end_time": "2024-01-23T09:58:14.487675414Z",
     "start_time": "2024-01-23T09:58:12.822599978Z"
    }
   },
   "id": "c4ea97d272e544ca",
   "execution_count": 349
  },
  {
   "cell_type": "code",
   "outputs": [],
   "source": [
    "forecast_hour = fitted_model.predict(n_periods=len(test_hour))"
   ],
   "metadata": {
    "collapsed": false,
    "ExecuteTime": {
     "end_time": "2024-01-23T09:58:14.612437361Z",
     "start_time": "2024-01-23T09:58:14.492876624Z"
    }
   },
   "id": "21c98abe5ba540ed",
   "execution_count": 350
  },
  {
   "cell_type": "code",
   "outputs": [],
   "source": [
    "# forecast_hour"
   ],
   "metadata": {
    "collapsed": false,
    "ExecuteTime": {
     "end_time": "2024-01-23T09:58:14.615349102Z",
     "start_time": "2024-01-23T09:58:14.510360796Z"
    }
   },
   "id": "65146bd39e6015fc",
   "execution_count": 351
  },
  {
   "cell_type": "code",
   "outputs": [],
   "source": [
    "mae = mean_absolute_error(test_hour['value'], forecast_hour)\n",
    "mse = mean_squared_error(test_hour['value'], forecast_hour)"
   ],
   "metadata": {
    "collapsed": false,
    "ExecuteTime": {
     "end_time": "2024-01-23T09:58:14.669799856Z",
     "start_time": "2024-01-23T09:58:14.516084306Z"
    }
   },
   "id": "db2c6f25446fb843",
   "execution_count": 352
  },
  {
   "cell_type": "code",
   "outputs": [
    {
     "name": "stdout",
     "output_type": "stream",
     "text": [
      "Test Mean Absolute Error: 18.296752543658766\n",
      "Test Mean Squared Error: 587.6226961867825\n"
     ]
    }
   ],
   "source": [
    "print(f'Test Mean Absolute Error: {mae}')\n",
    "print(f'Test Mean Squared Error: {mse}')"
   ],
   "metadata": {
    "collapsed": false,
    "ExecuteTime": {
     "end_time": "2024-01-23T09:58:14.672824742Z",
     "start_time": "2024-01-23T09:58:14.521847735Z"
    }
   },
   "id": "e4ddf8fd19cd4d23",
   "execution_count": 353
  },
  {
   "cell_type": "code",
   "outputs": [
    {
     "data": {
      "text/plain": "<matplotlib.legend.Legend at 0x7fbeabff80a0>"
     },
     "execution_count": 354,
     "metadata": {},
     "output_type": "execute_result"
    },
    {
     "data": {
      "text/plain": "<Figure size 1200x600 with 1 Axes>",
      "image/png": "[encoded data removed]"
     },
     "metadata": {},
     "output_type": "display_data"
    }
   ],
   "source": [
    "plt.figure(figsize=(12, 6))\n",
    "plt.plot(train_hour.index, train_hour['value'], label='Обучающая выборка')\n",
    "plt.plot(test_hour.index, test_hour['value'], label='Тестовая выборка')\n",
    "plt.plot(test_hour.index, forecast_hour, label='Прогноз ARIMA')\n",
    "plt.title('Прогноз ARIMA с автоматически подобранными параметрами')\n",
    "plt.xlabel('Дата')\n",
    "plt.ylabel('Значение')\n",
    "plt.legend()\n",
    "# plt.show()"
   ],
   "metadata": {
    "collapsed": false,
    "ExecuteTime": {
     "end_time": "2024-01-23T09:58:14.872508147Z",
     "start_time": "2024-01-23T09:58:14.571565458Z"
    }
   },
   "id": "de2911fac9355f9",
   "execution_count": 354
  },
  {
   "cell_type": "code",
   "outputs": [],
   "source": [],
   "metadata": {
    "collapsed": false,
    "ExecuteTime": {
     "end_time": "2024-01-23T09:58:14.876614511Z",
     "start_time": "2024-01-23T09:58:14.869765545Z"
    }
   },
   "id": "42b9b8e481c6e304",
   "execution_count": 354
  },
  {
   "cell_type": "markdown",
   "source": [
    "## week"
   ],
   "metadata": {
    "collapsed": false
   },
   "id": "c39dbf355829a351"
  },
  {
   "cell_type": "code",
   "outputs": [
    {
     "name": "stdout",
     "output_type": "stream",
     "text": [
      "(0, 0, 0)\n",
      "(0, 0, 0, 0)\n",
      "ARIMA Order: (0, 0, 0)\n",
      "ARIMA Seasonal Order: (0, 0, 0, 0)\n",
      "Test Mean Absolute Error: 1260.5757575757586\n",
      "Test Mean Squared Error: 1685585.7107438035\n"
     ]
    }
   ],
   "source": [
    "train_size = int(len(df_resampled_week) * 0.8)\n",
    "train_week, test_week = df_resampled_week.iloc[:train_size], df_resampled_week.iloc[train_size:]\n",
    "\n",
    "auto_arima_model = auto_arima(train_week['value'], seasonal=True, stepwise=True, suppress_warnings=True)\n",
    "print(auto_arima_model.order)\n",
    "print(auto_arima_model.seasonal_order)\n",
    "\n",
    "print(f'ARIMA Order: {auto_arima_model.order}')\n",
    "print(f'ARIMA Seasonal Order: {auto_arima_model.seasonal_order}')\n",
    "\n",
    "fitted_model = auto_arima_model.fit(train_week['value'])\n",
    "\n",
    "forecast_week = fitted_model.predict(n_periods=len(test_week))\n",
    "\n",
    "mae = mean_absolute_error(test_week['value'], forecast_week)\n",
    "mse = mean_squared_error(test_week['value'], forecast_week)\n",
    "print(f'Test Mean Absolute Error: {mae}')\n",
    "print(f'Test Mean Squared Error: {mse}')"
   ],
   "metadata": {
    "collapsed": false,
    "ExecuteTime": {
     "end_time": "2024-01-23T09:58:15.184152790Z",
     "start_time": "2024-01-23T09:58:14.879275703Z"
    }
   },
   "id": "733b3df140ce2c95",
   "execution_count": 355
  },
  {
   "cell_type": "code",
   "outputs": [
    {
     "data": {
      "text/plain": "<matplotlib.legend.Legend at 0x7fbeab3cb8e0>"
     },
     "execution_count": 356,
     "metadata": {},
     "output_type": "execute_result"
    },
    {
     "data": {
      "text/plain": "<Figure size 1200x600 with 1 Axes>",
      "image/png": "[encoded data removed]"
     },
     "metadata": {},
     "output_type": "display_data"
    }
   ],
   "source": [
    "plt.figure(figsize=(12, 6))\n",
    "plt.plot(train_week.index, train_week['value'], label='Обучающая выборка')\n",
    "plt.plot(test_week.index, test_week['value'], label='Тестовая выборка')\n",
    "plt.plot(test_week.index, forecast_week, label='Прогноз ARIMA')\n",
    "plt.title('Прогноз ARIMA с автоматически подобранными параметрами')\n",
    "plt.xlabel('Дата')\n",
    "plt.ylabel('Значение')\n",
    "plt.legend()\n",
    "# plt.show()"
   ],
   "metadata": {
    "collapsed": false,
    "ExecuteTime": {
     "end_time": "2024-01-23T09:58:15.410661681Z",
     "start_time": "2024-01-23T09:58:15.125647342Z"
    }
   },
   "id": "fe40badc3853e912",
   "execution_count": 356
  },
  {
   "cell_type": "code",
   "outputs": [],
   "source": [
    "# forecast_week"
   ],
   "metadata": {
    "collapsed": false,
    "ExecuteTime": {
     "end_time": "2024-01-23T09:58:15.413647796Z",
     "start_time": "2024-01-23T09:58:15.405613213Z"
    }
   },
   "id": "258ddcc5ced72a1e",
   "execution_count": 357
  },
  {
   "cell_type": "markdown",
   "source": [
    "## day"
   ],
   "metadata": {
    "collapsed": false
   },
   "id": "67d1ada1b1159362"
  },
  {
   "cell_type": "code",
   "outputs": [
    {
     "name": "stdout",
     "output_type": "stream",
     "text": [
      "(0, 0, 1)\n",
      "(0, 0, 0, 0)\n",
      "ARIMA Order: (0, 0, 1)\n",
      "ARIMA Seasonal Order: (0, 0, 0, 0)\n",
      "Test Mean Absolute Error: 142.67056539605065\n",
      "Test Mean Squared Error: 41674.07603437521\n"
     ]
    }
   ],
   "source": [
    "train_size = int(len(df_resampled_day) * 0.8)\n",
    "train_day, test_day = df_resampled_day.iloc[:train_size], df_resampled_day.iloc[train_size:]\n",
    "\n",
    "auto_arima_model = auto_arima(train_day['value'], seasonal=True, stepwise=True, suppress_warnings=True)\n",
    "print(auto_arima_model.order)\n",
    "print(auto_arima_model.seasonal_order)\n",
    "\n",
    "print(f'ARIMA Order: {auto_arima_model.order}')\n",
    "print(f'ARIMA Seasonal Order: {auto_arima_model.seasonal_order}')\n",
    "\n",
    "fitted_model = auto_arima_model.fit(train_day['value'])\n",
    "\n",
    "forecast_day = fitted_model.predict(n_periods=len(test_day))\n",
    "\n",
    "mae = mean_absolute_error(test_day['value'], forecast_day)\n",
    "mse = mean_squared_error(test_day['value'], forecast_day)\n",
    "print(f'Test Mean Absolute Error: {mae}')\n",
    "print(f'Test Mean Squared Error: {mse}')\n"
   ],
   "metadata": {
    "collapsed": false,
    "ExecuteTime": {
     "end_time": "2024-01-23T09:58:15.889387096Z",
     "start_time": "2024-01-23T09:58:15.410948681Z"
    }
   },
   "id": "4b50846c7b8b0474",
   "execution_count": 358
  },
  {
   "cell_type": "code",
   "outputs": [
    {
     "data": {
      "text/plain": "<matplotlib.legend.Legend at 0x7fbeaaf05000>"
     },
     "execution_count": 359,
     "metadata": {},
     "output_type": "execute_result"
    },
    {
     "data": {
      "text/plain": "<Figure size 1200x600 with 1 Axes>",
      "image/png": "[encoded data removed]"
     },
     "metadata": {},
     "output_type": "display_data"
    }
   ],
   "source": [
    "plt.figure(figsize=(12, 6))\n",
    "plt.plot(train_day.index, train_day['value'], label='Обучающая выборка')\n",
    "plt.plot(test_day.index, test_day['value'], label='Тестовая выборка')\n",
    "plt.plot(test_day.index, forecast_day, label='Прогноз ARIMA')\n",
    "plt.title('Прогноз ARIMA с автоматически подобранными параметрами')\n",
    "plt.xlabel('Дата')\n",
    "plt.ylabel('Значение')\n",
    "plt.legend()\n",
    "# plt.show()"
   ],
   "metadata": {
    "collapsed": false,
    "ExecuteTime": {
     "end_time": "2024-01-23T09:58:16.171345436Z",
     "start_time": "2024-01-23T09:58:15.900101751Z"
    }
   },
   "id": "d1a21dc24ac5ac2c",
   "execution_count": 359
  },
  {
   "cell_type": "code",
   "outputs": [],
   "source": [
    "# forecast_day"
   ],
   "metadata": {
    "collapsed": false,
    "ExecuteTime": {
     "end_time": "2024-01-23T09:58:16.176079891Z",
     "start_time": "2024-01-23T09:58:16.169497441Z"
    }
   },
   "id": "89707a09694a0fa2",
   "execution_count": 360
  },
  {
   "cell_type": "code",
   "outputs": [],
   "source": [
    "# forecast_hour"
   ],
   "metadata": {
    "collapsed": false,
    "ExecuteTime": {
     "end_time": "2024-01-23T09:58:16.217503927Z",
     "start_time": "2024-01-23T09:58:16.172460051Z"
    }
   },
   "id": "fc1dcef3fcf86397",
   "execution_count": 361
  },
  {
   "cell_type": "code",
   "outputs": [],
   "source": [
    "# forecast_week"
   ],
   "metadata": {
    "collapsed": false,
    "ExecuteTime": {
     "end_time": "2024-01-23T09:58:16.318301994Z",
     "start_time": "2024-01-23T09:58:16.184519491Z"
    }
   },
   "id": "118d46dc2a583ef5",
   "execution_count": 362
  },
  {
   "cell_type": "code",
   "outputs": [],
   "source": [],
   "metadata": {
    "collapsed": false,
    "ExecuteTime": {
     "end_time": "2024-01-23T09:58:16.364454926Z",
     "start_time": "2024-01-23T09:58:16.189414926Z"
    }
   },
   "id": "97d1e0d9cd6ace9",
   "execution_count": 362
  },
  {
   "cell_type": "markdown",
   "source": [
    "## Применяем реконсиляцию методами bu, ols, mint"
   ],
   "metadata": {
    "collapsed": false
   },
   "id": "fadd0997e5bc98d6"
  },
  {
   "cell_type": "code",
   "outputs": [],
   "source": [
    "from hierarchicalforecast.utils import aggregate\n",
    "from hierarchicalforecast.methods import BottomUp, MinTrace\n",
    "from hierarchicalforecast.core import HierarchicalReconciliation\n",
    "from hierarchicalforecast.evaluation import HierarchicalEvaluation"
   ],
   "metadata": {
    "collapsed": false,
    "ExecuteTime": {
     "end_time": "2024-01-23T09:58:16.367785429Z",
     "start_time": "2024-01-23T09:58:16.231583377Z"
    }
   },
   "id": "c4043356f96ed0eb",
   "execution_count": 363
  },
  {
   "cell_type": "markdown",
   "source": [
    "## Bottom-Up"
   ],
   "metadata": {
    "collapsed": false
   },
   "id": "c5309dc6a7f8ed70"
  },
  {
   "cell_type": "code",
   "outputs": [],
   "source": [
    "forecast_day_combined = forecast_hour.resample('D').sum() \n",
    "# forecast_day_combined"
   ],
   "metadata": {
    "collapsed": false,
    "ExecuteTime": {
     "end_time": "2024-01-23T09:58:16.383772634Z",
     "start_time": "2024-01-23T09:58:16.231844663Z"
    }
   },
   "id": "eebc4b007653b998",
   "execution_count": 364
  },
  {
   "cell_type": "code",
   "outputs": [
    {
     "name": "stdout",
     "output_type": "stream",
     "text": [
      "Test Mean Absolute Error: 251.09503351720358\n",
      "Test Mean Squared Error: 280839.1345460175\n"
     ]
    }
   ],
   "source": [
    "mae = mean_absolute_error(test_day['value'], forecast_day_combined)\n",
    "mse = mean_squared_error(test_day['value'], forecast_day_combined)\n",
    "print(f'Test Mean Absolute Error: {mae}')\n",
    "print(f'Test Mean Squared Error: {mse}')"
   ],
   "metadata": {
    "collapsed": false,
    "ExecuteTime": {
     "end_time": "2024-01-23T09:58:16.387209564Z",
     "start_time": "2024-01-23T09:58:16.231954087Z"
    }
   },
   "id": "11238085f6084947",
   "execution_count": 365
  },
  {
   "cell_type": "code",
   "outputs": [],
   "source": [
    "# Combine lower-level forecasts to obtain higher-level forecasts using the Bottom-Up method\n",
    "forecast_week_combined = forecast_day_combined.resample('W').sum()  # Aggregating hourly forecasts to weekly\n",
    "# forecast_week_combined"
   ],
   "metadata": {
    "collapsed": false,
    "ExecuteTime": {
     "end_time": "2024-01-23T09:58:16.425183863Z",
     "start_time": "2024-01-23T09:58:16.232088379Z"
    }
   },
   "id": "b65a4a24e2284fc4",
   "execution_count": 366
  },
  {
   "cell_type": "code",
   "outputs": [
    {
     "name": "stdout",
     "output_type": "stream",
     "text": [
      "Test Mean Absolute Error: 1870.9956615601247\n",
      "Test Mean Squared Error: 7762581.31654135\n"
     ]
    }
   ],
   "source": [
    "mae = mean_absolute_error(test_week['value'], forecast_week_combined)\n",
    "mse = mean_squared_error(test_week['value'], forecast_week_combined)\n",
    "print(f'Test Mean Absolute Error: {mae}')\n",
    "print(f'Test Mean Squared Error: {mse}')"
   ],
   "metadata": {
    "collapsed": false,
    "ExecuteTime": {
     "end_time": "2024-01-23T09:58:16.428750972Z",
     "start_time": "2024-01-23T09:58:16.232182011Z"
    }
   },
   "id": "fedcbb8242212f35",
   "execution_count": 367
  },
  {
   "cell_type": "code",
   "outputs": [],
   "source": [],
   "metadata": {
    "collapsed": false,
    "ExecuteTime": {
     "end_time": "2024-01-23T09:58:16.431918011Z",
     "start_time": "2024-01-23T09:58:16.232362663Z"
    }
   },
   "id": "1259a663b49e1d47",
   "execution_count": 367
  },
  {
   "cell_type": "markdown",
   "source": [
    "## MinT method"
   ],
   "metadata": {
    "collapsed": false
   },
   "id": "879c9903ca6616c7"
  },
  {
   "cell_type": "code",
   "outputs": [],
   "source": [
    "# tried to take code for categoracal hierarchy from here https://gist.github.com/ngupta23/1e104f18c0440156953ac37dc8e2a616"
   ],
   "metadata": {
    "collapsed": false,
    "ExecuteTime": {
     "end_time": "2024-01-23T09:58:16.434734856Z",
     "start_time": "2024-01-23T09:58:16.232502536Z"
    }
   },
   "id": "8d1db861ea0fd46f",
   "execution_count": 368
  },
  {
   "cell_type": "code",
   "outputs": [],
   "source": [
    "from hierarchicalforecast.utils import aggregate\n",
    "from hierarchicalforecast.methods import BottomUp, TopDown, MinTrace, ERM\n",
    "from hierarchicalforecast.core import HierarchicalReconciliation\n",
    "from hierarchicalforecast.evaluation import HierarchicalEvaluation"
   ],
   "metadata": {
    "collapsed": false,
    "ExecuteTime": {
     "end_time": "2024-01-23T09:58:16.502986594Z",
     "start_time": "2024-01-23T09:58:16.275502257Z"
    }
   },
   "id": "862632e8e97285e2",
   "execution_count": 369
  },
  {
   "cell_type": "code",
   "outputs": [],
   "source": [
    "# # You can select a reconciler from our collection\n",
    "# reconcilers = [\n",
    "#       BottomUp(),\n",
    "#       TopDown(method='forecast_proportions'),\n",
    "#       # TopDown(method='average_proportions'),\n",
    "#       # TopDown(method='proportion_averages'),\n",
    "#       MinTrace(method='ols'),\n",
    "#       # MinTrace(method='wls_var'),\n",
    "#       # MinTrace(method='mint_shrink'),ls\n",
    "#       # #ERM(method='reg_bu', lambda_reg=100) # Extremely inneficient\n",
    "#       ERM(method='closed')\n",
    "# ]\n",
    "# hrec = HierarchicalReconciliation(reconcilers=reconcilers)"
   ],
   "metadata": {
    "collapsed": false,
    "ExecuteTime": {
     "end_time": "2024-01-23T09:58:16.542278741Z",
     "start_time": "2024-01-23T09:58:16.275677596Z"
    }
   },
   "id": "b7cf6a093dacd271",
   "execution_count": 370
  },
  {
   "cell_type": "code",
   "outputs": [],
   "source": [
    "# Y_rec_df = hrec.reconcile(Y_hat_df=Y_hat_df, \n",
    "#                           Y_df=Y_fitted_df,\n",
    "#                           S=S_df, tags=tags)\n",
    "# Y_rec_df.groupby('unique_id').head(FH)"
   ],
   "metadata": {
    "collapsed": false,
    "ExecuteTime": {
     "end_time": "2024-01-23T09:58:16.545499934Z",
     "start_time": "2024-01-23T09:58:16.275738623Z"
    }
   },
   "id": "f32bddc9c2d8bd5f",
   "execution_count": 371
  },
  {
   "cell_type": "code",
   "outputs": [
    {
     "data": {
      "text/plain": "                     value\ndate                      \n2012-01-01 00:00:01   69.0\n2012-01-01 01:00:01   92.0\n2012-01-01 02:00:01   96.0\n2012-01-01 03:00:01   92.0\n2012-01-01 04:00:01   91.0\n...                    ...\n2012-03-31 19:00:01  110.0\n2012-03-31 20:00:01  116.0\n2012-03-31 21:00:01  105.0\n2012-03-31 22:00:01   95.0\n2012-03-31 23:00:01   94.0\n\n[2184 rows x 1 columns]",
      "text/html": "<div>\n<style scoped>\n    .dataframe tbody tr th:only-of-type {\n        vertical-align: middle;\n    }\n\n    .dataframe tbody tr th {\n        vertical-align: top;\n    }\n\n    .dataframe thead th {\n        text-align: right;\n    }\n</style>\n<table border=\"1\" class=\"dataframe\">\n  <thead>\n    <tr style=\"text-align: right;\">\n      <th></th>\n      <th>value</th>\n    </tr>\n    <tr>\n      <th>date</th>\n      <th></th>\n    </tr>\n  </thead>\n  <tbody>\n    <tr>\n      <th>2012-01-01 00:00:01</th>\n      <td>69.0</td>\n    </tr>\n    <tr>\n      <th>2012-01-01 01:00:01</th>\n      <td>92.0</td>\n    </tr>\n    <tr>\n      <th>2012-01-01 02:00:01</th>\n      <td>96.0</td>\n    </tr>\n    <tr>\n      <th>2012-01-01 03:00:01</th>\n      <td>92.0</td>\n    </tr>\n    <tr>\n      <th>2012-01-01 04:00:01</th>\n      <td>91.0</td>\n    </tr>\n    <tr>\n      <th>...</th>\n      <td>...</td>\n    </tr>\n    <tr>\n      <th>2012-03-31 19:00:01</th>\n      <td>110.0</td>\n    </tr>\n    <tr>\n      <th>2012-03-31 20:00:01</th>\n      <td>116.0</td>\n    </tr>\n    <tr>\n      <th>2012-03-31 21:00:01</th>\n      <td>105.0</td>\n    </tr>\n    <tr>\n      <th>2012-03-31 22:00:01</th>\n      <td>95.0</td>\n    </tr>\n    <tr>\n      <th>2012-03-31 23:00:01</th>\n      <td>94.0</td>\n    </tr>\n  </tbody>\n</table>\n<p>2184 rows × 1 columns</p>\n</div>"
     },
     "execution_count": 372,
     "metadata": {},
     "output_type": "execute_result"
    }
   ],
   "source": [
    "df_reduced = df.drop(columns=['index', 'id'])\n",
    "df_reduced"
   ],
   "metadata": {
    "collapsed": false,
    "ExecuteTime": {
     "end_time": "2024-01-23T09:58:16.563556283Z",
     "start_time": "2024-01-23T09:58:16.275790354Z"
    }
   },
   "id": "9a115970ad2aaf56",
   "execution_count": 372
  },
  {
   "cell_type": "code",
   "outputs": [
    {
     "name": "stdout",
     "output_type": "stream",
     "text": [
      "<class 'pandas.core.frame.DataFrame'>\n",
      "DatetimeIndex: 2184 entries, 2012-01-01 00:00:01 to 2012-03-31 23:00:01\n",
      "Data columns (total 1 columns):\n",
      " #   Column  Non-Null Count  Dtype  \n",
      "---  ------  --------------  -----  \n",
      " 0   value   2184 non-null   float64\n",
      "dtypes: float64(1)\n",
      "memory usage: 34.1 KB\n"
     ]
    }
   ],
   "source": [
    "df_reduced.info()"
   ],
   "metadata": {
    "collapsed": false,
    "ExecuteTime": {
     "end_time": "2024-01-23T09:58:16.566900296Z",
     "start_time": "2024-01-23T09:58:16.275856606Z"
    }
   },
   "id": "5fd2bd3c3d99f13e",
   "execution_count": 373
  },
  {
   "cell_type": "code",
   "outputs": [],
   "source": [
    "df_reduced.reset_index(inplace=True)"
   ],
   "metadata": {
    "collapsed": false,
    "ExecuteTime": {
     "end_time": "2024-01-23T09:58:16.598457818Z",
     "start_time": "2024-01-23T09:58:16.275954343Z"
    }
   },
   "id": "72507e2e8b843852",
   "execution_count": 374
  },
  {
   "cell_type": "code",
   "outputs": [
    {
     "data": {
      "text/plain": "                    date  value\n0    2012-01-01 00:00:01   69.0\n1    2012-01-01 01:00:01   92.0\n2    2012-01-01 02:00:01   96.0\n3    2012-01-01 03:00:01   92.0\n4    2012-01-01 04:00:01   91.0\n...                  ...    ...\n2179 2012-03-31 19:00:01  110.0\n2180 2012-03-31 20:00:01  116.0\n2181 2012-03-31 21:00:01  105.0\n2182 2012-03-31 22:00:01   95.0\n2183 2012-03-31 23:00:01   94.0\n\n[2184 rows x 2 columns]",
      "text/html": "<div>\n<style scoped>\n    .dataframe tbody tr th:only-of-type {\n        vertical-align: middle;\n    }\n\n    .dataframe tbody tr th {\n        vertical-align: top;\n    }\n\n    .dataframe thead th {\n        text-align: right;\n    }\n</style>\n<table border=\"1\" class=\"dataframe\">\n  <thead>\n    <tr style=\"text-align: right;\">\n      <th></th>\n      <th>date</th>\n      <th>value</th>\n    </tr>\n  </thead>\n  <tbody>\n    <tr>\n      <th>0</th>\n      <td>2012-01-01 00:00:01</td>\n      <td>69.0</td>\n    </tr>\n    <tr>\n      <th>1</th>\n      <td>2012-01-01 01:00:01</td>\n      <td>92.0</td>\n    </tr>\n    <tr>\n      <th>2</th>\n      <td>2012-01-01 02:00:01</td>\n      <td>96.0</td>\n    </tr>\n    <tr>\n      <th>3</th>\n      <td>2012-01-01 03:00:01</td>\n      <td>92.0</td>\n    </tr>\n    <tr>\n      <th>4</th>\n      <td>2012-01-01 04:00:01</td>\n      <td>91.0</td>\n    </tr>\n    <tr>\n      <th>...</th>\n      <td>...</td>\n      <td>...</td>\n    </tr>\n    <tr>\n      <th>2179</th>\n      <td>2012-03-31 19:00:01</td>\n      <td>110.0</td>\n    </tr>\n    <tr>\n      <th>2180</th>\n      <td>2012-03-31 20:00:01</td>\n      <td>116.0</td>\n    </tr>\n    <tr>\n      <th>2181</th>\n      <td>2012-03-31 21:00:01</td>\n      <td>105.0</td>\n    </tr>\n    <tr>\n      <th>2182</th>\n      <td>2012-03-31 22:00:01</td>\n      <td>95.0</td>\n    </tr>\n    <tr>\n      <th>2183</th>\n      <td>2012-03-31 23:00:01</td>\n      <td>94.0</td>\n    </tr>\n  </tbody>\n</table>\n<p>2184 rows × 2 columns</p>\n</div>"
     },
     "execution_count": 375,
     "metadata": {},
     "output_type": "execute_result"
    }
   ],
   "source": [
    "df_reduced"
   ],
   "metadata": {
    "collapsed": false,
    "ExecuteTime": {
     "end_time": "2024-01-23T09:58:16.602152320Z",
     "start_time": "2024-01-23T09:58:16.276016242Z"
    }
   },
   "id": "f2466f3a02c14b72",
   "execution_count": 375
  },
  {
   "cell_type": "code",
   "outputs": [
    {
     "name": "stdout",
     "output_type": "stream",
     "text": [
      "<class 'pandas.core.frame.DataFrame'>\n",
      "RangeIndex: 2184 entries, 0 to 2183\n",
      "Data columns (total 2 columns):\n",
      " #   Column  Non-Null Count  Dtype         \n",
      "---  ------  --------------  -----         \n",
      " 0   date    2184 non-null   datetime64[ns]\n",
      " 1   value   2184 non-null   float64       \n",
      "dtypes: datetime64[ns](1), float64(1)\n",
      "memory usage: 34.2 KB\n"
     ]
    }
   ],
   "source": [
    "df_reduced.info()"
   ],
   "metadata": {
    "collapsed": false,
    "ExecuteTime": {
     "end_time": "2024-01-23T09:58:16.608817841Z",
     "start_time": "2024-01-23T09:58:16.276074664Z"
    }
   },
   "id": "13f63846e9f47d24",
   "execution_count": 376
  },
  {
   "cell_type": "code",
   "outputs": [
    {
     "data": {
      "text/plain": "                    date  value\n0    2012-01-01 00:00:01   69.0\n1    2012-01-01 01:00:01   92.0\n2    2012-01-01 02:00:01   96.0\n3    2012-01-01 03:00:01   92.0\n4    2012-01-01 04:00:01   91.0\n...                  ...    ...\n2179 2012-03-31 19:00:01  110.0\n2180 2012-03-31 20:00:01  116.0\n2181 2012-03-31 21:00:01  105.0\n2182 2012-03-31 22:00:01   95.0\n2183 2012-03-31 23:00:01   94.0\n\n[2184 rows x 2 columns]",
      "text/html": "<div>\n<style scoped>\n    .dataframe tbody tr th:only-of-type {\n        vertical-align: middle;\n    }\n\n    .dataframe tbody tr th {\n        vertical-align: top;\n    }\n\n    .dataframe thead th {\n        text-align: right;\n    }\n</style>\n<table border=\"1\" class=\"dataframe\">\n  <thead>\n    <tr style=\"text-align: right;\">\n      <th></th>\n      <th>date</th>\n      <th>value</th>\n    </tr>\n  </thead>\n  <tbody>\n    <tr>\n      <th>0</th>\n      <td>2012-01-01 00:00:01</td>\n      <td>69.0</td>\n    </tr>\n    <tr>\n      <th>1</th>\n      <td>2012-01-01 01:00:01</td>\n      <td>92.0</td>\n    </tr>\n    <tr>\n      <th>2</th>\n      <td>2012-01-01 02:00:01</td>\n      <td>96.0</td>\n    </tr>\n    <tr>\n      <th>3</th>\n      <td>2012-01-01 03:00:01</td>\n      <td>92.0</td>\n    </tr>\n    <tr>\n      <th>4</th>\n      <td>2012-01-01 04:00:01</td>\n      <td>91.0</td>\n    </tr>\n    <tr>\n      <th>...</th>\n      <td>...</td>\n      <td>...</td>\n    </tr>\n    <tr>\n      <th>2179</th>\n      <td>2012-03-31 19:00:01</td>\n      <td>110.0</td>\n    </tr>\n    <tr>\n      <th>2180</th>\n      <td>2012-03-31 20:00:01</td>\n      <td>116.0</td>\n    </tr>\n    <tr>\n      <th>2181</th>\n      <td>2012-03-31 21:00:01</td>\n      <td>105.0</td>\n    </tr>\n    <tr>\n      <th>2182</th>\n      <td>2012-03-31 22:00:01</td>\n      <td>95.0</td>\n    </tr>\n    <tr>\n      <th>2183</th>\n      <td>2012-03-31 23:00:01</td>\n      <td>94.0</td>\n    </tr>\n  </tbody>\n</table>\n<p>2184 rows × 2 columns</p>\n</div>"
     },
     "execution_count": 377,
     "metadata": {},
     "output_type": "execute_result"
    }
   ],
   "source": [
    "df_reduced"
   ],
   "metadata": {
    "collapsed": false,
    "ExecuteTime": {
     "end_time": "2024-01-23T09:58:16.625265130Z",
     "start_time": "2024-01-23T09:58:16.323512252Z"
    }
   },
   "id": "7d98589fcaefc635",
   "execution_count": 377
  },
  {
   "cell_type": "code",
   "outputs": [],
   "source": [],
   "metadata": {
    "collapsed": false,
    "ExecuteTime": {
     "end_time": "2024-01-23T09:57:13.589557640Z",
     "start_time": "2024-01-23T09:57:13.470562598Z"
    }
   },
   "id": "4eb271ff4b662e7f",
   "execution_count": 312
  },
  {
   "cell_type": "code",
   "outputs": [
    {
     "data": {
      "text/plain": "                    date  value                 hour         day        week  \\\n0    2012-01-01 00:00:01   69.0  2012-01-01 00:00:01  2012-01-01  2011-12-26   \n1    2012-01-01 01:00:01   92.0  2012-01-01 01:00:01  2012-01-01  2011-12-26   \n2    2012-01-01 02:00:01   96.0  2012-01-01 02:00:01  2012-01-01  2011-12-26   \n3    2012-01-01 03:00:01   92.0  2012-01-01 03:00:01  2012-01-01  2011-12-26   \n4    2012-01-01 04:00:01   91.0  2012-01-01 04:00:01  2012-01-01  2011-12-26   \n...                  ...    ...                  ...         ...         ...   \n2179 2012-03-31 19:00:01  110.0  2012-03-31 19:00:01  2012-03-31  2012-03-26   \n2180 2012-03-31 20:00:01  116.0  2012-03-31 20:00:01  2012-03-31  2012-03-26   \n2181 2012-03-31 21:00:01  105.0  2012-03-31 21:00:01  2012-03-31  2012-03-26   \n2182 2012-03-31 22:00:01   95.0  2012-03-31 22:00:01  2012-03-31  2012-03-26   \n2183 2012-03-31 23:00:01   94.0  2012-03-31 23:00:01  2012-03-31  2012-03-26   \n\n        month  \n0     2012-01  \n1     2012-01  \n2     2012-01  \n3     2012-01  \n4     2012-01  \n...       ...  \n2179  2012-03  \n2180  2012-03  \n2181  2012-03  \n2182  2012-03  \n2183  2012-03  \n\n[2184 rows x 6 columns]",
      "text/html": "<div>\n<style scoped>\n    .dataframe tbody tr th:only-of-type {\n        vertical-align: middle;\n    }\n\n    .dataframe tbody tr th {\n        vertical-align: top;\n    }\n\n    .dataframe thead th {\n        text-align: right;\n    }\n</style>\n<table border=\"1\" class=\"dataframe\">\n  <thead>\n    <tr style=\"text-align: right;\">\n      <th></th>\n      <th>date</th>\n      <th>value</th>\n      <th>hour</th>\n      <th>day</th>\n      <th>week</th>\n      <th>month</th>\n    </tr>\n  </thead>\n  <tbody>\n    <tr>\n      <th>0</th>\n      <td>2012-01-01 00:00:01</td>\n      <td>69.0</td>\n      <td>2012-01-01 00:00:01</td>\n      <td>2012-01-01</td>\n      <td>2011-12-26</td>\n      <td>2012-01</td>\n    </tr>\n    <tr>\n      <th>1</th>\n      <td>2012-01-01 01:00:01</td>\n      <td>92.0</td>\n      <td>2012-01-01 01:00:01</td>\n      <td>2012-01-01</td>\n      <td>2011-12-26</td>\n      <td>2012-01</td>\n    </tr>\n    <tr>\n      <th>2</th>\n      <td>2012-01-01 02:00:01</td>\n      <td>96.0</td>\n      <td>2012-01-01 02:00:01</td>\n      <td>2012-01-01</td>\n      <td>2011-12-26</td>\n      <td>2012-01</td>\n    </tr>\n    <tr>\n      <th>3</th>\n      <td>2012-01-01 03:00:01</td>\n      <td>92.0</td>\n      <td>2012-01-01 03:00:01</td>\n      <td>2012-01-01</td>\n      <td>2011-12-26</td>\n      <td>2012-01</td>\n    </tr>\n    <tr>\n      <th>4</th>\n      <td>2012-01-01 04:00:01</td>\n      <td>91.0</td>\n      <td>2012-01-01 04:00:01</td>\n      <td>2012-01-01</td>\n      <td>2011-12-26</td>\n      <td>2012-01</td>\n    </tr>\n    <tr>\n      <th>...</th>\n      <td>...</td>\n      <td>...</td>\n      <td>...</td>\n      <td>...</td>\n      <td>...</td>\n      <td>...</td>\n    </tr>\n    <tr>\n      <th>2179</th>\n      <td>2012-03-31 19:00:01</td>\n      <td>110.0</td>\n      <td>2012-03-31 19:00:01</td>\n      <td>2012-03-31</td>\n      <td>2012-03-26</td>\n      <td>2012-03</td>\n    </tr>\n    <tr>\n      <th>2180</th>\n      <td>2012-03-31 20:00:01</td>\n      <td>116.0</td>\n      <td>2012-03-31 20:00:01</td>\n      <td>2012-03-31</td>\n      <td>2012-03-26</td>\n      <td>2012-03</td>\n    </tr>\n    <tr>\n      <th>2181</th>\n      <td>2012-03-31 21:00:01</td>\n      <td>105.0</td>\n      <td>2012-03-31 21:00:01</td>\n      <td>2012-03-31</td>\n      <td>2012-03-26</td>\n      <td>2012-03</td>\n    </tr>\n    <tr>\n      <th>2182</th>\n      <td>2012-03-31 22:00:01</td>\n      <td>95.0</td>\n      <td>2012-03-31 22:00:01</td>\n      <td>2012-03-31</td>\n      <td>2012-03-26</td>\n      <td>2012-03</td>\n    </tr>\n    <tr>\n      <th>2183</th>\n      <td>2012-03-31 23:00:01</td>\n      <td>94.0</td>\n      <td>2012-03-31 23:00:01</td>\n      <td>2012-03-31</td>\n      <td>2012-03-26</td>\n      <td>2012-03</td>\n    </tr>\n  </tbody>\n</table>\n<p>2184 rows × 6 columns</p>\n</div>"
     },
     "execution_count": 378,
     "metadata": {},
     "output_type": "execute_result"
    }
   ],
   "source": [
    "# Добавление столбцов 'hour', 'day' и 'week'\n",
    "df_reduced['hour'] = df_reduced['date'].astype(str)\n",
    "df_reduced['day'] = df_reduced['date'].dt.strftime('%Y-%m-%d %H:%M:%S').apply(lambda x: x.split(' ')[0]).astype(str)\n",
    "df_reduced['week'] = df_reduced['date'].dt.to_period(\"W-SUN\").apply(lambda x: x.start_time).astype(str)\n",
    "df_reduced['month'] = df_reduced['date'].dt.strftime('%Y-%m').astype(str)\n",
    "\n",
    "# Вывод результата\n",
    "df_reduced"
   ],
   "metadata": {
    "collapsed": false,
    "ExecuteTime": {
     "end_time": "2024-01-23T10:04:04.312356030Z",
     "start_time": "2024-01-23T10:04:03.885254581Z"
    }
   },
   "id": "7ffde26b432a9ddb",
   "execution_count": 378
  },
  {
   "cell_type": "code",
   "outputs": [],
   "source": [
    "df_reduced['date'] = df_reduced['month'].astype(str)"
   ],
   "metadata": {
    "collapsed": false,
    "ExecuteTime": {
     "end_time": "2024-01-23T10:06:18.194852795Z",
     "start_time": "2024-01-23T10:06:18.087796052Z"
    }
   },
   "id": "f2d4c6723eac1d81",
   "execution_count": 380
  },
  {
   "cell_type": "code",
   "outputs": [
    {
     "name": "stdout",
     "output_type": "stream",
     "text": [
      "<class 'pandas.core.frame.DataFrame'>\n",
      "RangeIndex: 2184 entries, 0 to 2183\n",
      "Data columns (total 6 columns):\n",
      " #   Column  Non-Null Count  Dtype  \n",
      "---  ------  --------------  -----  \n",
      " 0   date    2184 non-null   object \n",
      " 1   value   2184 non-null   float64\n",
      " 2   hour    2184 non-null   object \n",
      " 3   day     2184 non-null   object \n",
      " 4   week    2184 non-null   object \n",
      " 5   month   2184 non-null   object \n",
      "dtypes: float64(1), object(5)\n",
      "memory usage: 102.5+ KB\n"
     ]
    }
   ],
   "source": [
    "df_reduced.info()"
   ],
   "metadata": {
    "collapsed": false,
    "ExecuteTime": {
     "end_time": "2024-01-23T10:06:20.009875841Z",
     "start_time": "2024-01-23T10:06:19.059605773Z"
    }
   },
   "id": "81a336de57c1fafa",
   "execution_count": 381
  },
  {
   "cell_type": "code",
   "outputs": [
    {
     "data": {
      "text/plain": "           ds      y                 hour         day        week    month\n0     2012-01   69.0  2012-01-01 00:00:01  2012-01-01  2011-12-26  2012-01\n1     2012-01   92.0  2012-01-01 01:00:01  2012-01-01  2011-12-26  2012-01\n2     2012-01   96.0  2012-01-01 02:00:01  2012-01-01  2011-12-26  2012-01\n3     2012-01   92.0  2012-01-01 03:00:01  2012-01-01  2011-12-26  2012-01\n4     2012-01   91.0  2012-01-01 04:00:01  2012-01-01  2011-12-26  2012-01\n...       ...    ...                  ...         ...         ...      ...\n2179  2012-03  110.0  2012-03-31 19:00:01  2012-03-31  2012-03-26  2012-03\n2180  2012-03  116.0  2012-03-31 20:00:01  2012-03-31  2012-03-26  2012-03\n2181  2012-03  105.0  2012-03-31 21:00:01  2012-03-31  2012-03-26  2012-03\n2182  2012-03   95.0  2012-03-31 22:00:01  2012-03-31  2012-03-26  2012-03\n2183  2012-03   94.0  2012-03-31 23:00:01  2012-03-31  2012-03-26  2012-03\n\n[2184 rows x 6 columns]",
      "text/html": "<div>\n<style scoped>\n    .dataframe tbody tr th:only-of-type {\n        vertical-align: middle;\n    }\n\n    .dataframe tbody tr th {\n        vertical-align: top;\n    }\n\n    .dataframe thead th {\n        text-align: right;\n    }\n</style>\n<table border=\"1\" class=\"dataframe\">\n  <thead>\n    <tr style=\"text-align: right;\">\n      <th></th>\n      <th>ds</th>\n      <th>y</th>\n      <th>hour</th>\n      <th>day</th>\n      <th>week</th>\n      <th>month</th>\n    </tr>\n  </thead>\n  <tbody>\n    <tr>\n      <th>0</th>\n      <td>2012-01</td>\n      <td>69.0</td>\n      <td>2012-01-01 00:00:01</td>\n      <td>2012-01-01</td>\n      <td>2011-12-26</td>\n      <td>2012-01</td>\n    </tr>\n    <tr>\n      <th>1</th>\n      <td>2012-01</td>\n      <td>92.0</td>\n      <td>2012-01-01 01:00:01</td>\n      <td>2012-01-01</td>\n      <td>2011-12-26</td>\n      <td>2012-01</td>\n    </tr>\n    <tr>\n      <th>2</th>\n      <td>2012-01</td>\n      <td>96.0</td>\n      <td>2012-01-01 02:00:01</td>\n      <td>2012-01-01</td>\n      <td>2011-12-26</td>\n      <td>2012-01</td>\n    </tr>\n    <tr>\n      <th>3</th>\n      <td>2012-01</td>\n      <td>92.0</td>\n      <td>2012-01-01 03:00:01</td>\n      <td>2012-01-01</td>\n      <td>2011-12-26</td>\n      <td>2012-01</td>\n    </tr>\n    <tr>\n      <th>4</th>\n      <td>2012-01</td>\n      <td>91.0</td>\n      <td>2012-01-01 04:00:01</td>\n      <td>2012-01-01</td>\n      <td>2011-12-26</td>\n      <td>2012-01</td>\n    </tr>\n    <tr>\n      <th>...</th>\n      <td>...</td>\n      <td>...</td>\n      <td>...</td>\n      <td>...</td>\n      <td>...</td>\n      <td>...</td>\n    </tr>\n    <tr>\n      <th>2179</th>\n      <td>2012-03</td>\n      <td>110.0</td>\n      <td>2012-03-31 19:00:01</td>\n      <td>2012-03-31</td>\n      <td>2012-03-26</td>\n      <td>2012-03</td>\n    </tr>\n    <tr>\n      <th>2180</th>\n      <td>2012-03</td>\n      <td>116.0</td>\n      <td>2012-03-31 20:00:01</td>\n      <td>2012-03-31</td>\n      <td>2012-03-26</td>\n      <td>2012-03</td>\n    </tr>\n    <tr>\n      <th>2181</th>\n      <td>2012-03</td>\n      <td>105.0</td>\n      <td>2012-03-31 21:00:01</td>\n      <td>2012-03-31</td>\n      <td>2012-03-26</td>\n      <td>2012-03</td>\n    </tr>\n    <tr>\n      <th>2182</th>\n      <td>2012-03</td>\n      <td>95.0</td>\n      <td>2012-03-31 22:00:01</td>\n      <td>2012-03-31</td>\n      <td>2012-03-26</td>\n      <td>2012-03</td>\n    </tr>\n    <tr>\n      <th>2183</th>\n      <td>2012-03</td>\n      <td>94.0</td>\n      <td>2012-03-31 23:00:01</td>\n      <td>2012-03-31</td>\n      <td>2012-03-26</td>\n      <td>2012-03</td>\n    </tr>\n  </tbody>\n</table>\n<p>2184 rows × 6 columns</p>\n</div>"
     },
     "execution_count": 382,
     "metadata": {},
     "output_type": "execute_result"
    }
   ],
   "source": [
    "df_reduced = df_reduced.rename(columns={'value':'y', 'date':'ds'})\n",
    "df_reduced"
   ],
   "metadata": {
    "collapsed": false,
    "ExecuteTime": {
     "end_time": "2024-01-23T10:06:36.763876475Z",
     "start_time": "2024-01-23T10:06:36.369033974Z"
    }
   },
   "id": "fa32bca4d17b4055",
   "execution_count": 382
  },
  {
   "cell_type": "code",
   "outputs": [
    {
     "name": "stdout",
     "output_type": "stream",
     "text": [
      "S_df.shape (2294, 2184)\n",
      "Y_hier_df.shape (2294, 3)\n",
      "tags['month'] ['2012-01' '2012-02' '2012-03']\n"
     ]
    },
    {
     "name": "stderr",
     "output_type": "stream",
     "text": [
      "/home/olga/hse_master/develop_tools/fast_api/fast_api_tutorial/venv/lib/python3.10/site-packages/sklearn/preprocessing/_encoders.py:975: FutureWarning: `sparse` was renamed to `sparse_output` in version 1.2 and will be removed in 1.4. `sparse_output` is ignored unless you leave `sparse` to its default value.\n",
      "  warnings.warn(\n"
     ]
    }
   ],
   "source": [
    "# Create hierarchical structure and constraints\n",
    "hierarchy_levels = [\n",
    "    ['month'],\n",
    "    ['month', 'week'],\n",
    "    ['month', 'week', 'day'],\n",
    "    ['month', 'week', 'day', 'hour']\n",
    "  ]\n",
    "Y_hier_df, S_df, tags = aggregate(df=df_reduced, spec=hierarchy_levels)\n",
    "Y_hier_df = Y_hier_df.reset_index()\n",
    "print('S_df.shape', S_df.shape)\n",
    "print('Y_hier_df.shape', Y_hier_df.shape)\n",
    "print(\"tags['month']\", tags['month'])"
   ],
   "metadata": {
    "collapsed": false,
    "ExecuteTime": {
     "end_time": "2024-01-23T10:07:36.259846765Z",
     "start_time": "2024-01-23T10:07:35.916191346Z"
    }
   },
   "id": "e73fefceafc74a8d",
   "execution_count": 383
  },
  {
   "cell_type": "code",
   "outputs": [
    {
     "data": {
      "text/plain": "array(['2012-01', '2012-02', '2012-03', ...,\n       '2012-03/2012-03-26/2012-03-31/2012-03-31 21:00:01',\n       '2012-03/2012-03-26/2012-03-31/2012-03-31 22:00:01',\n       '2012-03/2012-03-26/2012-03-31/2012-03-31 23:00:01'], dtype=object)"
     },
     "execution_count": 385,
     "metadata": {},
     "output_type": "execute_result"
    }
   ],
   "source": [
    "Y_hier_df[\"unique_id\"].unique()"
   ],
   "metadata": {
    "collapsed": false,
    "ExecuteTime": {
     "end_time": "2024-01-23T10:09:06.442840660Z",
     "start_time": "2024-01-23T10:09:06.367710777Z"
    }
   },
   "id": "f6f15ebe5f6c1f25",
   "execution_count": 385
  },
  {
   "cell_type": "code",
   "outputs": [
    {
     "data": {
      "text/plain": "                                                   2012-01/2011-12-26/2012-01-01/2012-01-01 00:00:01  \\\n2012-01                                                                                          1.0   \n2012-02                                                                                          0.0   \n2012-03                                                                                          0.0   \n2012-01/2011-12-26                                                                               1.0   \n2012-01/2012-01-02                                                                               0.0   \n...                                                                                              ...   \n2012-03/2012-03-26/2012-03-31/2012-03-31 19:00:01                                                0.0   \n2012-03/2012-03-26/2012-03-31/2012-03-31 20:00:01                                                0.0   \n2012-03/2012-03-26/2012-03-31/2012-03-31 21:00:01                                                0.0   \n2012-03/2012-03-26/2012-03-31/2012-03-31 22:00:01                                                0.0   \n2012-03/2012-03-26/2012-03-31/2012-03-31 23:00:01                                                0.0   \n\n                                                   2012-01/2011-12-26/2012-01-01/2012-01-01 01:00:01  \\\n2012-01                                                                                          1.0   \n2012-02                                                                                          0.0   \n2012-03                                                                                          0.0   \n2012-01/2011-12-26                                                                               1.0   \n2012-01/2012-01-02                                                                               0.0   \n...                                                                                              ...   \n2012-03/2012-03-26/2012-03-31/2012-03-31 19:00:01                                                0.0   \n2012-03/2012-03-26/2012-03-31/2012-03-31 20:00:01                                                0.0   \n2012-03/2012-03-26/2012-03-31/2012-03-31 21:00:01                                                0.0   \n2012-03/2012-03-26/2012-03-31/2012-03-31 22:00:01                                                0.0   \n2012-03/2012-03-26/2012-03-31/2012-03-31 23:00:01                                                0.0   \n\n                                                   2012-01/2011-12-26/2012-01-01/2012-01-01 02:00:01  \\\n2012-01                                                                                          1.0   \n2012-02                                                                                          0.0   \n2012-03                                                                                          0.0   \n2012-01/2011-12-26                                                                               1.0   \n2012-01/2012-01-02                                                                               0.0   \n...                                                                                              ...   \n2012-03/2012-03-26/2012-03-31/2012-03-31 19:00:01                                                0.0   \n2012-03/2012-03-26/2012-03-31/2012-03-31 20:00:01                                                0.0   \n2012-03/2012-03-26/2012-03-31/2012-03-31 21:00:01                                                0.0   \n2012-03/2012-03-26/2012-03-31/2012-03-31 22:00:01                                                0.0   \n2012-03/2012-03-26/2012-03-31/2012-03-31 23:00:01                                                0.0   \n\n                                                   2012-01/2011-12-26/2012-01-01/2012-01-01 03:00:01  \\\n2012-01                                                                                          1.0   \n2012-02                                                                                          0.0   \n2012-03                                                                                          0.0   \n2012-01/2011-12-26                                                                               1.0   \n2012-01/2012-01-02                                                                               0.0   \n...                                                                                              ...   \n2012-03/2012-03-26/2012-03-31/2012-03-31 19:00:01                                                0.0   \n2012-03/2012-03-26/2012-03-31/2012-03-31 20:00:01                                                0.0   \n2012-03/2012-03-26/2012-03-31/2012-03-31 21:00:01                                                0.0   \n2012-03/2012-03-26/2012-03-31/2012-03-31 22:00:01                                                0.0   \n2012-03/2012-03-26/2012-03-31/2012-03-31 23:00:01                                                0.0   \n\n                                                   2012-01/2011-12-26/2012-01-01/2012-01-01 04:00:01  \\\n2012-01                                                                                          1.0   \n2012-02                                                                                          0.0   \n2012-03                                                                                          0.0   \n2012-01/2011-12-26                                                                               1.0   \n2012-01/2012-01-02                                                                               0.0   \n...                                                                                              ...   \n2012-03/2012-03-26/2012-03-31/2012-03-31 19:00:01                                                0.0   \n2012-03/2012-03-26/2012-03-31/2012-03-31 20:00:01                                                0.0   \n2012-03/2012-03-26/2012-03-31/2012-03-31 21:00:01                                                0.0   \n2012-03/2012-03-26/2012-03-31/2012-03-31 22:00:01                                                0.0   \n2012-03/2012-03-26/2012-03-31/2012-03-31 23:00:01                                                0.0   \n\n                                                   2012-01/2011-12-26/2012-01-01/2012-01-01 05:00:01  \\\n2012-01                                                                                          1.0   \n2012-02                                                                                          0.0   \n2012-03                                                                                          0.0   \n2012-01/2011-12-26                                                                               1.0   \n2012-01/2012-01-02                                                                               0.0   \n...                                                                                              ...   \n2012-03/2012-03-26/2012-03-31/2012-03-31 19:00:01                                                0.0   \n2012-03/2012-03-26/2012-03-31/2012-03-31 20:00:01                                                0.0   \n2012-03/2012-03-26/2012-03-31/2012-03-31 21:00:01                                                0.0   \n2012-03/2012-03-26/2012-03-31/2012-03-31 22:00:01                                                0.0   \n2012-03/2012-03-26/2012-03-31/2012-03-31 23:00:01                                                0.0   \n\n                                                   2012-01/2011-12-26/2012-01-01/2012-01-01 06:00:01  \\\n2012-01                                                                                          1.0   \n2012-02                                                                                          0.0   \n2012-03                                                                                          0.0   \n2012-01/2011-12-26                                                                               1.0   \n2012-01/2012-01-02                                                                               0.0   \n...                                                                                              ...   \n2012-03/2012-03-26/2012-03-31/2012-03-31 19:00:01                                                0.0   \n2012-03/2012-03-26/2012-03-31/2012-03-31 20:00:01                                                0.0   \n2012-03/2012-03-26/2012-03-31/2012-03-31 21:00:01                                                0.0   \n2012-03/2012-03-26/2012-03-31/2012-03-31 22:00:01                                                0.0   \n2012-03/2012-03-26/2012-03-31/2012-03-31 23:00:01                                                0.0   \n\n                                                   2012-01/2011-12-26/2012-01-01/2012-01-01 07:00:01  \\\n2012-01                                                                                          1.0   \n2012-02                                                                                          0.0   \n2012-03                                                                                          0.0   \n2012-01/2011-12-26                                                                               1.0   \n2012-01/2012-01-02                                                                               0.0   \n...                                                                                              ...   \n2012-03/2012-03-26/2012-03-31/2012-03-31 19:00:01                                                0.0   \n2012-03/2012-03-26/2012-03-31/2012-03-31 20:00:01                                                0.0   \n2012-03/2012-03-26/2012-03-31/2012-03-31 21:00:01                                                0.0   \n2012-03/2012-03-26/2012-03-31/2012-03-31 22:00:01                                                0.0   \n2012-03/2012-03-26/2012-03-31/2012-03-31 23:00:01                                                0.0   \n\n                                                   2012-01/2011-12-26/2012-01-01/2012-01-01 08:00:01  \\\n2012-01                                                                                          1.0   \n2012-02                                                                                          0.0   \n2012-03                                                                                          0.0   \n2012-01/2011-12-26                                                                               1.0   \n2012-01/2012-01-02                                                                               0.0   \n...                                                                                              ...   \n2012-03/2012-03-26/2012-03-31/2012-03-31 19:00:01                                                0.0   \n2012-03/2012-03-26/2012-03-31/2012-03-31 20:00:01                                                0.0   \n2012-03/2012-03-26/2012-03-31/2012-03-31 21:00:01                                                0.0   \n2012-03/2012-03-26/2012-03-31/2012-03-31 22:00:01                                                0.0   \n2012-03/2012-03-26/2012-03-31/2012-03-31 23:00:01                                                0.0   \n\n                                                   2012-01/2011-12-26/2012-01-01/2012-01-01 09:00:01  \\\n2012-01                                                                                          1.0   \n2012-02                                                                                          0.0   \n2012-03                                                                                          0.0   \n2012-01/2011-12-26                                                                               1.0   \n2012-01/2012-01-02                                                                               0.0   \n...                                                                                              ...   \n2012-03/2012-03-26/2012-03-31/2012-03-31 19:00:01                                                0.0   \n2012-03/2012-03-26/2012-03-31/2012-03-31 20:00:01                                                0.0   \n2012-03/2012-03-26/2012-03-31/2012-03-31 21:00:01                                                0.0   \n2012-03/2012-03-26/2012-03-31/2012-03-31 22:00:01                                                0.0   \n2012-03/2012-03-26/2012-03-31/2012-03-31 23:00:01                                                0.0   \n\n                                                   ...  \\\n2012-01                                            ...   \n2012-02                                            ...   \n2012-03                                            ...   \n2012-01/2011-12-26                                 ...   \n2012-01/2012-01-02                                 ...   \n...                                                ...   \n2012-03/2012-03-26/2012-03-31/2012-03-31 19:00:01  ...   \n2012-03/2012-03-26/2012-03-31/2012-03-31 20:00:01  ...   \n2012-03/2012-03-26/2012-03-31/2012-03-31 21:00:01  ...   \n2012-03/2012-03-26/2012-03-31/2012-03-31 22:00:01  ...   \n2012-03/2012-03-26/2012-03-31/2012-03-31 23:00:01  ...   \n\n                                                   2012-03/2012-03-26/2012-03-31/2012-03-31 14:00:01  \\\n2012-01                                                                                          0.0   \n2012-02                                                                                          0.0   \n2012-03                                                                                          1.0   \n2012-01/2011-12-26                                                                               0.0   \n2012-01/2012-01-02                                                                               0.0   \n...                                                                                              ...   \n2012-03/2012-03-26/2012-03-31/2012-03-31 19:00:01                                                0.0   \n2012-03/2012-03-26/2012-03-31/2012-03-31 20:00:01                                                0.0   \n2012-03/2012-03-26/2012-03-31/2012-03-31 21:00:01                                                0.0   \n2012-03/2012-03-26/2012-03-31/2012-03-31 22:00:01                                                0.0   \n2012-03/2012-03-26/2012-03-31/2012-03-31 23:00:01                                                0.0   \n\n                                                   2012-03/2012-03-26/2012-03-31/2012-03-31 15:00:01  \\\n2012-01                                                                                          0.0   \n2012-02                                                                                          0.0   \n2012-03                                                                                          1.0   \n2012-01/2011-12-26                                                                               0.0   \n2012-01/2012-01-02                                                                               0.0   \n...                                                                                              ...   \n2012-03/2012-03-26/2012-03-31/2012-03-31 19:00:01                                                0.0   \n2012-03/2012-03-26/2012-03-31/2012-03-31 20:00:01                                                0.0   \n2012-03/2012-03-26/2012-03-31/2012-03-31 21:00:01                                                0.0   \n2012-03/2012-03-26/2012-03-31/2012-03-31 22:00:01                                                0.0   \n2012-03/2012-03-26/2012-03-31/2012-03-31 23:00:01                                                0.0   \n\n                                                   2012-03/2012-03-26/2012-03-31/2012-03-31 16:00:01  \\\n2012-01                                                                                          0.0   \n2012-02                                                                                          0.0   \n2012-03                                                                                          1.0   \n2012-01/2011-12-26                                                                               0.0   \n2012-01/2012-01-02                                                                               0.0   \n...                                                                                              ...   \n2012-03/2012-03-26/2012-03-31/2012-03-31 19:00:01                                                0.0   \n2012-03/2012-03-26/2012-03-31/2012-03-31 20:00:01                                                0.0   \n2012-03/2012-03-26/2012-03-31/2012-03-31 21:00:01                                                0.0   \n2012-03/2012-03-26/2012-03-31/2012-03-31 22:00:01                                                0.0   \n2012-03/2012-03-26/2012-03-31/2012-03-31 23:00:01                                                0.0   \n\n                                                   2012-03/2012-03-26/2012-03-31/2012-03-31 17:00:01  \\\n2012-01                                                                                          0.0   \n2012-02                                                                                          0.0   \n2012-03                                                                                          1.0   \n2012-01/2011-12-26                                                                               0.0   \n2012-01/2012-01-02                                                                               0.0   \n...                                                                                              ...   \n2012-03/2012-03-26/2012-03-31/2012-03-31 19:00:01                                                0.0   \n2012-03/2012-03-26/2012-03-31/2012-03-31 20:00:01                                                0.0   \n2012-03/2012-03-26/2012-03-31/2012-03-31 21:00:01                                                0.0   \n2012-03/2012-03-26/2012-03-31/2012-03-31 22:00:01                                                0.0   \n2012-03/2012-03-26/2012-03-31/2012-03-31 23:00:01                                                0.0   \n\n                                                   2012-03/2012-03-26/2012-03-31/2012-03-31 18:00:01  \\\n2012-01                                                                                          0.0   \n2012-02                                                                                          0.0   \n2012-03                                                                                          1.0   \n2012-01/2011-12-26                                                                               0.0   \n2012-01/2012-01-02                                                                               0.0   \n...                                                                                              ...   \n2012-03/2012-03-26/2012-03-31/2012-03-31 19:00:01                                                0.0   \n2012-03/2012-03-26/2012-03-31/2012-03-31 20:00:01                                                0.0   \n2012-03/2012-03-26/2012-03-31/2012-03-31 21:00:01                                                0.0   \n2012-03/2012-03-26/2012-03-31/2012-03-31 22:00:01                                                0.0   \n2012-03/2012-03-26/2012-03-31/2012-03-31 23:00:01                                                0.0   \n\n                                                   2012-03/2012-03-26/2012-03-31/2012-03-31 19:00:01  \\\n2012-01                                                                                          0.0   \n2012-02                                                                                          0.0   \n2012-03                                                                                          1.0   \n2012-01/2011-12-26                                                                               0.0   \n2012-01/2012-01-02                                                                               0.0   \n...                                                                                              ...   \n2012-03/2012-03-26/2012-03-31/2012-03-31 19:00:01                                                1.0   \n2012-03/2012-03-26/2012-03-31/2012-03-31 20:00:01                                                0.0   \n2012-03/2012-03-26/2012-03-31/2012-03-31 21:00:01                                                0.0   \n2012-03/2012-03-26/2012-03-31/2012-03-31 22:00:01                                                0.0   \n2012-03/2012-03-26/2012-03-31/2012-03-31 23:00:01                                                0.0   \n\n                                                   2012-03/2012-03-26/2012-03-31/2012-03-31 20:00:01  \\\n2012-01                                                                                          0.0   \n2012-02                                                                                          0.0   \n2012-03                                                                                          1.0   \n2012-01/2011-12-26                                                                               0.0   \n2012-01/2012-01-02                                                                               0.0   \n...                                                                                              ...   \n2012-03/2012-03-26/2012-03-31/2012-03-31 19:00:01                                                0.0   \n2012-03/2012-03-26/2012-03-31/2012-03-31 20:00:01                                                1.0   \n2012-03/2012-03-26/2012-03-31/2012-03-31 21:00:01                                                0.0   \n2012-03/2012-03-26/2012-03-31/2012-03-31 22:00:01                                                0.0   \n2012-03/2012-03-26/2012-03-31/2012-03-31 23:00:01                                                0.0   \n\n                                                   2012-03/2012-03-26/2012-03-31/2012-03-31 21:00:01  \\\n2012-01                                                                                          0.0   \n2012-02                                                                                          0.0   \n2012-03                                                                                          1.0   \n2012-01/2011-12-26                                                                               0.0   \n2012-01/2012-01-02                                                                               0.0   \n...                                                                                              ...   \n2012-03/2012-03-26/2012-03-31/2012-03-31 19:00:01                                                0.0   \n2012-03/2012-03-26/2012-03-31/2012-03-31 20:00:01                                                0.0   \n2012-03/2012-03-26/2012-03-31/2012-03-31 21:00:01                                                1.0   \n2012-03/2012-03-26/2012-03-31/2012-03-31 22:00:01                                                0.0   \n2012-03/2012-03-26/2012-03-31/2012-03-31 23:00:01                                                0.0   \n\n                                                   2012-03/2012-03-26/2012-03-31/2012-03-31 22:00:01  \\\n2012-01                                                                                          0.0   \n2012-02                                                                                          0.0   \n2012-03                                                                                          1.0   \n2012-01/2011-12-26                                                                               0.0   \n2012-01/2012-01-02                                                                               0.0   \n...                                                                                              ...   \n2012-03/2012-03-26/2012-03-31/2012-03-31 19:00:01                                                0.0   \n2012-03/2012-03-26/2012-03-31/2012-03-31 20:00:01                                                0.0   \n2012-03/2012-03-26/2012-03-31/2012-03-31 21:00:01                                                0.0   \n2012-03/2012-03-26/2012-03-31/2012-03-31 22:00:01                                                1.0   \n2012-03/2012-03-26/2012-03-31/2012-03-31 23:00:01                                                0.0   \n\n                                                   2012-03/2012-03-26/2012-03-31/2012-03-31 23:00:01  \n2012-01                                                                                          0.0  \n2012-02                                                                                          0.0  \n2012-03                                                                                          1.0  \n2012-01/2011-12-26                                                                               0.0  \n2012-01/2012-01-02                                                                               0.0  \n...                                                                                              ...  \n2012-03/2012-03-26/2012-03-31/2012-03-31 19:00:01                                                0.0  \n2012-03/2012-03-26/2012-03-31/2012-03-31 20:00:01                                                0.0  \n2012-03/2012-03-26/2012-03-31/2012-03-31 21:00:01                                                0.0  \n2012-03/2012-03-26/2012-03-31/2012-03-31 22:00:01                                                0.0  \n2012-03/2012-03-26/2012-03-31/2012-03-31 23:00:01                                                1.0  \n\n[2294 rows x 2184 columns]",
      "text/html": "<div>\n<style scoped>\n    .dataframe tbody tr th:only-of-type {\n        vertical-align: middle;\n    }\n\n    .dataframe tbody tr th {\n        vertical-align: top;\n    }\n\n    .dataframe thead th {\n        text-align: right;\n    }\n</style>\n<table border=\"1\" class=\"dataframe\">\n  <thead>\n    <tr style=\"text-align: right;\">\n      <th></th>\n      <th>2012-01/2011-12-26/2012-01-01/2012-01-01 00:00:01</th>\n      <th>2012-01/2011-12-26/2012-01-01/2012-01-01 01:00:01</th>\n      <th>2012-01/2011-12-26/2012-01-01/2012-01-01 02:00:01</th>\n      <th>2012-01/2011-12-26/2012-01-01/2012-01-01 03:00:01</th>\n      <th>2012-01/2011-12-26/2012-01-01/2012-01-01 04:00:01</th>\n      <th>2012-01/2011-12-26/2012-01-01/2012-01-01 05:00:01</th>\n      <th>2012-01/2011-12-26/2012-01-01/2012-01-01 06:00:01</th>\n      <th>2012-01/2011-12-26/2012-01-01/2012-01-01 07:00:01</th>\n      <th>2012-01/2011-12-26/2012-01-01/2012-01-01 08:00:01</th>\n      <th>2012-01/2011-12-26/2012-01-01/2012-01-01 09:00:01</th>\n      <th>...</th>\n      <th>2012-03/2012-03-26/2012-03-31/2012-03-31 14:00:01</th>\n      <th>2012-03/2012-03-26/2012-03-31/2012-03-31 15:00:01</th>\n      <th>2012-03/2012-03-26/2012-03-31/2012-03-31 16:00:01</th>\n      <th>2012-03/2012-03-26/2012-03-31/2012-03-31 17:00:01</th>\n      <th>2012-03/2012-03-26/2012-03-31/2012-03-31 18:00:01</th>\n      <th>2012-03/2012-03-26/2012-03-31/2012-03-31 19:00:01</th>\n      <th>2012-03/2012-03-26/2012-03-31/2012-03-31 20:00:01</th>\n      <th>2012-03/2012-03-26/2012-03-31/2012-03-31 21:00:01</th>\n      <th>2012-03/2012-03-26/2012-03-31/2012-03-31 22:00:01</th>\n      <th>2012-03/2012-03-26/2012-03-31/2012-03-31 23:00:01</th>\n    </tr>\n  </thead>\n  <tbody>\n    <tr>\n      <th>2012-01</th>\n      <td>1.0</td>\n      <td>1.0</td>\n      <td>1.0</td>\n      <td>1.0</td>\n      <td>1.0</td>\n      <td>1.0</td>\n      <td>1.0</td>\n      <td>1.0</td>\n      <td>1.0</td>\n      <td>1.0</td>\n      <td>...</td>\n      <td>0.0</td>\n      <td>0.0</td>\n      <td>0.0</td>\n      <td>0.0</td>\n      <td>0.0</td>\n      <td>0.0</td>\n      <td>0.0</td>\n      <td>0.0</td>\n      <td>0.0</td>\n      <td>0.0</td>\n    </tr>\n    <tr>\n      <th>2012-02</th>\n      <td>0.0</td>\n      <td>0.0</td>\n      <td>0.0</td>\n      <td>0.0</td>\n      <td>0.0</td>\n      <td>0.0</td>\n      <td>0.0</td>\n      <td>0.0</td>\n      <td>0.0</td>\n      <td>0.0</td>\n      <td>...</td>\n      <td>0.0</td>\n      <td>0.0</td>\n      <td>0.0</td>\n      <td>0.0</td>\n      <td>0.0</td>\n      <td>0.0</td>\n      <td>0.0</td>\n      <td>0.0</td>\n      <td>0.0</td>\n      <td>0.0</td>\n    </tr>\n    <tr>\n      <th>2012-03</th>\n      <td>0.0</td>\n      <td>0.0</td>\n      <td>0.0</td>\n      <td>0.0</td>\n      <td>0.0</td>\n      <td>0.0</td>\n      <td>0.0</td>\n      <td>0.0</td>\n      <td>0.0</td>\n      <td>0.0</td>\n      <td>...</td>\n      <td>1.0</td>\n      <td>1.0</td>\n      <td>1.0</td>\n      <td>1.0</td>\n      <td>1.0</td>\n      <td>1.0</td>\n      <td>1.0</td>\n      <td>1.0</td>\n      <td>1.0</td>\n      <td>1.0</td>\n    </tr>\n    <tr>\n      <th>2012-01/2011-12-26</th>\n      <td>1.0</td>\n      <td>1.0</td>\n      <td>1.0</td>\n      <td>1.0</td>\n      <td>1.0</td>\n      <td>1.0</td>\n      <td>1.0</td>\n      <td>1.0</td>\n      <td>1.0</td>\n      <td>1.0</td>\n      <td>...</td>\n      <td>0.0</td>\n      <td>0.0</td>\n      <td>0.0</td>\n      <td>0.0</td>\n      <td>0.0</td>\n      <td>0.0</td>\n      <td>0.0</td>\n      <td>0.0</td>\n      <td>0.0</td>\n      <td>0.0</td>\n    </tr>\n    <tr>\n      <th>2012-01/2012-01-02</th>\n      <td>0.0</td>\n      <td>0.0</td>\n      <td>0.0</td>\n      <td>0.0</td>\n      <td>0.0</td>\n      <td>0.0</td>\n      <td>0.0</td>\n      <td>0.0</td>\n      <td>0.0</td>\n      <td>0.0</td>\n      <td>...</td>\n      <td>0.0</td>\n      <td>0.0</td>\n      <td>0.0</td>\n      <td>0.0</td>\n      <td>0.0</td>\n      <td>0.0</td>\n      <td>0.0</td>\n      <td>0.0</td>\n      <td>0.0</td>\n      <td>0.0</td>\n    </tr>\n    <tr>\n      <th>...</th>\n      <td>...</td>\n      <td>...</td>\n      <td>...</td>\n      <td>...</td>\n      <td>...</td>\n      <td>...</td>\n      <td>...</td>\n      <td>...</td>\n      <td>...</td>\n      <td>...</td>\n      <td>...</td>\n      <td>...</td>\n      <td>...</td>\n      <td>...</td>\n      <td>...</td>\n      <td>...</td>\n      <td>...</td>\n      <td>...</td>\n      <td>...</td>\n      <td>...</td>\n      <td>...</td>\n    </tr>\n    <tr>\n      <th>2012-03/2012-03-26/2012-03-31/2012-03-31 19:00:01</th>\n      <td>0.0</td>\n      <td>0.0</td>\n      <td>0.0</td>\n      <td>0.0</td>\n      <td>0.0</td>\n      <td>0.0</td>\n      <td>0.0</td>\n      <td>0.0</td>\n      <td>0.0</td>\n      <td>0.0</td>\n      <td>...</td>\n      <td>0.0</td>\n      <td>0.0</td>\n      <td>0.0</td>\n      <td>0.0</td>\n      <td>0.0</td>\n      <td>1.0</td>\n      <td>0.0</td>\n      <td>0.0</td>\n      <td>0.0</td>\n      <td>0.0</td>\n    </tr>\n    <tr>\n      <th>2012-03/2012-03-26/2012-03-31/2012-03-31 20:00:01</th>\n      <td>0.0</td>\n      <td>0.0</td>\n      <td>0.0</td>\n      <td>0.0</td>\n      <td>0.0</td>\n      <td>0.0</td>\n      <td>0.0</td>\n      <td>0.0</td>\n      <td>0.0</td>\n      <td>0.0</td>\n      <td>...</td>\n      <td>0.0</td>\n      <td>0.0</td>\n      <td>0.0</td>\n      <td>0.0</td>\n      <td>0.0</td>\n      <td>0.0</td>\n      <td>1.0</td>\n      <td>0.0</td>\n      <td>0.0</td>\n      <td>0.0</td>\n    </tr>\n    <tr>\n      <th>2012-03/2012-03-26/2012-03-31/2012-03-31 21:00:01</th>\n      <td>0.0</td>\n      <td>0.0</td>\n      <td>0.0</td>\n      <td>0.0</td>\n      <td>0.0</td>\n      <td>0.0</td>\n      <td>0.0</td>\n      <td>0.0</td>\n      <td>0.0</td>\n      <td>0.0</td>\n      <td>...</td>\n      <td>0.0</td>\n      <td>0.0</td>\n      <td>0.0</td>\n      <td>0.0</td>\n      <td>0.0</td>\n      <td>0.0</td>\n      <td>0.0</td>\n      <td>1.0</td>\n      <td>0.0</td>\n      <td>0.0</td>\n    </tr>\n    <tr>\n      <th>2012-03/2012-03-26/2012-03-31/2012-03-31 22:00:01</th>\n      <td>0.0</td>\n      <td>0.0</td>\n      <td>0.0</td>\n      <td>0.0</td>\n      <td>0.0</td>\n      <td>0.0</td>\n      <td>0.0</td>\n      <td>0.0</td>\n      <td>0.0</td>\n      <td>0.0</td>\n      <td>...</td>\n      <td>0.0</td>\n      <td>0.0</td>\n      <td>0.0</td>\n      <td>0.0</td>\n      <td>0.0</td>\n      <td>0.0</td>\n      <td>0.0</td>\n      <td>0.0</td>\n      <td>1.0</td>\n      <td>0.0</td>\n    </tr>\n    <tr>\n      <th>2012-03/2012-03-26/2012-03-31/2012-03-31 23:00:01</th>\n      <td>0.0</td>\n      <td>0.0</td>\n      <td>0.0</td>\n      <td>0.0</td>\n      <td>0.0</td>\n      <td>0.0</td>\n      <td>0.0</td>\n      <td>0.0</td>\n      <td>0.0</td>\n      <td>0.0</td>\n      <td>...</td>\n      <td>0.0</td>\n      <td>0.0</td>\n      <td>0.0</td>\n      <td>0.0</td>\n      <td>0.0</td>\n      <td>0.0</td>\n      <td>0.0</td>\n      <td>0.0</td>\n      <td>0.0</td>\n      <td>1.0</td>\n    </tr>\n  </tbody>\n</table>\n<p>2294 rows × 2184 columns</p>\n</div>"
     },
     "execution_count": 384,
     "metadata": {},
     "output_type": "execute_result"
    }
   ],
   "source": [
    "S_df"
   ],
   "metadata": {
    "collapsed": false,
    "ExecuteTime": {
     "end_time": "2024-01-23T10:08:20.458899882Z",
     "start_time": "2024-01-23T10:08:20.352995467Z"
    }
   },
   "id": "3a5ef411fa9675ef",
   "execution_count": 384
  },
  {
   "cell_type": "code",
   "outputs": [],
   "source": [
    "# import plotly.graph_objects as go\n",
    "# \n",
    "# # Ваш код: создание данных S_df и tags\n",
    "# \n",
    "# # Создание иерархического графика\n",
    "# fig = go.Figure(data=go.Sankey(\n",
    "#     node = dict(\n",
    "#       label = tags\n",
    "#     ),\n",
    "#     link = dict(\n",
    "#       source = S_df['month'], # индекс первоначальной ноды\n",
    "#       target = S_df['hour'], # индекс целевой ноды\n",
    "#       value = S_df['value'] # значение связи\n",
    "#   )))\n",
    "# \n",
    "# fig.show()"
   ],
   "metadata": {
    "collapsed": false,
    "ExecuteTime": {
     "end_time": "2024-01-23T10:14:51.719642441Z",
     "start_time": "2024-01-23T10:14:51.569386688Z"
    }
   },
   "id": "b7194387c4fb405c",
   "execution_count": 390
  },
  {
   "cell_type": "code",
   "outputs": [],
   "source": [
    "FH = 2  # Forecast Horizon"
   ],
   "metadata": {
    "collapsed": false,
    "ExecuteTime": {
     "end_time": "2024-01-23T10:15:42.631398075Z",
     "start_time": "2024-01-23T10:15:42.559882932Z"
    }
   },
   "id": "e9a7e97ff570d843",
   "execution_count": 391
  },
  {
   "cell_type": "code",
   "outputs": [
    {
     "data": {
      "text/plain": "                                              unique_id       ds        y\n0                                               2012-01  2012-01  80686.0\n1                                               2012-02  2012-02  76964.0\n2                                               2012-03  2012-03  80791.0\n3                                    2012-01/2011-12-26  2012-01   2556.0\n4                                    2012-01/2012-01-02  2012-01  18867.0\n...                                                 ...      ...      ...\n2289  2012-03/2012-03-26/2012-03-31/2012-03-31 19:00:01  2012-03    110.0\n2290  2012-03/2012-03-26/2012-03-31/2012-03-31 20:00:01  2012-03    116.0\n2291  2012-03/2012-03-26/2012-03-31/2012-03-31 21:00:01  2012-03    105.0\n2292  2012-03/2012-03-26/2012-03-31/2012-03-31 22:00:01  2012-03     95.0\n2293  2012-03/2012-03-26/2012-03-31/2012-03-31 23:00:01  2012-03     94.0\n\n[2294 rows x 3 columns]",
      "text/html": "<div>\n<style scoped>\n    .dataframe tbody tr th:only-of-type {\n        vertical-align: middle;\n    }\n\n    .dataframe tbody tr th {\n        vertical-align: top;\n    }\n\n    .dataframe thead th {\n        text-align: right;\n    }\n</style>\n<table border=\"1\" class=\"dataframe\">\n  <thead>\n    <tr style=\"text-align: right;\">\n      <th></th>\n      <th>unique_id</th>\n      <th>ds</th>\n      <th>y</th>\n    </tr>\n  </thead>\n  <tbody>\n    <tr>\n      <th>0</th>\n      <td>2012-01</td>\n      <td>2012-01</td>\n      <td>80686.0</td>\n    </tr>\n    <tr>\n      <th>1</th>\n      <td>2012-02</td>\n      <td>2012-02</td>\n      <td>76964.0</td>\n    </tr>\n    <tr>\n      <th>2</th>\n      <td>2012-03</td>\n      <td>2012-03</td>\n      <td>80791.0</td>\n    </tr>\n    <tr>\n      <th>3</th>\n      <td>2012-01/2011-12-26</td>\n      <td>2012-01</td>\n      <td>2556.0</td>\n    </tr>\n    <tr>\n      <th>4</th>\n      <td>2012-01/2012-01-02</td>\n      <td>2012-01</td>\n      <td>18867.0</td>\n    </tr>\n    <tr>\n      <th>...</th>\n      <td>...</td>\n      <td>...</td>\n      <td>...</td>\n    </tr>\n    <tr>\n      <th>2289</th>\n      <td>2012-03/2012-03-26/2012-03-31/2012-03-31 19:00:01</td>\n      <td>2012-03</td>\n      <td>110.0</td>\n    </tr>\n    <tr>\n      <th>2290</th>\n      <td>2012-03/2012-03-26/2012-03-31/2012-03-31 20:00:01</td>\n      <td>2012-03</td>\n      <td>116.0</td>\n    </tr>\n    <tr>\n      <th>2291</th>\n      <td>2012-03/2012-03-26/2012-03-31/2012-03-31 21:00:01</td>\n      <td>2012-03</td>\n      <td>105.0</td>\n    </tr>\n    <tr>\n      <th>2292</th>\n      <td>2012-03/2012-03-26/2012-03-31/2012-03-31 22:00:01</td>\n      <td>2012-03</td>\n      <td>95.0</td>\n    </tr>\n    <tr>\n      <th>2293</th>\n      <td>2012-03/2012-03-26/2012-03-31/2012-03-31 23:00:01</td>\n      <td>2012-03</td>\n      <td>94.0</td>\n    </tr>\n  </tbody>\n</table>\n<p>2294 rows × 3 columns</p>\n</div>"
     },
     "execution_count": 393,
     "metadata": {},
     "output_type": "execute_result"
    }
   ],
   "source": [
    "Y_hier_df"
   ],
   "metadata": {
    "collapsed": false,
    "ExecuteTime": {
     "end_time": "2024-01-23T10:19:55.068761916Z",
     "start_time": "2024-01-23T10:19:54.991964664Z"
    }
   },
   "id": "ea31ec4014aee581",
   "execution_count": 393
  },
  {
   "cell_type": "code",
   "outputs": [
    {
     "data": {
      "text/plain": "                                                        ds        y\nunique_id                                                          \n2012-01                                            2012-01  80686.0\n2012-02                                            2012-02  76964.0\n2012-03                                            2012-03  80791.0\n2012-01/2011-12-26                                 2012-01   2556.0\n2012-01/2012-01-02                                 2012-01  18867.0\n...                                                    ...      ...\n2012-03/2012-03-26/2012-03-31/2012-03-31 19:00:01  2012-03    110.0\n2012-03/2012-03-26/2012-03-31/2012-03-31 20:00:01  2012-03    116.0\n2012-03/2012-03-26/2012-03-31/2012-03-31 21:00:01  2012-03    105.0\n2012-03/2012-03-26/2012-03-31/2012-03-31 22:00:01  2012-03     95.0\n2012-03/2012-03-26/2012-03-31/2012-03-31 23:00:01  2012-03     94.0\n\n[2294 rows x 2 columns]",
      "text/html": "<div>\n<style scoped>\n    .dataframe tbody tr th:only-of-type {\n        vertical-align: middle;\n    }\n\n    .dataframe tbody tr th {\n        vertical-align: top;\n    }\n\n    .dataframe thead th {\n        text-align: right;\n    }\n</style>\n<table border=\"1\" class=\"dataframe\">\n  <thead>\n    <tr style=\"text-align: right;\">\n      <th></th>\n      <th>ds</th>\n      <th>y</th>\n    </tr>\n    <tr>\n      <th>unique_id</th>\n      <th></th>\n      <th></th>\n    </tr>\n  </thead>\n  <tbody>\n    <tr>\n      <th>2012-01</th>\n      <td>2012-01</td>\n      <td>80686.0</td>\n    </tr>\n    <tr>\n      <th>2012-02</th>\n      <td>2012-02</td>\n      <td>76964.0</td>\n    </tr>\n    <tr>\n      <th>2012-03</th>\n      <td>2012-03</td>\n      <td>80791.0</td>\n    </tr>\n    <tr>\n      <th>2012-01/2011-12-26</th>\n      <td>2012-01</td>\n      <td>2556.0</td>\n    </tr>\n    <tr>\n      <th>2012-01/2012-01-02</th>\n      <td>2012-01</td>\n      <td>18867.0</td>\n    </tr>\n    <tr>\n      <th>...</th>\n      <td>...</td>\n      <td>...</td>\n    </tr>\n    <tr>\n      <th>2012-03/2012-03-26/2012-03-31/2012-03-31 19:00:01</th>\n      <td>2012-03</td>\n      <td>110.0</td>\n    </tr>\n    <tr>\n      <th>2012-03/2012-03-26/2012-03-31/2012-03-31 20:00:01</th>\n      <td>2012-03</td>\n      <td>116.0</td>\n    </tr>\n    <tr>\n      <th>2012-03/2012-03-26/2012-03-31/2012-03-31 21:00:01</th>\n      <td>2012-03</td>\n      <td>105.0</td>\n    </tr>\n    <tr>\n      <th>2012-03/2012-03-26/2012-03-31/2012-03-31 22:00:01</th>\n      <td>2012-03</td>\n      <td>95.0</td>\n    </tr>\n    <tr>\n      <th>2012-03/2012-03-26/2012-03-31/2012-03-31 23:00:01</th>\n      <td>2012-03</td>\n      <td>94.0</td>\n    </tr>\n  </tbody>\n</table>\n<p>2294 rows × 2 columns</p>\n</div>"
     },
     "execution_count": 394,
     "metadata": {},
     "output_type": "execute_result"
    }
   ],
   "source": [
    "Y_test_df"
   ],
   "metadata": {
    "collapsed": false,
    "ExecuteTime": {
     "end_time": "2024-01-23T10:21:00.320985146Z",
     "start_time": "2024-01-23T10:21:00.236650221Z"
    }
   },
   "id": "6f30bbffb8adc615",
   "execution_count": 394
  },
  {
   "cell_type": "code",
   "outputs": [
    {
     "name": "stdout",
     "output_type": "stream",
     "text": [
      "<class 'pandas.core.frame.DataFrame'>\n",
      "Index: 0 entries\n",
      "Data columns (total 2 columns):\n",
      " #   Column  Non-Null Count  Dtype  \n",
      "---  ------  --------------  -----  \n",
      " 0   ds      0 non-null      object \n",
      " 1   y       0 non-null      float64\n",
      "dtypes: float64(1), object(1)\n",
      "memory usage: 0.0+ bytes\n",
      "<class 'pandas.core.frame.DataFrame'>\n",
      "Index: 2294 entries, 2012-01 to 2012-03/2012-03-26/2012-03-31/2012-03-31 23:00:01\n",
      "Data columns (total 2 columns):\n",
      " #   Column  Non-Null Count  Dtype  \n",
      "---  ------  --------------  -----  \n",
      " 0   ds      2294 non-null   object \n",
      " 1   y       2294 non-null   float64\n",
      "dtypes: float64(1), object(1)\n",
      "memory usage: 53.8+ KB\n"
     ]
    },
    {
     "data": {
      "text/plain": "(None, None)"
     },
     "execution_count": 392,
     "metadata": {},
     "output_type": "execute_result"
    }
   ],
   "source": [
    "# Split train/test sets\n",
    "Y_test_df  = Y_hier_df.groupby('unique_id').tail(FH)\n",
    "Y_train_df = Y_hier_df.drop(Y_test_df.index)\n",
    "\n",
    "Y_test_df = Y_test_df.set_index('unique_id')\n",
    "Y_train_df = Y_train_df.set_index('unique_id')\n",
    "\n",
    "Y_train_df.info(), Y_test_df.info()"
   ],
   "metadata": {
    "collapsed": false,
    "ExecuteTime": {
     "end_time": "2024-01-23T10:15:43.377819526Z",
     "start_time": "2024-01-23T10:15:43.327846957Z"
    }
   },
   "id": "1a4956cb530a9121",
   "execution_count": 392
  },
  {
   "cell_type": "code",
   "outputs": [],
   "source": [
    "from sklearn.model_selection import train_test_split"
   ],
   "metadata": {
    "collapsed": false,
    "ExecuteTime": {
     "end_time": "2024-01-23T10:24:39.503842947Z",
     "start_time": "2024-01-23T10:24:39.447323131Z"
    }
   },
   "id": "6f2ef5b195bef476",
   "execution_count": 395
  },
  {
   "cell_type": "code",
   "outputs": [],
   "source": [
    "train_df, test_df = train_test_split(Y_hier_df, test_size=0.2, random_state=42)"
   ],
   "metadata": {
    "collapsed": false,
    "ExecuteTime": {
     "end_time": "2024-01-23T10:24:40.084183866Z",
     "start_time": "2024-01-23T10:24:40.031994355Z"
    }
   },
   "id": "f729ded3d789fb70",
   "execution_count": 396
  },
  {
   "cell_type": "code",
   "outputs": [
    {
     "name": "stdout",
     "output_type": "stream",
     "text": [
      "<class 'pandas.core.frame.DataFrame'>\n",
      "Index: 1835 entries, 299 to 860\n",
      "Data columns (total 3 columns):\n",
      " #   Column     Non-Null Count  Dtype  \n",
      "---  ------     --------------  -----  \n",
      " 0   unique_id  1835 non-null   object \n",
      " 1   ds         1835 non-null   object \n",
      " 2   y          1835 non-null   float64\n",
      "dtypes: float64(1), object(2)\n",
      "memory usage: 57.3+ KB\n"
     ]
    }
   ],
   "source": [
    "train_df.info()"
   ],
   "metadata": {
    "collapsed": false,
    "ExecuteTime": {
     "end_time": "2024-01-23T10:25:00.889937368Z",
     "start_time": "2024-01-23T10:25:00.723822265Z"
    }
   },
   "id": "d27aae58a8e36f67",
   "execution_count": 399
  },
  {
   "cell_type": "code",
   "outputs": [
    {
     "name": "stdout",
     "output_type": "stream",
     "text": [
      "<class 'pandas.core.frame.DataFrame'>\n",
      "Index: 459 entries, 422 to 1846\n",
      "Data columns (total 3 columns):\n",
      " #   Column     Non-Null Count  Dtype  \n",
      "---  ------     --------------  -----  \n",
      " 0   unique_id  459 non-null    object \n",
      " 1   ds         459 non-null    object \n",
      " 2   y          459 non-null    float64\n",
      "dtypes: float64(1), object(2)\n",
      "memory usage: 14.3+ KB\n"
     ]
    }
   ],
   "source": [
    "test_df.info()"
   ],
   "metadata": {
    "collapsed": false,
    "ExecuteTime": {
     "end_time": "2024-01-23T10:25:05.529789214Z",
     "start_time": "2024-01-23T10:25:05.454220632Z"
    }
   },
   "id": "f18bb1883c0f862",
   "execution_count": 400
  },
  {
   "cell_type": "code",
   "outputs": [],
   "source": [
    "metric = \"mse\"\n",
    "from statsforecast.core import StatsForecast\n",
    "from tqdm.autonotebook import tqdm\n",
    "import random\n",
    "import os\n",
    "from datasetsforecast.hierarchical import HierarchicalData\n",
    "from hierarchicalforecast.core import HierarchicalReconciliation\n",
    "from hierarchicalforecast.methods import  BottomUp, TopDown, MiddleOut, MinTrace, ERM\n",
    "from statsforecast.core import StatsForecast\n",
    "from statsforecast.models import AutoARIMA, Naive\n",
    "from hierarchicalforecast.evaluation import HierarchicalEvaluation\n",
    "from sklearn.metrics import mean_squared_error as mse"
   ],
   "metadata": {
    "collapsed": false,
    "ExecuteTime": {
     "end_time": "2024-01-23T14:28:59.543995124Z",
     "start_time": "2024-01-23T14:28:59.403296470Z"
    }
   },
   "id": "468034587f8aff84",
   "execution_count": 412
  },
  {
   "cell_type": "code",
   "outputs": [],
   "source": [
    "# !pip install statsforecast\n",
    "# !pip install datasetsforecast"
   ],
   "metadata": {
    "collapsed": false,
    "ExecuteTime": {
     "end_time": "2024-01-23T14:27:41.242460350Z",
     "start_time": "2024-01-23T14:27:41.135535602Z"
    }
   },
   "id": "c47978b50b3e3418",
   "execution_count": 411
  },
  {
   "cell_type": "code",
   "outputs": [
    {
     "name": "stderr",
     "output_type": "stream",
     "text": [
      "/home/olga/hse_master/develop_tools/fast_api/fast_api_tutorial/venv/lib/python3.10/site-packages/statsforecast/core.py:399: FutureWarning: The `df` argument of the StatsForecast constructor as well as reusing stored dfs from other methods is deprecated and will raise an error in a future version. Please provide the `df` argument to the corresponding method instead, e.g. fit/forecast.\n",
      "  warnings.warn(\n",
      "/home/olga/hse_master/develop_tools/fast_api/fast_api_tutorial/venv/lib/python3.10/site-packages/statsforecast/core.py:399: FutureWarning: The `df` argument of the StatsForecast constructor as well as reusing stored dfs from other methods is deprecated and will raise an error in a future version. Please provide the `df` argument to the corresponding method instead, e.g. fit/forecast.\n",
      "  warnings.warn(\n",
      "/home/olga/hse_master/develop_tools/fast_api/fast_api_tutorial/venv/lib/python3.10/site-packages/statsforecast/core.py:417: FutureWarning: In a future version the predictions will have the id as a column. You can set the `NIXTLA_ID_AS_COL` environment variable to adopt the new behavior and to suppress this warning.\n",
      "  warnings.warn(\n"
     ]
    }
   ],
   "source": [
    "# Compute base auto-ARIMA predictions\n",
    "fcst = StatsForecast(df = train_df, models=[AutoARIMA(season_length= 7)], freq='D', n_jobs=-1)\n",
    "x_hat = fcst.forecast(h = 7)"
   ],
   "metadata": {
    "collapsed": false,
    "ExecuteTime": {
     "end_time": "2024-01-23T14:31:52.023173415Z",
     "start_time": "2024-01-23T14:31:41.706270404Z"
    }
   },
   "id": "d5510d3c0dd6d9db",
   "execution_count": 413
  },
  {
   "cell_type": "code",
   "outputs": [
    {
     "data": {
      "text/plain": "                                                          ds  AutoARIMA\nunique_id                                                              \n2012-01                                           2012-01-02    80686.0\n2012-01                                           2012-01-03    80686.0\n2012-01                                           2012-01-04    80686.0\n2012-01                                           2012-01-05    80686.0\n2012-01                                           2012-01-06    80686.0\n...                                                      ...        ...\n2012-03/2012-03-26/2012-03-31/2012-03-31 23:00:01 2012-03-04       94.0\n2012-03/2012-03-26/2012-03-31/2012-03-31 23:00:01 2012-03-05       94.0\n2012-03/2012-03-26/2012-03-31/2012-03-31 23:00:01 2012-03-06       94.0\n2012-03/2012-03-26/2012-03-31/2012-03-31 23:00:01 2012-03-07       94.0\n2012-03/2012-03-26/2012-03-31/2012-03-31 23:00:01 2012-03-08       94.0\n\n[12845 rows x 2 columns]",
      "text/html": "<div>\n<style scoped>\n    .dataframe tbody tr th:only-of-type {\n        vertical-align: middle;\n    }\n\n    .dataframe tbody tr th {\n        vertical-align: top;\n    }\n\n    .dataframe thead th {\n        text-align: right;\n    }\n</style>\n<table border=\"1\" class=\"dataframe\">\n  <thead>\n    <tr style=\"text-align: right;\">\n      <th></th>\n      <th>ds</th>\n      <th>AutoARIMA</th>\n    </tr>\n    <tr>\n      <th>unique_id</th>\n      <th></th>\n      <th></th>\n    </tr>\n  </thead>\n  <tbody>\n    <tr>\n      <th>2012-01</th>\n      <td>2012-01-02</td>\n      <td>80686.0</td>\n    </tr>\n    <tr>\n      <th>2012-01</th>\n      <td>2012-01-03</td>\n      <td>80686.0</td>\n    </tr>\n    <tr>\n      <th>2012-01</th>\n      <td>2012-01-04</td>\n      <td>80686.0</td>\n    </tr>\n    <tr>\n      <th>2012-01</th>\n      <td>2012-01-05</td>\n      <td>80686.0</td>\n    </tr>\n    <tr>\n      <th>2012-01</th>\n      <td>2012-01-06</td>\n      <td>80686.0</td>\n    </tr>\n    <tr>\n      <th>...</th>\n      <td>...</td>\n      <td>...</td>\n    </tr>\n    <tr>\n      <th>2012-03/2012-03-26/2012-03-31/2012-03-31 23:00:01</th>\n      <td>2012-03-04</td>\n      <td>94.0</td>\n    </tr>\n    <tr>\n      <th>2012-03/2012-03-26/2012-03-31/2012-03-31 23:00:01</th>\n      <td>2012-03-05</td>\n      <td>94.0</td>\n    </tr>\n    <tr>\n      <th>2012-03/2012-03-26/2012-03-31/2012-03-31 23:00:01</th>\n      <td>2012-03-06</td>\n      <td>94.0</td>\n    </tr>\n    <tr>\n      <th>2012-03/2012-03-26/2012-03-31/2012-03-31 23:00:01</th>\n      <td>2012-03-07</td>\n      <td>94.0</td>\n    </tr>\n    <tr>\n      <th>2012-03/2012-03-26/2012-03-31/2012-03-31 23:00:01</th>\n      <td>2012-03-08</td>\n      <td>94.0</td>\n    </tr>\n  </tbody>\n</table>\n<p>12845 rows × 2 columns</p>\n</div>"
     },
     "execution_count": 417,
     "metadata": {},
     "output_type": "execute_result"
    }
   ],
   "source": [
    "x_hat"
   ],
   "metadata": {
    "collapsed": false,
    "ExecuteTime": {
     "end_time": "2024-01-23T14:35:25.701999842Z",
     "start_time": "2024-01-23T14:35:25.617565620Z"
    }
   },
   "id": "a07c9b402fc32640",
   "execution_count": 417
  },
  {
   "cell_type": "code",
   "outputs": [
    {
     "data": {
      "text/plain": "                                              unique_id       ds      y\n422   2012-01/2012-01-09/2012-01-14/2012-01-14 00:00:01  2012-01   92.0\n1288  2012-02/2012-02-13/2012-02-19/2012-02-19 02:00:01  2012-02   86.0\n208   2012-01/2012-01-02/2012-01-05/2012-01-05 02:00:01  2012-01   89.0\n782   2012-01/2012-01-23/2012-01-29/2012-01-29 00:00:01  2012-01   92.0\n759   2012-01/2012-01-23/2012-01-28/2012-01-28 01:00:01  2012-01   89.0\n...                                                 ...      ...    ...\n1949  2012-03/2012-03-12/2012-03-17/2012-03-17 15:00:01  2012-03  116.0\n210   2012-01/2012-01-02/2012-01-05/2012-01-05 04:00:01  2012-01   89.0\n1467  2012-02/2012-02-20/2012-02-26/2012-02-26 13:00:01  2012-02  161.0\n707   2012-01/2012-01-23/2012-01-25/2012-01-25 21:00:01  2012-01  115.0\n1846  2012-03/2012-03-12/2012-03-13/2012-03-13 08:00:01  2012-03  152.0\n\n[459 rows x 3 columns]",
      "text/html": "<div>\n<style scoped>\n    .dataframe tbody tr th:only-of-type {\n        vertical-align: middle;\n    }\n\n    .dataframe tbody tr th {\n        vertical-align: top;\n    }\n\n    .dataframe thead th {\n        text-align: right;\n    }\n</style>\n<table border=\"1\" class=\"dataframe\">\n  <thead>\n    <tr style=\"text-align: right;\">\n      <th></th>\n      <th>unique_id</th>\n      <th>ds</th>\n      <th>y</th>\n    </tr>\n  </thead>\n  <tbody>\n    <tr>\n      <th>422</th>\n      <td>2012-01/2012-01-09/2012-01-14/2012-01-14 00:00:01</td>\n      <td>2012-01</td>\n      <td>92.0</td>\n    </tr>\n    <tr>\n      <th>1288</th>\n      <td>2012-02/2012-02-13/2012-02-19/2012-02-19 02:00:01</td>\n      <td>2012-02</td>\n      <td>86.0</td>\n    </tr>\n    <tr>\n      <th>208</th>\n      <td>2012-01/2012-01-02/2012-01-05/2012-01-05 02:00:01</td>\n      <td>2012-01</td>\n      <td>89.0</td>\n    </tr>\n    <tr>\n      <th>782</th>\n      <td>2012-01/2012-01-23/2012-01-29/2012-01-29 00:00:01</td>\n      <td>2012-01</td>\n      <td>92.0</td>\n    </tr>\n    <tr>\n      <th>759</th>\n      <td>2012-01/2012-01-23/2012-01-28/2012-01-28 01:00:01</td>\n      <td>2012-01</td>\n      <td>89.0</td>\n    </tr>\n    <tr>\n      <th>...</th>\n      <td>...</td>\n      <td>...</td>\n      <td>...</td>\n    </tr>\n    <tr>\n      <th>1949</th>\n      <td>2012-03/2012-03-12/2012-03-17/2012-03-17 15:00:01</td>\n      <td>2012-03</td>\n      <td>116.0</td>\n    </tr>\n    <tr>\n      <th>210</th>\n      <td>2012-01/2012-01-02/2012-01-05/2012-01-05 04:00:01</td>\n      <td>2012-01</td>\n      <td>89.0</td>\n    </tr>\n    <tr>\n      <th>1467</th>\n      <td>2012-02/2012-02-20/2012-02-26/2012-02-26 13:00:01</td>\n      <td>2012-02</td>\n      <td>161.0</td>\n    </tr>\n    <tr>\n      <th>707</th>\n      <td>2012-01/2012-01-23/2012-01-25/2012-01-25 21:00:01</td>\n      <td>2012-01</td>\n      <td>115.0</td>\n    </tr>\n    <tr>\n      <th>1846</th>\n      <td>2012-03/2012-03-12/2012-03-13/2012-03-13 08:00:01</td>\n      <td>2012-03</td>\n      <td>152.0</td>\n    </tr>\n  </tbody>\n</table>\n<p>459 rows × 3 columns</p>\n</div>"
     },
     "execution_count": 418,
     "metadata": {},
     "output_type": "execute_result"
    }
   ],
   "source": [
    "test_df"
   ],
   "metadata": {
    "collapsed": false,
    "ExecuteTime": {
     "end_time": "2024-01-23T14:38:17.260357935Z",
     "start_time": "2024-01-23T14:38:17.159916663Z"
    }
   },
   "id": "7ad18a3236864f11",
   "execution_count": 418
  },
  {
   "cell_type": "code",
   "outputs": [
    {
     "data": {
      "text/plain": "                                                        ds      y\nunique_id                                                        \n2012-01/2012-01-09/2012-01-14/2012-01-14 00:00:01  2012-01   92.0\n2012-02/2012-02-13/2012-02-19/2012-02-19 02:00:01  2012-02   86.0\n2012-01/2012-01-02/2012-01-05/2012-01-05 02:00:01  2012-01   89.0\n2012-01/2012-01-23/2012-01-29/2012-01-29 00:00:01  2012-01   92.0\n2012-01/2012-01-23/2012-01-28/2012-01-28 01:00:01  2012-01   89.0\n...                                                    ...    ...\n2012-03/2012-03-12/2012-03-17/2012-03-17 15:00:01  2012-03  116.0\n2012-01/2012-01-02/2012-01-05/2012-01-05 04:00:01  2012-01   89.0\n2012-02/2012-02-20/2012-02-26/2012-02-26 13:00:01  2012-02  161.0\n2012-01/2012-01-23/2012-01-25/2012-01-25 21:00:01  2012-01  115.0\n2012-03/2012-03-12/2012-03-13/2012-03-13 08:00:01  2012-03  152.0\n\n[459 rows x 2 columns]",
      "text/html": "<div>\n<style scoped>\n    .dataframe tbody tr th:only-of-type {\n        vertical-align: middle;\n    }\n\n    .dataframe tbody tr th {\n        vertical-align: top;\n    }\n\n    .dataframe thead th {\n        text-align: right;\n    }\n</style>\n<table border=\"1\" class=\"dataframe\">\n  <thead>\n    <tr style=\"text-align: right;\">\n      <th></th>\n      <th>ds</th>\n      <th>y</th>\n    </tr>\n    <tr>\n      <th>unique_id</th>\n      <th></th>\n      <th></th>\n    </tr>\n  </thead>\n  <tbody>\n    <tr>\n      <th>2012-01/2012-01-09/2012-01-14/2012-01-14 00:00:01</th>\n      <td>2012-01</td>\n      <td>92.0</td>\n    </tr>\n    <tr>\n      <th>2012-02/2012-02-13/2012-02-19/2012-02-19 02:00:01</th>\n      <td>2012-02</td>\n      <td>86.0</td>\n    </tr>\n    <tr>\n      <th>2012-01/2012-01-02/2012-01-05/2012-01-05 02:00:01</th>\n      <td>2012-01</td>\n      <td>89.0</td>\n    </tr>\n    <tr>\n      <th>2012-01/2012-01-23/2012-01-29/2012-01-29 00:00:01</th>\n      <td>2012-01</td>\n      <td>92.0</td>\n    </tr>\n    <tr>\n      <th>2012-01/2012-01-23/2012-01-28/2012-01-28 01:00:01</th>\n      <td>2012-01</td>\n      <td>89.0</td>\n    </tr>\n    <tr>\n      <th>...</th>\n      <td>...</td>\n      <td>...</td>\n    </tr>\n    <tr>\n      <th>2012-03/2012-03-12/2012-03-17/2012-03-17 15:00:01</th>\n      <td>2012-03</td>\n      <td>116.0</td>\n    </tr>\n    <tr>\n      <th>2012-01/2012-01-02/2012-01-05/2012-01-05 04:00:01</th>\n      <td>2012-01</td>\n      <td>89.0</td>\n    </tr>\n    <tr>\n      <th>2012-02/2012-02-20/2012-02-26/2012-02-26 13:00:01</th>\n      <td>2012-02</td>\n      <td>161.0</td>\n    </tr>\n    <tr>\n      <th>2012-01/2012-01-23/2012-01-25/2012-01-25 21:00:01</th>\n      <td>2012-01</td>\n      <td>115.0</td>\n    </tr>\n    <tr>\n      <th>2012-03/2012-03-12/2012-03-13/2012-03-13 08:00:01</th>\n      <td>2012-03</td>\n      <td>152.0</td>\n    </tr>\n  </tbody>\n</table>\n<p>459 rows × 2 columns</p>\n</div>"
     },
     "execution_count": 419,
     "metadata": {},
     "output_type": "execute_result"
    }
   ],
   "source": [
    "test_df.set_index('unique_id')"
   ],
   "metadata": {
    "collapsed": false,
    "ExecuteTime": {
     "end_time": "2024-01-23T14:41:06.947510585Z",
     "start_time": "2024-01-23T14:41:06.857187558Z"
    }
   },
   "id": "ec934733ab6eff12",
   "execution_count": 419
  },
  {
   "cell_type": "code",
   "outputs": [
    {
     "name": "stdout",
     "output_type": "stream",
     "text": [
      "<class 'pandas.core.frame.DataFrame'>\n",
      "Index: 459 entries, 422 to 1846\n",
      "Data columns (total 3 columns):\n",
      " #   Column     Non-Null Count  Dtype  \n",
      "---  ------     --------------  -----  \n",
      " 0   unique_id  459 non-null    object \n",
      " 1   ds         459 non-null    object \n",
      " 2   y          459 non-null    float64\n",
      "dtypes: float64(1), object(2)\n",
      "memory usage: 14.3+ KB\n"
     ]
    }
   ],
   "source": [
    "test_df.info()"
   ],
   "metadata": {
    "collapsed": false,
    "ExecuteTime": {
     "end_time": "2024-01-23T14:41:33.705055322Z",
     "start_time": "2024-01-23T14:41:33.627486893Z"
    }
   },
   "id": "f6bae25ac7befc19",
   "execution_count": 421
  },
  {
   "cell_type": "code",
   "outputs": [
    {
     "name": "stdout",
     "output_type": "stream",
     "text": [
      "<class 'pandas.core.frame.DataFrame'>\n",
      "Index: 459 entries, 422 to 1846\n",
      "Data columns (total 3 columns):\n",
      " #   Column     Non-Null Count  Dtype         \n",
      "---  ------     --------------  -----         \n",
      " 0   unique_id  459 non-null    object        \n",
      " 1   ds         459 non-null    datetime64[ns]\n",
      " 2   y          459 non-null    float64       \n",
      "dtypes: datetime64[ns](1), float64(1), object(1)\n",
      "memory usage: 14.3+ KB\n"
     ]
    }
   ],
   "source": [
    "test_df['ds'] = pd.to_datetime(test_df['ds'])\n",
    "test_df.info()"
   ],
   "metadata": {
    "collapsed": false,
    "ExecuteTime": {
     "end_time": "2024-01-23T14:44:29.450211777Z",
     "start_time": "2024-01-23T14:44:29.374538712Z"
    }
   },
   "id": "4a78f942ade67e7",
   "execution_count": 423
  },
  {
   "cell_type": "code",
   "outputs": [
    {
     "data": {
      "text/plain": "                                              unique_id         ds      y\n422   2012-01/2012-01-09/2012-01-14/2012-01-14 00:00:01 2012-01-01   92.0\n1288  2012-02/2012-02-13/2012-02-19/2012-02-19 02:00:01 2012-02-01   86.0\n208   2012-01/2012-01-02/2012-01-05/2012-01-05 02:00:01 2012-01-01   89.0\n782   2012-01/2012-01-23/2012-01-29/2012-01-29 00:00:01 2012-01-01   92.0\n759   2012-01/2012-01-23/2012-01-28/2012-01-28 01:00:01 2012-01-01   89.0\n...                                                 ...        ...    ...\n1949  2012-03/2012-03-12/2012-03-17/2012-03-17 15:00:01 2012-03-01  116.0\n210   2012-01/2012-01-02/2012-01-05/2012-01-05 04:00:01 2012-01-01   89.0\n1467  2012-02/2012-02-20/2012-02-26/2012-02-26 13:00:01 2012-02-01  161.0\n707   2012-01/2012-01-23/2012-01-25/2012-01-25 21:00:01 2012-01-01  115.0\n1846  2012-03/2012-03-12/2012-03-13/2012-03-13 08:00:01 2012-03-01  152.0\n\n[459 rows x 3 columns]",
      "text/html": "<div>\n<style scoped>\n    .dataframe tbody tr th:only-of-type {\n        vertical-align: middle;\n    }\n\n    .dataframe tbody tr th {\n        vertical-align: top;\n    }\n\n    .dataframe thead th {\n        text-align: right;\n    }\n</style>\n<table border=\"1\" class=\"dataframe\">\n  <thead>\n    <tr style=\"text-align: right;\">\n      <th></th>\n      <th>unique_id</th>\n      <th>ds</th>\n      <th>y</th>\n    </tr>\n  </thead>\n  <tbody>\n    <tr>\n      <th>422</th>\n      <td>2012-01/2012-01-09/2012-01-14/2012-01-14 00:00:01</td>\n      <td>2012-01-01</td>\n      <td>92.0</td>\n    </tr>\n    <tr>\n      <th>1288</th>\n      <td>2012-02/2012-02-13/2012-02-19/2012-02-19 02:00:01</td>\n      <td>2012-02-01</td>\n      <td>86.0</td>\n    </tr>\n    <tr>\n      <th>208</th>\n      <td>2012-01/2012-01-02/2012-01-05/2012-01-05 02:00:01</td>\n      <td>2012-01-01</td>\n      <td>89.0</td>\n    </tr>\n    <tr>\n      <th>782</th>\n      <td>2012-01/2012-01-23/2012-01-29/2012-01-29 00:00:01</td>\n      <td>2012-01-01</td>\n      <td>92.0</td>\n    </tr>\n    <tr>\n      <th>759</th>\n      <td>2012-01/2012-01-23/2012-01-28/2012-01-28 01:00:01</td>\n      <td>2012-01-01</td>\n      <td>89.0</td>\n    </tr>\n    <tr>\n      <th>...</th>\n      <td>...</td>\n      <td>...</td>\n      <td>...</td>\n    </tr>\n    <tr>\n      <th>1949</th>\n      <td>2012-03/2012-03-12/2012-03-17/2012-03-17 15:00:01</td>\n      <td>2012-03-01</td>\n      <td>116.0</td>\n    </tr>\n    <tr>\n      <th>210</th>\n      <td>2012-01/2012-01-02/2012-01-05/2012-01-05 04:00:01</td>\n      <td>2012-01-01</td>\n      <td>89.0</td>\n    </tr>\n    <tr>\n      <th>1467</th>\n      <td>2012-02/2012-02-20/2012-02-26/2012-02-26 13:00:01</td>\n      <td>2012-02-01</td>\n      <td>161.0</td>\n    </tr>\n    <tr>\n      <th>707</th>\n      <td>2012-01/2012-01-23/2012-01-25/2012-01-25 21:00:01</td>\n      <td>2012-01-01</td>\n      <td>115.0</td>\n    </tr>\n    <tr>\n      <th>1846</th>\n      <td>2012-03/2012-03-12/2012-03-13/2012-03-13 08:00:01</td>\n      <td>2012-03-01</td>\n      <td>152.0</td>\n    </tr>\n  </tbody>\n</table>\n<p>459 rows × 3 columns</p>\n</div>"
     },
     "execution_count": 425,
     "metadata": {},
     "output_type": "execute_result"
    }
   ],
   "source": [
    "test_df"
   ],
   "metadata": {
    "collapsed": false,
    "ExecuteTime": {
     "end_time": "2024-01-23T14:44:43.269967221Z",
     "start_time": "2024-01-23T14:44:43.180998461Z"
    }
   },
   "id": "bf83df378fba676f",
   "execution_count": 425
  },
  {
   "cell_type": "code",
   "outputs": [
    {
     "name": "stdout",
     "output_type": "stream",
     "text": [
      "<class 'pandas.core.frame.DataFrame'>\n",
      "Index: 12845 entries, 2012-01 to 2012-03/2012-03-26/2012-03-31/2012-03-31 23:00:01\n",
      "Data columns (total 2 columns):\n",
      " #   Column     Non-Null Count  Dtype         \n",
      "---  ------     --------------  -----         \n",
      " 0   ds         12845 non-null  datetime64[ns]\n",
      " 1   AutoARIMA  12845 non-null  float32       \n",
      "dtypes: datetime64[ns](1), float32(1)\n",
      "memory usage: 250.9+ KB\n"
     ]
    }
   ],
   "source": [
    "x_hat.info()"
   ],
   "metadata": {
    "collapsed": false,
    "ExecuteTime": {
     "end_time": "2024-01-23T14:41:43.956981177Z",
     "start_time": "2024-01-23T14:41:43.835133453Z"
    }
   },
   "id": "c216ecd16e1764b3",
   "execution_count": 422
  },
  {
   "cell_type": "code",
   "outputs": [
    {
     "data": {
      "text/plain": "Empty DataFrame\nColumns: [unique_id, ds, y, AutoARIMA]\nIndex: []",
      "text/html": "<div>\n<style scoped>\n    .dataframe tbody tr th:only-of-type {\n        vertical-align: middle;\n    }\n\n    .dataframe tbody tr th {\n        vertical-align: top;\n    }\n\n    .dataframe thead th {\n        text-align: right;\n    }\n</style>\n<table border=\"1\" class=\"dataframe\">\n  <thead>\n    <tr style=\"text-align: right;\">\n      <th></th>\n      <th>unique_id</th>\n      <th>ds</th>\n      <th>y</th>\n      <th>AutoARIMA</th>\n    </tr>\n  </thead>\n  <tbody>\n  </tbody>\n</table>\n</div>"
     },
     "execution_count": 424,
     "metadata": {},
     "output_type": "execute_result"
    }
   ],
   "source": [
    "xmat = pd.merge(left = test_df, right = x_hat, on = ['ds', 'unique_id'])\n",
    "xmat.head(3)"
   ],
   "metadata": {
    "collapsed": false,
    "ExecuteTime": {
     "end_time": "2024-01-23T14:44:35.088609524Z",
     "start_time": "2024-01-23T14:44:34.987560663Z"
    }
   },
   "id": "a57c71e5a0c7d3f9",
   "execution_count": 424
  },
  {
   "cell_type": "code",
   "outputs": [],
   "source": [],
   "metadata": {
    "collapsed": false
   },
   "id": "cf3c82a0f6387eab"
  },
  {
   "cell_type": "markdown",
   "source": [
    "## Ordinary Least Squares (OLS) method "
   ],
   "metadata": {
    "collapsed": false
   },
   "id": "9dfcef06e091e6a6"
  },
  {
   "cell_type": "code",
   "outputs": [],
   "source": [],
   "metadata": {
    "collapsed": false
   },
   "id": "2843e17b5019e300",
   "execution_count": null
  },
  {
   "cell_type": "code",
   "outputs": [],
   "source": [],
   "metadata": {
    "collapsed": false
   },
   "id": "3f87a605973827c",
   "execution_count": null
  },
  {
   "cell_type": "code",
   "outputs": [],
   "source": [],
   "metadata": {
    "collapsed": false
   },
   "id": "f018a597e9a88376",
   "execution_count": null
  },
  {
   "cell_type": "code",
   "outputs": [],
   "source": [],
   "metadata": {
    "collapsed": false
   },
   "id": "643f337338f5bd17",
   "execution_count": null
  },
  {
   "cell_type": "code",
   "outputs": [],
   "source": [],
   "metadata": {
    "collapsed": false
   },
   "id": "30d4042208b4a8f2",
   "execution_count": null
  },
  {
   "cell_type": "markdown",
   "source": [
    "## Смешиваем прогнозы еще раз"
   ],
   "metadata": {
    "collapsed": false
   },
   "id": "41f39a89c17e81bd"
  },
  {
   "cell_type": "code",
   "outputs": [],
   "source": [],
   "metadata": {
    "collapsed": false
   },
   "id": "9d217eeee986c570",
   "execution_count": null
  },
  {
   "cell_type": "code",
   "outputs": [],
   "source": [],
   "metadata": {
    "collapsed": false
   },
   "id": "1e624e2a684c5d4a",
   "execution_count": null
  },
  {
   "cell_type": "code",
   "outputs": [],
   "source": [],
   "metadata": {
    "collapsed": false
   },
   "id": "27bf49bbc889a0c5",
   "execution_count": null
  },
  {
   "cell_type": "markdown",
   "source": [
    "## Сравниваем результаты base и после реконсиляции"
   ],
   "metadata": {
    "collapsed": false
   },
   "id": "18f4c1871be45640"
  },
  {
   "cell_type": "code",
   "outputs": [],
   "source": [
    "# !pip install hierarchicalforecast"
   ],
   "metadata": {
    "collapsed": false
   },
   "id": "e3fa7c1d18928d76",
   "execution_count": null
  },
  {
   "cell_type": "code",
   "outputs": [],
   "source": [],
   "metadata": {
    "collapsed": false
   },
   "id": "6d4774fcb1ef9ebe",
   "execution_count": null
  },
  {
   "cell_type": "markdown",
   "source": [
    "## Выводы"
   ],
   "metadata": {
    "collapsed": false
   },
   "id": "8ece8937ef8a750"
  },
  {
   "cell_type": "markdown",
   "source": [
    "- Hierarchical Forecasting & Reconciliation should improve the overall prediction of intermittent time series with correct reconciliation strategy\n",
    "- Hierarchical Forecasting & Reconciliation can apply to any time series with a hierarchy structure\n",
    "\n",
    "## HTS offers a lot of flexibilities:\n",
    "- Assist to build hierarchical time series from every level data\n",
    "- We can choose different ML algorithms for different levels of hierarchical time series\n",
    "- 3 reconciliation strategies are available at this moment.\n"
   ],
   "metadata": {
    "collapsed": false
   },
   "id": "4b89042e15d07e99"
  },
  {
   "cell_type": "code",
   "outputs": [],
   "source": [],
   "metadata": {
    "collapsed": false
   },
   "id": "91586918368232ae",
   "execution_count": null
  }
 ],
 "metadata": {
  "kernelspec": {
   "display_name": "Python 3",
   "language": "python",
   "name": "python3"
  },
  "language_info": {
   "codemirror_mode": {
    "name": "ipython",
    "version": 2
   },
   "file_extension": ".py",
   "mimetype": "text/x-python",
   "name": "python",
   "nbconvert_exporter": "python",
   "pygments_lexer": "ipython2",
   "version": "2.7.6"
  }
 },
 "nbformat": 4,
 "nbformat_minor": 5
}
