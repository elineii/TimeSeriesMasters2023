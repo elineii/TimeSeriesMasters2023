{
 "cells": [
  {
   "cell_type": "markdown",
   "source": [
    "# Hierarchical series with different levels of granularity"
   ],
   "metadata": {
    "collapsed": false
   },
   "id": "4ca1b262de4ec769"
  },
  {
   "cell_type": "markdown",
   "source": [
    "## Hierarchical Time Series Forecasting & Reconciliation\n",
    "*It has the following steps:*\n",
    "- Building Hierarchical Time Series\n",
    "- Hierarchical Forecasting\n",
    "- Forecast reconciliation\n",
    "## Time Series at top levels have noticeable trends and seasonality. We built time series models on each time series using ARIMA.\n",
    "- we took seasonality and trends into consideration when modeling\n",
    "- we used automatic selection of parameters for ARIMA model\n",
    "## We tried 3 such simplified reconciliaton strategies: \n",
    "- BU, \n",
    "- OLS, \n",
    "- Mint\n"
   ],
   "metadata": {
    "collapsed": false
   },
   "id": "fd7415c944e85ed2"
  },
  {
   "cell_type": "code",
   "execution_count": null,
   "id": "initial_id",
   "metadata": {
    "collapsed": true
   },
   "outputs": [],
   "source": [
    "import numpy as np\n",
    "import pandas as pd\n",
    "import matplotlib.pyplot as plt\n",
    "# import plotly.express as px\n",
    "\n",
    "\n",
    "file_path = '/home/olga/ts_year_project/TimeSeriesMasters2023/eda_olga/energy_hourly_dataset_2012.csv'\n",
    "df = pd.read_csv(file_path)\n",
    "# df"
   ]
  },
  {
   "cell_type": "code",
   "outputs": [],
   "source": [
    "#df.set_index('date', inplace=True)"
   ],
   "metadata": {
    "collapsed": false
   },
   "id": "f008722ece8b9b19",
   "execution_count": null
  },
  {
   "cell_type": "code",
   "outputs": [],
   "source": [
    "is_unique = df['date'].duplicated().any()\n",
    "is_unique"
   ],
   "metadata": {
    "collapsed": false
   },
   "id": "3627027020ed50e5",
   "execution_count": null
  },
  {
   "cell_type": "code",
   "outputs": [],
   "source": [
    "df.reset_index(inplace=True)"
   ],
   "metadata": {
    "collapsed": false
   },
   "id": "66a1342913f00924",
   "execution_count": null
  },
  {
   "cell_type": "code",
   "outputs": [],
   "source": [
    "# fig = px.line(df, x='date', y='value', labels={'value': 'Потребление электроэнергии'}, title='Потребление электроэнергии по часам')\n",
    "# fig.show()"
   ],
   "metadata": {
    "collapsed": false
   },
   "id": "6f5af3a742b0b7f7",
   "execution_count": null
  },
  {
   "cell_type": "code",
   "outputs": [],
   "source": [
    "# df.index = pd.to_datetime(df.index)"
   ],
   "metadata": {
    "collapsed": false
   },
   "id": "918764b036c3d02d",
   "execution_count": null
  },
  {
   "cell_type": "code",
   "outputs": [],
   "source": [
    "# df.reset_index(inplace=True)"
   ],
   "metadata": {
    "collapsed": false
   },
   "id": "711c57c9fc901750",
   "execution_count": null
  },
  {
   "cell_type": "code",
   "outputs": [],
   "source": [
    "# df.info()"
   ],
   "metadata": {
    "collapsed": false
   },
   "id": "b3c93a94f8be5e45",
   "execution_count": null
  },
  {
   "cell_type": "code",
   "outputs": [],
   "source": [
    "def transform_to_custom_freq(df, freq):\n",
    "    df['value'] = pd.to_numeric(df['value'], errors='coerce')\n",
    "    # df.set_index('date', inplace=True)\n",
    "    df_resampled = df.resample(freq).sum()\n",
    "    # df_resampled.reset_index(inplace=True)\n",
    "    \n",
    "    return df_resampled"
   ],
   "metadata": {
    "collapsed": false
   },
   "id": "bc1c69fb7bf222af",
   "execution_count": null
  },
  {
   "cell_type": "markdown",
   "source": [
    "## week"
   ],
   "metadata": {
    "collapsed": false
   },
   "id": "703566641fcc37c3"
  },
  {
   "cell_type": "code",
   "outputs": [],
   "source": [
    "df['date'] = pd.to_datetime(df['date'])\n",
    "df.set_index('date', inplace=True)"
   ],
   "metadata": {
    "collapsed": false
   },
   "id": "c7797eb6b637af05",
   "execution_count": null
  },
  {
   "cell_type": "code",
   "outputs": [],
   "source": [
    "# df"
   ],
   "metadata": {
    "collapsed": false
   },
   "id": "fe4f6e5812a4534a",
   "execution_count": null
  },
  {
   "cell_type": "code",
   "outputs": [],
   "source": [
    "selected_freq = 'W'\n",
    "df_resampled_week = transform_to_custom_freq(df, selected_freq)\n",
    "# df_resampled_week"
   ],
   "metadata": {
    "collapsed": false
   },
   "id": "e9c70f842a141f8f",
   "execution_count": null
  },
  {
   "cell_type": "markdown",
   "source": [
    "## Daily"
   ],
   "metadata": {
    "collapsed": false
   },
   "id": "45d18933bb0b0979"
  },
  {
   "cell_type": "code",
   "outputs": [],
   "source": [
    "# df"
   ],
   "metadata": {
    "collapsed": false
   },
   "id": "26c0f69a4645e42c",
   "execution_count": null
  },
  {
   "cell_type": "code",
   "outputs": [],
   "source": [
    "df.reset_index(inplace=True)"
   ],
   "metadata": {
    "collapsed": false
   },
   "id": "ca157e46714d0911",
   "execution_count": null
  },
  {
   "cell_type": "code",
   "outputs": [],
   "source": [
    "df['date'] = pd.to_datetime(df['date'])\n",
    "df.set_index('date', inplace=True)\n",
    "# df"
   ],
   "metadata": {
    "collapsed": false
   },
   "id": "fecb836cec2be391",
   "execution_count": null
  },
  {
   "cell_type": "code",
   "outputs": [],
   "source": [
    "selected_freq = 'D'\n",
    "df_resampled_day = transform_to_custom_freq(df, selected_freq)\n",
    "# df_resampled_day"
   ],
   "metadata": {
    "collapsed": false
   },
   "id": "e5c4332afc2a03e5",
   "execution_count": null
  },
  {
   "cell_type": "markdown",
   "source": [
    "## по месяцам"
   ],
   "metadata": {
    "collapsed": false
   },
   "id": "d4be024cd194718e"
  },
  {
   "cell_type": "code",
   "outputs": [],
   "source": [
    "df.reset_index(inplace=True)"
   ],
   "metadata": {
    "collapsed": false
   },
   "id": "258a017efa72354d",
   "execution_count": null
  },
  {
   "cell_type": "code",
   "outputs": [],
   "source": [
    "df['date'] = pd.to_datetime(df['date'])\n",
    "df.set_index('date', inplace=True)"
   ],
   "metadata": {
    "collapsed": false
   },
   "id": "b8cb88466657c70",
   "execution_count": null
  },
  {
   "cell_type": "code",
   "outputs": [],
   "source": [
    "# df.reset_index(inplace=True)\n",
    "selected_freq = 'M'\n",
    "df_resampled_month = transform_to_custom_freq(df, selected_freq)\n",
    "# df_resampled_month"
   ],
   "metadata": {
    "collapsed": false
   },
   "id": "bf9f85af6a355b8e",
   "execution_count": null
  },
  {
   "cell_type": "code",
   "outputs": [],
   "source": [
    "df_resampled_month.reset_index(inplace=True)"
   ],
   "metadata": {
    "collapsed": false
   },
   "id": "33b7690d000f7c0f",
   "execution_count": null
  },
  {
   "cell_type": "code",
   "outputs": [],
   "source": [
    "# df_resampled_month"
   ],
   "metadata": {
    "collapsed": false
   },
   "id": "567d420e83652d92",
   "execution_count": null
  },
  {
   "cell_type": "code",
   "outputs": [],
   "source": [
    "# fig = px.line(df_resampled_month, x='date', y='value', labels={'value': 'Потребление электроэнергии'}, title='Потребление электроэнергии по месяцам')\n",
    "# fig.show()"
   ],
   "metadata": {
    "collapsed": false
   },
   "id": "1beee21846328e3c",
   "execution_count": null
  },
  {
   "cell_type": "code",
   "outputs": [],
   "source": [
    "# df"
   ],
   "metadata": {
    "collapsed": false
   },
   "id": "13c15c3dd28fc75c",
   "execution_count": null
  },
  {
   "cell_type": "code",
   "outputs": [],
   "source": [],
   "metadata": {
    "collapsed": false
   },
   "id": "a240dede943624f9",
   "execution_count": null
  },
  {
   "cell_type": "markdown",
   "source": [
    "## Обучение моделей на каждой гранулярности"
   ],
   "metadata": {
    "collapsed": false
   },
   "id": "917505b86a0ea828"
  },
  {
   "cell_type": "code",
   "outputs": [],
   "source": [
    "from statsmodels.tsa.arima.model import ARIMA\n",
    "# from fbprophet import Prophet"
   ],
   "metadata": {
    "collapsed": false
   },
   "id": "c7118632fbff51df",
   "execution_count": null
  },
  {
   "cell_type": "code",
   "outputs": [],
   "source": [
    "# !pip install statsmodels\n",
    "#!python -m pip install prophet"
   ],
   "metadata": {
    "collapsed": false
   },
   "id": "89eddc21c2ebaf61",
   "execution_count": null
  },
  {
   "cell_type": "code",
   "outputs": [],
   "source": [
    "# !python -m pip install fbprophet"
   ],
   "metadata": {
    "collapsed": false
   },
   "id": "df3024aa1f6c8078",
   "execution_count": null
  },
  {
   "cell_type": "code",
   "outputs": [],
   "source": [
    "from pmdarima import auto_arima"
   ],
   "metadata": {
    "collapsed": false
   },
   "id": "b69e9a514d925590",
   "execution_count": null
  },
  {
   "cell_type": "code",
   "outputs": [],
   "source": [
    "# !pip install pmdarima"
   ],
   "metadata": {
    "collapsed": false
   },
   "id": "857a897e084a7f0d",
   "execution_count": null
  },
  {
   "cell_type": "markdown",
   "source": [
    "## hour"
   ],
   "metadata": {
    "collapsed": false
   },
   "id": "3fd7add49a90cc11"
  },
  {
   "cell_type": "code",
   "outputs": [],
   "source": [
    "from sklearn.metrics import mean_absolute_error, mean_squared_error"
   ],
   "metadata": {
    "collapsed": false
   },
   "id": "9b159053bb1b85",
   "execution_count": null
  },
  {
   "cell_type": "code",
   "outputs": [],
   "source": [
    "train_size = int(len(df) * 0.8)\n",
    "train_hour, test_hour = df.iloc[:train_size], df.iloc[train_size:]"
   ],
   "metadata": {
    "collapsed": false
   },
   "id": "2e0f3d3bbde32484",
   "execution_count": null
  },
  {
   "cell_type": "code",
   "outputs": [],
   "source": [
    "auto_arima_model = auto_arima(train_hour['value'], seasonal=True, stepwise=True, suppress_warnings=True)"
   ],
   "metadata": {
    "collapsed": false
   },
   "id": "5a11e1616ca877bf",
   "execution_count": null
  },
  {
   "cell_type": "code",
   "outputs": [],
   "source": [
    "auto_arima_model.order"
   ],
   "metadata": {
    "collapsed": false
   },
   "id": "e940688d6bccc658",
   "execution_count": null
  },
  {
   "cell_type": "code",
   "outputs": [],
   "source": [
    "auto_arima_model.seasonal_order"
   ],
   "metadata": {
    "collapsed": false
   },
   "id": "fd5bc646de33e86b",
   "execution_count": null
  },
  {
   "cell_type": "code",
   "outputs": [],
   "source": [
    "print(f'ARIMA Order: {auto_arima_model.order}')\n",
    "print(f'ARIMA Seasonal Order: {auto_arima_model.seasonal_order}')"
   ],
   "metadata": {
    "collapsed": false
   },
   "id": "6040cd847ce5adb2",
   "execution_count": null
  },
  {
   "cell_type": "code",
   "outputs": [],
   "source": [
    "fitted_model = auto_arima_model.fit(train_hour['value'])"
   ],
   "metadata": {
    "collapsed": false
   },
   "id": "c4ea97d272e544ca",
   "execution_count": null
  },
  {
   "cell_type": "code",
   "outputs": [],
   "source": [
    "forecast_hour = fitted_model.predict(n_periods=len(test_hour))"
   ],
   "metadata": {
    "collapsed": false
   },
   "id": "21c98abe5ba540ed",
   "execution_count": null
  },
  {
   "cell_type": "code",
   "outputs": [],
   "source": [
    "# forecast_hour"
   ],
   "metadata": {
    "collapsed": false
   },
   "id": "65146bd39e6015fc",
   "execution_count": null
  },
  {
   "cell_type": "code",
   "outputs": [],
   "source": [
    "mae = mean_absolute_error(test_hour['value'], forecast_hour)\n",
    "mse = mean_squared_error(test_hour['value'], forecast_hour)"
   ],
   "metadata": {
    "collapsed": false
   },
   "id": "db2c6f25446fb843",
   "execution_count": null
  },
  {
   "cell_type": "code",
   "outputs": [],
   "source": [
    "print(f'Test Mean Absolute Error: {mae}')\n",
    "print(f'Test Mean Squared Error: {mse}')"
   ],
   "metadata": {
    "collapsed": false
   },
   "id": "e4ddf8fd19cd4d23",
   "execution_count": null
  },
  {
   "cell_type": "code",
   "outputs": [],
   "source": [
    "plt.figure(figsize=(12, 6))\n",
    "plt.plot(train_hour.index, train_hour['value'], label='Обучающая выборка')\n",
    "plt.plot(test_hour.index, test_hour['value'], label='Тестовая выборка')\n",
    "plt.plot(test_hour.index, forecast_hour, label='Прогноз ARIMA')\n",
    "plt.title('Прогноз ARIMA с автоматически подобранными параметрами')\n",
    "plt.xlabel('Дата')\n",
    "plt.ylabel('Значение')\n",
    "plt.legend()\n",
    "# plt.show()"
   ],
   "metadata": {
    "collapsed": false
   },
   "id": "de2911fac9355f9",
   "execution_count": null
  },
  {
   "cell_type": "code",
   "outputs": [],
   "source": [],
   "metadata": {
    "collapsed": false
   },
   "id": "42b9b8e481c6e304",
   "execution_count": null
  },
  {
   "cell_type": "markdown",
   "source": [
    "## week"
   ],
   "metadata": {
    "collapsed": false
   },
   "id": "c39dbf355829a351"
  },
  {
   "cell_type": "code",
   "outputs": [],
   "source": [
    "train_size = int(len(df_resampled_week) * 0.8)\n",
    "train_week, test_week = df_resampled_week.iloc[:train_size], df_resampled_week.iloc[train_size:]\n",
    "\n",
    "auto_arima_model = auto_arima(train_week['value'], seasonal=True, stepwise=True, suppress_warnings=True)\n",
    "print(auto_arima_model.order)\n",
    "print(auto_arima_model.seasonal_order)\n",
    "\n",
    "print(f'ARIMA Order: {auto_arima_model.order}')\n",
    "print(f'ARIMA Seasonal Order: {auto_arima_model.seasonal_order}')\n",
    "\n",
    "fitted_model = auto_arima_model.fit(train_week['value'])\n",
    "\n",
    "forecast_week = fitted_model.predict(n_periods=len(test_week))\n",
    "\n",
    "mae = mean_absolute_error(test_week['value'], forecast_week)\n",
    "mse = mean_squared_error(test_week['value'], forecast_week)\n",
    "print(f'Test Mean Absolute Error: {mae}')\n",
    "print(f'Test Mean Squared Error: {mse}')"
   ],
   "metadata": {
    "collapsed": false
   },
   "id": "733b3df140ce2c95",
   "execution_count": null
  },
  {
   "cell_type": "code",
   "outputs": [],
   "source": [
    "plt.figure(figsize=(12, 6))\n",
    "plt.plot(train_week.index, train_week['value'], label='Обучающая выборка')\n",
    "plt.plot(test_week.index, test_week['value'], label='Тестовая выборка')\n",
    "plt.plot(test_week.index, forecast_week, label='Прогноз ARIMA')\n",
    "plt.title('Прогноз ARIMA с автоматически подобранными параметрами')\n",
    "plt.xlabel('Дата')\n",
    "plt.ylabel('Значение')\n",
    "plt.legend()\n",
    "# plt.show()"
   ],
   "metadata": {
    "collapsed": false
   },
   "id": "fe40badc3853e912",
   "execution_count": null
  },
  {
   "cell_type": "code",
   "outputs": [],
   "source": [
    "# forecast_week"
   ],
   "metadata": {
    "collapsed": false
   },
   "id": "258ddcc5ced72a1e",
   "execution_count": null
  },
  {
   "cell_type": "markdown",
   "source": [
    "## day"
   ],
   "metadata": {
    "collapsed": false
   },
   "id": "67d1ada1b1159362"
  },
  {
   "cell_type": "code",
   "outputs": [],
   "source": [
    "train_size = int(len(df_resampled_day) * 0.8)\n",
    "train_day, test_day = df_resampled_day.iloc[:train_size], df_resampled_day.iloc[train_size:]\n",
    "\n",
    "auto_arima_model = auto_arima(train_day['value'], seasonal=True, stepwise=True, suppress_warnings=True)\n",
    "print(auto_arima_model.order)\n",
    "print(auto_arima_model.seasonal_order)\n",
    "\n",
    "print(f'ARIMA Order: {auto_arima_model.order}')\n",
    "print(f'ARIMA Seasonal Order: {auto_arima_model.seasonal_order}')\n",
    "\n",
    "fitted_model = auto_arima_model.fit(train_day['value'])\n",
    "\n",
    "forecast_day = fitted_model.predict(n_periods=len(test_day))\n",
    "\n",
    "mae = mean_absolute_error(test_day['value'], forecast_day)\n",
    "mse = mean_squared_error(test_day['value'], forecast_day)\n",
    "print(f'Test Mean Absolute Error: {mae}')\n",
    "print(f'Test Mean Squared Error: {mse}')\n"
   ],
   "metadata": {
    "collapsed": false
   },
   "id": "4b50846c7b8b0474",
   "execution_count": null
  },
  {
   "cell_type": "code",
   "outputs": [],
   "source": [
    "plt.figure(figsize=(12, 6))\n",
    "plt.plot(train_day.index, train_day['value'], label='Обучающая выборка')\n",
    "plt.plot(test_day.index, test_day['value'], label='Тестовая выборка')\n",
    "plt.plot(test_day.index, forecast_day, label='Прогноз ARIMA')\n",
    "plt.title('Прогноз ARIMA с автоматически подобранными параметрами')\n",
    "plt.xlabel('Дата')\n",
    "plt.ylabel('Значение')\n",
    "plt.legend()\n",
    "# plt.show()"
   ],
   "metadata": {
    "collapsed": false
   },
   "id": "d1a21dc24ac5ac2c",
   "execution_count": null
  },
  {
   "cell_type": "code",
   "outputs": [],
   "source": [
    "# forecast_day"
   ],
   "metadata": {
    "collapsed": false
   },
   "id": "89707a09694a0fa2",
   "execution_count": null
  },
  {
   "cell_type": "code",
   "outputs": [],
   "source": [
    "# forecast_hour"
   ],
   "metadata": {
    "collapsed": false
   },
   "id": "fc1dcef3fcf86397",
   "execution_count": null
  },
  {
   "cell_type": "code",
   "outputs": [],
   "source": [
    "# forecast_week"
   ],
   "metadata": {
    "collapsed": false
   },
   "id": "118d46dc2a583ef5",
   "execution_count": null
  },
  {
   "cell_type": "code",
   "outputs": [],
   "source": [],
   "metadata": {
    "collapsed": false
   },
   "id": "97d1e0d9cd6ace9",
   "execution_count": null
  },
  {
   "cell_type": "markdown",
   "source": [
    "## Применяем реконсиляцию методами bu, ols, mint"
   ],
   "metadata": {
    "collapsed": false
   },
   "id": "fadd0997e5bc98d6"
  },
  {
   "cell_type": "code",
   "outputs": [],
   "source": [
    "from hierarchicalforecast.utils import aggregate\n",
    "from hierarchicalforecast.methods import BottomUp, MinTrace\n",
    "from hierarchicalforecast.core import HierarchicalReconciliation\n",
    "from hierarchicalforecast.evaluation import HierarchicalEvaluation"
   ],
   "metadata": {
    "collapsed": false
   },
   "id": "c4043356f96ed0eb",
   "execution_count": null
  },
  {
   "cell_type": "markdown",
   "source": [
    "## Bottom-Up"
   ],
   "metadata": {
    "collapsed": false
   },
   "id": "c5309dc6a7f8ed70"
  },
  {
   "cell_type": "code",
   "outputs": [],
   "source": [
    "forecast_day_combined = forecast_hour.resample('D').sum() \n",
    "# forecast_day_combined"
   ],
   "metadata": {
    "collapsed": false
   },
   "id": "eebc4b007653b998",
   "execution_count": null
  },
  {
   "cell_type": "code",
   "outputs": [],
   "source": [
    "mae = mean_absolute_error(test_day['value'], forecast_day_combined)\n",
    "mse = mean_squared_error(test_day['value'], forecast_day_combined)\n",
    "print(f'Test Mean Absolute Error: {mae}')\n",
    "print(f'Test Mean Squared Error: {mse}')"
   ],
   "metadata": {
    "collapsed": false
   },
   "id": "11238085f6084947",
   "execution_count": null
  },
  {
   "cell_type": "code",
   "outputs": [],
   "source": [
    "# Combine lower-level forecasts to obtain higher-level forecasts using the Bottom-Up method\n",
    "forecast_week_combined = forecast_day_combined.resample('W').sum()  # Aggregating hourly forecasts to weekly\n",
    "# forecast_week_combined"
   ],
   "metadata": {
    "collapsed": false
   },
   "id": "b65a4a24e2284fc4",
   "execution_count": null
  },
  {
   "cell_type": "code",
   "outputs": [],
   "source": [
    "mae = mean_absolute_error(test_week['value'], forecast_week_combined)\n",
    "mse = mean_squared_error(test_week['value'], forecast_week_combined)\n",
    "print(f'Test Mean Absolute Error: {mae}')\n",
    "print(f'Test Mean Squared Error: {mse}')"
   ],
   "metadata": {
    "collapsed": false
   },
   "id": "fedcbb8242212f35",
   "execution_count": null
  },
  {
   "cell_type": "code",
   "outputs": [],
   "source": [],
   "metadata": {
    "collapsed": false
   },
   "id": "1259a663b49e1d47",
   "execution_count": null
  },
  {
   "cell_type": "markdown",
   "source": [
    "## MinT method"
   ],
   "metadata": {
    "collapsed": false
   },
   "id": "879c9903ca6616c7"
  },
  {
   "cell_type": "code",
   "outputs": [],
   "source": [
    "# tried to take code for categoracal hierarchy from here https://gist.github.com/ngupta23/1e104f18c0440156953ac37dc8e2a616"
   ],
   "metadata": {
    "collapsed": false
   },
   "id": "8d1db861ea0fd46f",
   "execution_count": null
  },
  {
   "cell_type": "code",
   "outputs": [],
   "source": [
    "from hierarchicalforecast.utils import aggregate\n",
    "from hierarchicalforecast.methods import BottomUp, TopDown, MinTrace, ERM\n",
    "from hierarchicalforecast.core import HierarchicalReconciliation\n",
    "from hierarchicalforecast.evaluation import HierarchicalEvaluation"
   ],
   "metadata": {
    "collapsed": false
   },
   "id": "862632e8e97285e2",
   "execution_count": null
  },
  {
   "cell_type": "code",
   "outputs": [],
   "source": [
    "# # You can select a reconciler from our collection\n",
    "# reconcilers = [\n",
    "#       BottomUp(),\n",
    "#       TopDown(method='forecast_proportions'),\n",
    "#       # TopDown(method='average_proportions'),\n",
    "#       # TopDown(method='proportion_averages'),\n",
    "#       MinTrace(method='ols'),\n",
    "#       # MinTrace(method='wls_var'),\n",
    "#       # MinTrace(method='mint_shrink'),ls\n",
    "#       # #ERM(method='reg_bu', lambda_reg=100) # Extremely inneficient\n",
    "#       ERM(method='closed')\n",
    "# ]\n",
    "# hrec = HierarchicalReconciliation(reconcilers=reconcilers)"
   ],
   "metadata": {
    "collapsed": false
   },
   "id": "b7cf6a093dacd271",
   "execution_count": null
  },
  {
   "cell_type": "code",
   "outputs": [],
   "source": [
    "# Y_rec_df = hrec.reconcile(Y_hat_df=Y_hat_df, \n",
    "#                           Y_df=Y_fitted_df,\n",
    "#                           S=S_df, tags=tags)\n",
    "# Y_rec_df.groupby('unique_id').head(FH)"
   ],
   "metadata": {
    "collapsed": false
   },
   "id": "f32bddc9c2d8bd5f",
   "execution_count": null
  },
  {
   "cell_type": "code",
   "outputs": [],
   "source": [
    "df_reduced = df.drop(columns=['index', 'id'])\n",
    "df_reduced"
   ],
   "metadata": {
    "collapsed": false
   },
   "id": "9a115970ad2aaf56",
   "execution_count": null
  },
  {
   "cell_type": "code",
   "outputs": [],
   "source": [
    "df_reduced.info()"
   ],
   "metadata": {
    "collapsed": false
   },
   "id": "5fd2bd3c3d99f13e",
   "execution_count": null
  },
  {
   "cell_type": "code",
   "outputs": [],
   "source": [
    "df_reduced.reset_index(inplace=True)"
   ],
   "metadata": {
    "collapsed": false
   },
   "id": "72507e2e8b843852",
   "execution_count": null
  },
  {
   "cell_type": "code",
   "outputs": [],
   "source": [
    "df_reduced"
   ],
   "metadata": {
    "collapsed": false
   },
   "id": "f2466f3a02c14b72",
   "execution_count": null
  },
  {
   "cell_type": "code",
   "outputs": [],
   "source": [
    "df_reduced.info()"
   ],
   "metadata": {
    "collapsed": false
   },
   "id": "13f63846e9f47d24",
   "execution_count": null
  },
  {
   "cell_type": "code",
   "outputs": [],
   "source": [
    "df_reduced"
   ],
   "metadata": {
    "collapsed": false
   },
   "id": "7d98589fcaefc635",
   "execution_count": null
  },
  {
   "cell_type": "code",
   "outputs": [],
   "source": [],
   "metadata": {
    "collapsed": false
   },
   "id": "4eb271ff4b662e7f",
   "execution_count": null
  },
  {
   "cell_type": "code",
   "outputs": [],
   "source": [
    "# Добавление столбцов 'hour', 'day' и 'week'\n",
    "df_reduced['hour'] = df_reduced['date'].astype(str)\n",
    "df_reduced['day'] = df_reduced['date'].dt.strftime('%Y-%m-%d %H:%M:%S').apply(lambda x: x.split(' ')[0]).astype(str)\n",
    "df_reduced['week'] = df_reduced['date'].dt.to_period(\"W-SUN\").apply(lambda x: x.start_time).astype(str)\n",
    "df_reduced['month'] = df_reduced['date'].dt.strftime('%Y-%m').astype(str)\n",
    "\n",
    "# Вывод результата\n",
    "df_reduced"
   ],
   "metadata": {
    "collapsed": false
   },
   "id": "7ffde26b432a9ddb",
   "execution_count": null
  },
  {
   "cell_type": "code",
   "outputs": [],
   "source": [
    "df_reduced['date'] = df_reduced['month'].astype(str)"
   ],
   "metadata": {
    "collapsed": false
   },
   "id": "f2d4c6723eac1d81",
   "execution_count": null
  },
  {
   "cell_type": "code",
   "outputs": [],
   "source": [
    "df_reduced.info()"
   ],
   "metadata": {
    "collapsed": false
   },
   "id": "81a336de57c1fafa",
   "execution_count": null
  },
  {
   "cell_type": "code",
   "outputs": [],
   "source": [
    "df_reduced = df_reduced.rename(columns={'value':'y', 'date':'ds'})\n",
    "df_reduced"
   ],
   "metadata": {
    "collapsed": false
   },
   "id": "fa32bca4d17b4055",
   "execution_count": null
  },
  {
   "cell_type": "code",
   "outputs": [],
   "source": [
    "# Create hierarchical structure and constraints\n",
    "hierarchy_levels = [\n",
    "    ['month'],\n",
    "    ['month', 'week'],\n",
    "    ['month', 'week', 'day'],\n",
    "    ['month', 'week', 'day', 'hour']\n",
    "  ]\n",
    "Y_hier_df, S_df, tags = aggregate(df=df_reduced, spec=hierarchy_levels)\n",
    "Y_hier_df = Y_hier_df.reset_index()\n",
    "print('S_df.shape', S_df.shape)\n",
    "print('Y_hier_df.shape', Y_hier_df.shape)\n",
    "print(\"tags['month']\", tags['month'])"
   ],
   "metadata": {
    "collapsed": false
   },
   "id": "e73fefceafc74a8d",
   "execution_count": null
  },
  {
   "cell_type": "code",
   "outputs": [],
   "source": [
    "Y_hier_df[\"unique_id\"].unique()"
   ],
   "metadata": {
    "collapsed": false
   },
   "id": "f6f15ebe5f6c1f25",
   "execution_count": null
  },
  {
   "cell_type": "code",
   "outputs": [],
   "source": [
    "S_df"
   ],
   "metadata": {
    "collapsed": false
   },
   "id": "3a5ef411fa9675ef",
   "execution_count": null
  },
  {
   "cell_type": "code",
   "outputs": [],
   "source": [
    "# import plotly.graph_objects as go\n",
    "# \n",
    "# # Ваш код: создание данных S_df и tags\n",
    "# \n",
    "# # Создание иерархического графика\n",
    "# fig = go.Figure(data=go.Sankey(\n",
    "#     node = dict(\n",
    "#       label = tags\n",
    "#     ),\n",
    "#     link = dict(\n",
    "#       source = S_df['month'], # индекс первоначальной ноды\n",
    "#       target = S_df['hour'], # индекс целевой ноды\n",
    "#       value = S_df['value'] # значение связи\n",
    "#   )))\n",
    "# \n",
    "# fig.show()"
   ],
   "metadata": {
    "collapsed": false
   },
   "id": "b7194387c4fb405c",
   "execution_count": null
  },
  {
   "cell_type": "code",
   "outputs": [],
   "source": [
    "FH = 2  # Forecast Horizon"
   ],
   "metadata": {
    "collapsed": false
   },
   "id": "e9a7e97ff570d843",
   "execution_count": null
  },
  {
   "cell_type": "code",
   "outputs": [],
   "source": [
    "Y_hier_df"
   ],
   "metadata": {
    "collapsed": false
   },
   "id": "ea31ec4014aee581",
   "execution_count": null
  },
  {
   "cell_type": "code",
   "outputs": [],
   "source": [
    "Y_test_df"
   ],
   "metadata": {
    "collapsed": false
   },
   "id": "6f30bbffb8adc615",
   "execution_count": null
  },
  {
   "cell_type": "code",
   "outputs": [],
   "source": [
    "# Split train/test sets\n",
    "Y_test_df  = Y_hier_df.groupby('unique_id').tail(FH)\n",
    "Y_train_df = Y_hier_df.drop(Y_test_df.index)\n",
    "\n",
    "Y_test_df = Y_test_df.set_index('unique_id')\n",
    "Y_train_df = Y_train_df.set_index('unique_id')\n",
    "\n",
    "Y_train_df.info(), Y_test_df.info()"
   ],
   "metadata": {
    "collapsed": false
   },
   "id": "1a4956cb530a9121",
   "execution_count": null
  },
  {
   "cell_type": "code",
   "outputs": [],
   "source": [
    "from sklearn.model_selection import train_test_split"
   ],
   "metadata": {
    "collapsed": false
   },
   "id": "6f2ef5b195bef476",
   "execution_count": null
  },
  {
   "cell_type": "code",
   "outputs": [],
   "source": [
    "train_df, test_df = train_test_split(Y_hier_df, test_size=0.2, random_state=42)"
   ],
   "metadata": {
    "collapsed": false
   },
   "id": "f729ded3d789fb70",
   "execution_count": null
  },
  {
   "cell_type": "code",
   "outputs": [],
   "source": [
    "train_df.info()"
   ],
   "metadata": {
    "collapsed": false
   },
   "id": "d27aae58a8e36f67",
   "execution_count": null
  },
  {
   "cell_type": "code",
   "outputs": [],
   "source": [
    "test_df.info()"
   ],
   "metadata": {
    "collapsed": false
   },
   "id": "f18bb1883c0f862",
   "execution_count": null
  },
  {
   "cell_type": "code",
   "outputs": [],
   "source": [
    "metric = \"mse\"\n",
    "from statsforecast.core import StatsForecast\n",
    "from tqdm.autonotebook import tqdm\n",
    "import random\n",
    "import os\n",
    "from datasetsforecast.hierarchical import HierarchicalData\n",
    "from hierarchicalforecast.core import HierarchicalReconciliation\n",
    "from hierarchicalforecast.methods import  BottomUp, TopDown, MiddleOut, MinTrace, ERM\n",
    "from statsforecast.core import StatsForecast\n",
    "from statsforecast.models import AutoARIMA, Naive\n",
    "from hierarchicalforecast.evaluation import HierarchicalEvaluation\n",
    "from sklearn.metrics import mean_squared_error as mse"
   ],
   "metadata": {
    "collapsed": false
   },
   "id": "468034587f8aff84",
   "execution_count": null
  },
  {
   "cell_type": "code",
   "outputs": [],
   "source": [
    "# !pip install statsforecast\n",
    "# !pip install datasetsforecast"
   ],
   "metadata": {
    "collapsed": false
   },
   "id": "c47978b50b3e3418",
   "execution_count": null
  },
  {
   "cell_type": "code",
   "outputs": [],
   "source": [
    "# Compute base auto-ARIMA predictions\n",
    "fcst = StatsForecast(df = train_df, models=[AutoARIMA(season_length= 7)], freq='D', n_jobs=-1)\n",
    "x_hat = fcst.forecast(h = 7)"
   ],
   "metadata": {
    "collapsed": false
   },
   "id": "d5510d3c0dd6d9db",
   "execution_count": null
  },
  {
   "cell_type": "code",
   "outputs": [],
   "source": [
    "x_hat"
   ],
   "metadata": {
    "collapsed": false
   },
   "id": "a07c9b402fc32640",
   "execution_count": null
  },
  {
   "cell_type": "code",
   "outputs": [],
   "source": [
    "test_df"
   ],
   "metadata": {
    "collapsed": false
   },
   "id": "7ad18a3236864f11",
   "execution_count": null
  },
  {
   "cell_type": "code",
   "outputs": [],
   "source": [
    "test_df.set_index('unique_id')"
   ],
   "metadata": {
    "collapsed": false
   },
   "id": "ec934733ab6eff12",
   "execution_count": null
  },
  {
   "cell_type": "code",
   "outputs": [],
   "source": [
    "test_df.info()"
   ],
   "metadata": {
    "collapsed": false
   },
   "id": "f6bae25ac7befc19",
   "execution_count": null
  },
  {
   "cell_type": "code",
   "outputs": [],
   "source": [
    "test_df['ds'] = pd.to_datetime(test_df['ds'])\n",
    "test_df.info()"
   ],
   "metadata": {
    "collapsed": false
   },
   "id": "4a78f942ade67e7",
   "execution_count": null
  },
  {
   "cell_type": "code",
   "outputs": [],
   "source": [
    "test_df"
   ],
   "metadata": {
    "collapsed": false
   },
   "id": "bf83df378fba676f",
   "execution_count": null
  },
  {
   "cell_type": "code",
   "outputs": [],
   "source": [
    "x_hat.info()"
   ],
   "metadata": {
    "collapsed": false
   },
   "id": "c216ecd16e1764b3",
   "execution_count": null
  },
  {
   "cell_type": "code",
   "outputs": [],
   "source": [
    "xmat = pd.merge(left = test_df, right = x_hat, on = ['ds', 'unique_id'])\n",
    "xmat.head(3)"
   ],
   "metadata": {
    "collapsed": false
   },
   "id": "a57c71e5a0c7d3f9",
   "execution_count": null
  },
  {
   "cell_type": "code",
   "outputs": [],
   "source": [],
   "metadata": {
    "collapsed": false
   },
   "id": "cf3c82a0f6387eab"
  },
  {
   "cell_type": "markdown",
   "source": [
    "## Сравниваем результаты base и после реконсиляции"
   ],
   "metadata": {
    "collapsed": false
   },
   "id": "18f4c1871be45640"
  },
  {
   "cell_type": "code",
   "outputs": [],
   "source": [
    "# !pip install hierarchicalforecast"
   ],
   "metadata": {
    "collapsed": false
   },
   "id": "e3fa7c1d18928d76",
   "execution_count": null
  },
  {
   "cell_type": "code",
   "outputs": [],
   "source": [],
   "metadata": {
    "collapsed": false
   },
   "id": "6d4774fcb1ef9ebe",
   "execution_count": null
  },
  {
   "cell_type": "markdown",
   "source": [
    "## Выводы"
   ],
   "metadata": {
    "collapsed": false
   },
   "id": "8ece8937ef8a750"
  },
  {
   "cell_type": "markdown",
   "source": [
    "- Hierarchical Forecasting & Reconciliation should improve the overall prediction of intermittent time series with correct reconciliation strategy\n",
    "- Hierarchical Forecasting & Reconciliation can apply to any time series with a hierarchy structure\n",
    "\n",
    "## HTS offers a lot of flexibilities:\n",
    "- Assist to build hierarchical time series from every level data\n",
    "- We can choose different ML algorithms for different levels of hierarchical time series\n",
    "- 3 reconciliation strategies are available at this moment.\n"
   ],
   "metadata": {
    "collapsed": false
   },
   "id": "4b89042e15d07e99"
  },
  {
   "cell_type": "code",
   "outputs": [],
   "source": [],
   "metadata": {
    "collapsed": false
   },
   "id": "91586918368232ae",
   "execution_count": null
  }
 ],
 "metadata": {
  "kernelspec": {
   "display_name": "Python 3",
   "language": "python",
   "name": "python3"
  },
  "language_info": {
   "codemirror_mode": {
    "name": "ipython",
    "version": 2
   },
   "file_extension": ".py",
   "mimetype": "text/x-python",
   "name": "python",
   "nbconvert_exporter": "python",
   "pygments_lexer": "ipython2",
   "version": "2.7.6"
  }
 },
 "nbformat": 4,
 "nbformat_minor": 5
}
