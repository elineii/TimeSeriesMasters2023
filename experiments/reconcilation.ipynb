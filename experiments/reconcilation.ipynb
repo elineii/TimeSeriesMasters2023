{
 "cells": [
  {
   "cell_type": "markdown",
   "source": [
    "## Hour"
   ],
   "metadata": {
    "collapsed": false
   },
   "id": "b240c1cf3b2d3394"
  },
  {
   "cell_type": "code",
   "execution_count": 267,
   "id": "initial_id",
   "metadata": {
    "collapsed": true,
    "ExecuteTime": {
     "end_time": "2024-03-16T05:27:30.382708Z",
     "start_time": "2024-03-16T05:27:30.370996Z"
    }
   },
   "outputs": [
    {
     "data": {
      "text/plain": "                     date    id  value\n0     2012-01-01 00:00:01     1   69.0\n1     2012-01-01 01:00:01     2   92.0\n2     2012-01-01 02:00:01     3   96.0\n3     2012-01-01 03:00:01     4   92.0\n4     2012-01-01 04:00:01     5   91.0\n...                   ...   ...    ...\n2179  2012-03-31 19:00:01  2180  110.0\n2180  2012-03-31 20:00:01  2181  116.0\n2181  2012-03-31 21:00:01  2182  105.0\n2182  2012-03-31 22:00:01  2183   95.0\n2183  2012-03-31 23:00:01  2184   94.0\n\n[2184 rows x 3 columns]",
      "text/html": "<div>\n<style scoped>\n    .dataframe tbody tr th:only-of-type {\n        vertical-align: middle;\n    }\n\n    .dataframe tbody tr th {\n        vertical-align: top;\n    }\n\n    .dataframe thead th {\n        text-align: right;\n    }\n</style>\n<table border=\"1\" class=\"dataframe\">\n  <thead>\n    <tr style=\"text-align: right;\">\n      <th></th>\n      <th>date</th>\n      <th>id</th>\n      <th>value</th>\n    </tr>\n  </thead>\n  <tbody>\n    <tr>\n      <th>0</th>\n      <td>2012-01-01 00:00:01</td>\n      <td>1</td>\n      <td>69.0</td>\n    </tr>\n    <tr>\n      <th>1</th>\n      <td>2012-01-01 01:00:01</td>\n      <td>2</td>\n      <td>92.0</td>\n    </tr>\n    <tr>\n      <th>2</th>\n      <td>2012-01-01 02:00:01</td>\n      <td>3</td>\n      <td>96.0</td>\n    </tr>\n    <tr>\n      <th>3</th>\n      <td>2012-01-01 03:00:01</td>\n      <td>4</td>\n      <td>92.0</td>\n    </tr>\n    <tr>\n      <th>4</th>\n      <td>2012-01-01 04:00:01</td>\n      <td>5</td>\n      <td>91.0</td>\n    </tr>\n    <tr>\n      <th>...</th>\n      <td>...</td>\n      <td>...</td>\n      <td>...</td>\n    </tr>\n    <tr>\n      <th>2179</th>\n      <td>2012-03-31 19:00:01</td>\n      <td>2180</td>\n      <td>110.0</td>\n    </tr>\n    <tr>\n      <th>2180</th>\n      <td>2012-03-31 20:00:01</td>\n      <td>2181</td>\n      <td>116.0</td>\n    </tr>\n    <tr>\n      <th>2181</th>\n      <td>2012-03-31 21:00:01</td>\n      <td>2182</td>\n      <td>105.0</td>\n    </tr>\n    <tr>\n      <th>2182</th>\n      <td>2012-03-31 22:00:01</td>\n      <td>2183</td>\n      <td>95.0</td>\n    </tr>\n    <tr>\n      <th>2183</th>\n      <td>2012-03-31 23:00:01</td>\n      <td>2184</td>\n      <td>94.0</td>\n    </tr>\n  </tbody>\n</table>\n<p>2184 rows × 3 columns</p>\n</div>"
     },
     "execution_count": 267,
     "metadata": {},
     "output_type": "execute_result"
    }
   ],
   "source": [
    "import numpy as np\n",
    "import pandas as pd\n",
    "import matplotlib.pyplot as plt\n",
    "# import plotly.express as px\n",
    "\n",
    "\n",
    "file_path = '/home/olga/ts_year_project/TimeSeriesMasters2023/eda_olga/energy_hourly_dataset_2012.csv'\n",
    "df = pd.read_csv(file_path)\n",
    "df"
   ]
  },
  {
   "cell_type": "code",
   "outputs": [],
   "source": [
    "def transform_to_custom_freq(df, freq):\n",
    "    df['value'] = pd.to_numeric(df['value'], errors='coerce')\n",
    "    # df.set_index('date', inplace=True)\n",
    "    df_resampled = df.resample(freq).sum()\n",
    "    # df_resampled.reset_index(inplace=True)\n",
    "    \n",
    "    return df_resampled"
   ],
   "metadata": {
    "collapsed": false,
    "ExecuteTime": {
     "end_time": "2024-03-16T05:27:30.585179Z",
     "start_time": "2024-03-16T05:27:30.581142Z"
    }
   },
   "id": "68eab6546b04e0ff",
   "execution_count": 268
  },
  {
   "cell_type": "markdown",
   "source": [
    "## week"
   ],
   "metadata": {
    "collapsed": false
   },
   "id": "49d2958714eeaf41"
  },
  {
   "cell_type": "code",
   "outputs": [
    {
     "data": {
      "text/plain": "                id    value\ndate                       \n2012-01-01     300   2556.0\n2012-01-08   18228  18867.0\n2012-01-15   46452  17953.0\n2012-01-22   74676  17975.0\n2012-01-29  102900  18178.0\n2012-02-05  131124  17876.0\n2012-02-12  159348  18309.0\n2012-02-19  187572  18519.0\n2012-02-26  215796  19173.0\n2012-03-04  244020  18558.0\n2012-03-11  272244  18621.0\n2012-03-18  300468  18509.0\n2012-03-25  328692  17791.0\n2012-04-01  304200  15556.0",
      "text/html": "<div>\n<style scoped>\n    .dataframe tbody tr th:only-of-type {\n        vertical-align: middle;\n    }\n\n    .dataframe tbody tr th {\n        vertical-align: top;\n    }\n\n    .dataframe thead th {\n        text-align: right;\n    }\n</style>\n<table border=\"1\" class=\"dataframe\">\n  <thead>\n    <tr style=\"text-align: right;\">\n      <th></th>\n      <th>id</th>\n      <th>value</th>\n    </tr>\n    <tr>\n      <th>date</th>\n      <th></th>\n      <th></th>\n    </tr>\n  </thead>\n  <tbody>\n    <tr>\n      <th>2012-01-01</th>\n      <td>300</td>\n      <td>2556.0</td>\n    </tr>\n    <tr>\n      <th>2012-01-08</th>\n      <td>18228</td>\n      <td>18867.0</td>\n    </tr>\n    <tr>\n      <th>2012-01-15</th>\n      <td>46452</td>\n      <td>17953.0</td>\n    </tr>\n    <tr>\n      <th>2012-01-22</th>\n      <td>74676</td>\n      <td>17975.0</td>\n    </tr>\n    <tr>\n      <th>2012-01-29</th>\n      <td>102900</td>\n      <td>18178.0</td>\n    </tr>\n    <tr>\n      <th>2012-02-05</th>\n      <td>131124</td>\n      <td>17876.0</td>\n    </tr>\n    <tr>\n      <th>2012-02-12</th>\n      <td>159348</td>\n      <td>18309.0</td>\n    </tr>\n    <tr>\n      <th>2012-02-19</th>\n      <td>187572</td>\n      <td>18519.0</td>\n    </tr>\n    <tr>\n      <th>2012-02-26</th>\n      <td>215796</td>\n      <td>19173.0</td>\n    </tr>\n    <tr>\n      <th>2012-03-04</th>\n      <td>244020</td>\n      <td>18558.0</td>\n    </tr>\n    <tr>\n      <th>2012-03-11</th>\n      <td>272244</td>\n      <td>18621.0</td>\n    </tr>\n    <tr>\n      <th>2012-03-18</th>\n      <td>300468</td>\n      <td>18509.0</td>\n    </tr>\n    <tr>\n      <th>2012-03-25</th>\n      <td>328692</td>\n      <td>17791.0</td>\n    </tr>\n    <tr>\n      <th>2012-04-01</th>\n      <td>304200</td>\n      <td>15556.0</td>\n    </tr>\n  </tbody>\n</table>\n</div>"
     },
     "execution_count": 269,
     "metadata": {},
     "output_type": "execute_result"
    }
   ],
   "source": [
    "df['date'] = pd.to_datetime(df['date'])\n",
    "df.set_index('date', inplace=True)\n",
    "selected_freq = 'W'\n",
    "df_resampled_week = transform_to_custom_freq(df, selected_freq)\n",
    "df_resampled_week"
   ],
   "metadata": {
    "collapsed": false,
    "ExecuteTime": {
     "end_time": "2024-03-16T05:27:30.614784Z",
     "start_time": "2024-03-16T05:27:30.603007Z"
    }
   },
   "id": "2a17f084e87cfc56",
   "execution_count": 269
  },
  {
   "cell_type": "markdown",
   "source": [
    "## Daily"
   ],
   "metadata": {
    "collapsed": false
   },
   "id": "ab25c2c1bdd09d08"
  },
  {
   "cell_type": "code",
   "outputs": [
    {
     "data": {
      "text/plain": "               id   value\ndate                     \n2012-01-01    300  2556.0\n2012-01-02    876  2635.0\n2012-01-03   1452  2928.0\n2012-01-04   2028  2567.0\n2012-01-05   2604  2700.0\n...           ...     ...\n2012-03-27  49836  2794.0\n2012-03-28  50412  2760.0\n2012-03-29  50988  2260.0\n2012-03-30  51564  2418.0\n2012-03-31  52140  2511.0\n\n[91 rows x 2 columns]",
      "text/html": "<div>\n<style scoped>\n    .dataframe tbody tr th:only-of-type {\n        vertical-align: middle;\n    }\n\n    .dataframe tbody tr th {\n        vertical-align: top;\n    }\n\n    .dataframe thead th {\n        text-align: right;\n    }\n</style>\n<table border=\"1\" class=\"dataframe\">\n  <thead>\n    <tr style=\"text-align: right;\">\n      <th></th>\n      <th>id</th>\n      <th>value</th>\n    </tr>\n    <tr>\n      <th>date</th>\n      <th></th>\n      <th></th>\n    </tr>\n  </thead>\n  <tbody>\n    <tr>\n      <th>2012-01-01</th>\n      <td>300</td>\n      <td>2556.0</td>\n    </tr>\n    <tr>\n      <th>2012-01-02</th>\n      <td>876</td>\n      <td>2635.0</td>\n    </tr>\n    <tr>\n      <th>2012-01-03</th>\n      <td>1452</td>\n      <td>2928.0</td>\n    </tr>\n    <tr>\n      <th>2012-01-04</th>\n      <td>2028</td>\n      <td>2567.0</td>\n    </tr>\n    <tr>\n      <th>2012-01-05</th>\n      <td>2604</td>\n      <td>2700.0</td>\n    </tr>\n    <tr>\n      <th>...</th>\n      <td>...</td>\n      <td>...</td>\n    </tr>\n    <tr>\n      <th>2012-03-27</th>\n      <td>49836</td>\n      <td>2794.0</td>\n    </tr>\n    <tr>\n      <th>2012-03-28</th>\n      <td>50412</td>\n      <td>2760.0</td>\n    </tr>\n    <tr>\n      <th>2012-03-29</th>\n      <td>50988</td>\n      <td>2260.0</td>\n    </tr>\n    <tr>\n      <th>2012-03-30</th>\n      <td>51564</td>\n      <td>2418.0</td>\n    </tr>\n    <tr>\n      <th>2012-03-31</th>\n      <td>52140</td>\n      <td>2511.0</td>\n    </tr>\n  </tbody>\n</table>\n<p>91 rows × 2 columns</p>\n</div>"
     },
     "execution_count": 270,
     "metadata": {},
     "output_type": "execute_result"
    }
   ],
   "source": [
    "df.reset_index(inplace=True)\n",
    "df['date'] = pd.to_datetime(df['date'])\n",
    "df.set_index('date', inplace=True)\n",
    "selected_freq = 'D'\n",
    "df_resampled_day = transform_to_custom_freq(df, selected_freq)\n",
    "df_resampled_day"
   ],
   "metadata": {
    "collapsed": false,
    "ExecuteTime": {
     "end_time": "2024-03-16T05:27:30.651746Z",
     "start_time": "2024-03-16T05:27:30.639297Z"
    }
   },
   "id": "855e12917474f0bd",
   "execution_count": 270
  },
  {
   "cell_type": "markdown",
   "source": [
    "## Month"
   ],
   "metadata": {
    "collapsed": false
   },
   "id": "f427aeab88a07b7f"
  },
  {
   "cell_type": "code",
   "outputs": [
    {
     "data": {
      "text/plain": "                 id    value\ndate                        \n2012-01-31   277140  80686.0\n2012-02-29   760380  76964.0\n2012-03-31  1348500  80791.0",
      "text/html": "<div>\n<style scoped>\n    .dataframe tbody tr th:only-of-type {\n        vertical-align: middle;\n    }\n\n    .dataframe tbody tr th {\n        vertical-align: top;\n    }\n\n    .dataframe thead th {\n        text-align: right;\n    }\n</style>\n<table border=\"1\" class=\"dataframe\">\n  <thead>\n    <tr style=\"text-align: right;\">\n      <th></th>\n      <th>id</th>\n      <th>value</th>\n    </tr>\n    <tr>\n      <th>date</th>\n      <th></th>\n      <th></th>\n    </tr>\n  </thead>\n  <tbody>\n    <tr>\n      <th>2012-01-31</th>\n      <td>277140</td>\n      <td>80686.0</td>\n    </tr>\n    <tr>\n      <th>2012-02-29</th>\n      <td>760380</td>\n      <td>76964.0</td>\n    </tr>\n    <tr>\n      <th>2012-03-31</th>\n      <td>1348500</td>\n      <td>80791.0</td>\n    </tr>\n  </tbody>\n</table>\n</div>"
     },
     "execution_count": 271,
     "metadata": {},
     "output_type": "execute_result"
    }
   ],
   "source": [
    "df.reset_index(inplace=True)\n",
    "df['date'] = pd.to_datetime(df['date'])\n",
    "df.set_index('date', inplace=True)\n",
    "# df.reset_index(inplace=True)\n",
    "selected_freq = 'M'\n",
    "df_resampled_month = transform_to_custom_freq(df, selected_freq)\n",
    "df_resampled_month"
   ],
   "metadata": {
    "collapsed": false,
    "ExecuteTime": {
     "end_time": "2024-03-16T05:27:30.692474Z",
     "start_time": "2024-03-16T05:27:30.682007Z"
    }
   },
   "id": "59cfede017b459fa",
   "execution_count": 271
  },
  {
   "cell_type": "code",
   "outputs": [],
   "source": [
    "from hierarchicalforecast.utils import aggregate\n",
    "from hierarchicalforecast.methods import BottomUp, TopDown, MinTrace, ERM\n",
    "from hierarchicalforecast.core import HierarchicalReconciliation\n",
    "from hierarchicalforecast.evaluation import HierarchicalEvaluation"
   ],
   "metadata": {
    "collapsed": false,
    "ExecuteTime": {
     "end_time": "2024-03-16T05:27:30.808641Z",
     "start_time": "2024-03-16T05:27:30.805619Z"
    }
   },
   "id": "832e73664da4d63d",
   "execution_count": 272
  },
  {
   "cell_type": "markdown",
   "source": [
    "## Full aggregation"
   ],
   "metadata": {
    "collapsed": false
   },
   "id": "7495f72fa245a2db"
  },
  {
   "cell_type": "code",
   "outputs": [
    {
     "data": {
      "text/plain": "                       id  value\ndate                            \n2012-01-01 00:00:01     1   69.0\n2012-01-01 01:00:01     2   92.0\n2012-01-01 02:00:01     3   96.0\n2012-01-01 03:00:01     4   92.0\n2012-01-01 04:00:01     5   91.0\n...                   ...    ...\n2012-03-31 19:00:01  2180  110.0\n2012-03-31 20:00:01  2181  116.0\n2012-03-31 21:00:01  2182  105.0\n2012-03-31 22:00:01  2183   95.0\n2012-03-31 23:00:01  2184   94.0\n\n[2184 rows x 2 columns]",
      "text/html": "<div>\n<style scoped>\n    .dataframe tbody tr th:only-of-type {\n        vertical-align: middle;\n    }\n\n    .dataframe tbody tr th {\n        vertical-align: top;\n    }\n\n    .dataframe thead th {\n        text-align: right;\n    }\n</style>\n<table border=\"1\" class=\"dataframe\">\n  <thead>\n    <tr style=\"text-align: right;\">\n      <th></th>\n      <th>id</th>\n      <th>value</th>\n    </tr>\n    <tr>\n      <th>date</th>\n      <th></th>\n      <th></th>\n    </tr>\n  </thead>\n  <tbody>\n    <tr>\n      <th>2012-01-01 00:00:01</th>\n      <td>1</td>\n      <td>69.0</td>\n    </tr>\n    <tr>\n      <th>2012-01-01 01:00:01</th>\n      <td>2</td>\n      <td>92.0</td>\n    </tr>\n    <tr>\n      <th>2012-01-01 02:00:01</th>\n      <td>3</td>\n      <td>96.0</td>\n    </tr>\n    <tr>\n      <th>2012-01-01 03:00:01</th>\n      <td>4</td>\n      <td>92.0</td>\n    </tr>\n    <tr>\n      <th>2012-01-01 04:00:01</th>\n      <td>5</td>\n      <td>91.0</td>\n    </tr>\n    <tr>\n      <th>...</th>\n      <td>...</td>\n      <td>...</td>\n    </tr>\n    <tr>\n      <th>2012-03-31 19:00:01</th>\n      <td>2180</td>\n      <td>110.0</td>\n    </tr>\n    <tr>\n      <th>2012-03-31 20:00:01</th>\n      <td>2181</td>\n      <td>116.0</td>\n    </tr>\n    <tr>\n      <th>2012-03-31 21:00:01</th>\n      <td>2182</td>\n      <td>105.0</td>\n    </tr>\n    <tr>\n      <th>2012-03-31 22:00:01</th>\n      <td>2183</td>\n      <td>95.0</td>\n    </tr>\n    <tr>\n      <th>2012-03-31 23:00:01</th>\n      <td>2184</td>\n      <td>94.0</td>\n    </tr>\n  </tbody>\n</table>\n<p>2184 rows × 2 columns</p>\n</div>"
     },
     "execution_count": 273,
     "metadata": {},
     "output_type": "execute_result"
    }
   ],
   "source": [
    "df"
   ],
   "metadata": {
    "collapsed": false,
    "ExecuteTime": {
     "end_time": "2024-03-16T05:27:30.884093Z",
     "start_time": "2024-03-16T05:27:30.875933Z"
    }
   },
   "id": "6825457f26ce1e3d",
   "execution_count": 273
  },
  {
   "cell_type": "code",
   "outputs": [],
   "source": [
    "# df_reduced = df.drop(columns=['index', 'id'])\n",
    "df_reduced = df"
   ],
   "metadata": {
    "collapsed": false,
    "ExecuteTime": {
     "end_time": "2024-03-16T05:27:30.982809Z",
     "start_time": "2024-03-16T05:27:30.980211Z"
    }
   },
   "id": "5a96d2fbf5d7bdb0",
   "execution_count": 274
  },
  {
   "cell_type": "code",
   "outputs": [
    {
     "data": {
      "text/plain": "                    date    id  value                 hour         day  \\\n0    2012-01-01 00:00:01     1   69.0  2012-01-01 00:00:01  2012-01-01   \n1    2012-01-01 01:00:01     2   92.0  2012-01-01 01:00:01  2012-01-01   \n2    2012-01-01 02:00:01     3   96.0  2012-01-01 02:00:01  2012-01-01   \n3    2012-01-01 03:00:01     4   92.0  2012-01-01 03:00:01  2012-01-01   \n4    2012-01-01 04:00:01     5   91.0  2012-01-01 04:00:01  2012-01-01   \n...                  ...   ...    ...                  ...         ...   \n2179 2012-03-31 19:00:01  2180  110.0  2012-03-31 19:00:01  2012-03-31   \n2180 2012-03-31 20:00:01  2181  116.0  2012-03-31 20:00:01  2012-03-31   \n2181 2012-03-31 21:00:01  2182  105.0  2012-03-31 21:00:01  2012-03-31   \n2182 2012-03-31 22:00:01  2183   95.0  2012-03-31 22:00:01  2012-03-31   \n2183 2012-03-31 23:00:01  2184   94.0  2012-03-31 23:00:01  2012-03-31   \n\n            week    month  \n0     2011-12-26  2012-01  \n1     2011-12-26  2012-01  \n2     2011-12-26  2012-01  \n3     2011-12-26  2012-01  \n4     2011-12-26  2012-01  \n...          ...      ...  \n2179  2012-03-26  2012-03  \n2180  2012-03-26  2012-03  \n2181  2012-03-26  2012-03  \n2182  2012-03-26  2012-03  \n2183  2012-03-26  2012-03  \n\n[2184 rows x 7 columns]",
      "text/html": "<div>\n<style scoped>\n    .dataframe tbody tr th:only-of-type {\n        vertical-align: middle;\n    }\n\n    .dataframe tbody tr th {\n        vertical-align: top;\n    }\n\n    .dataframe thead th {\n        text-align: right;\n    }\n</style>\n<table border=\"1\" class=\"dataframe\">\n  <thead>\n    <tr style=\"text-align: right;\">\n      <th></th>\n      <th>date</th>\n      <th>id</th>\n      <th>value</th>\n      <th>hour</th>\n      <th>day</th>\n      <th>week</th>\n      <th>month</th>\n    </tr>\n  </thead>\n  <tbody>\n    <tr>\n      <th>0</th>\n      <td>2012-01-01 00:00:01</td>\n      <td>1</td>\n      <td>69.0</td>\n      <td>2012-01-01 00:00:01</td>\n      <td>2012-01-01</td>\n      <td>2011-12-26</td>\n      <td>2012-01</td>\n    </tr>\n    <tr>\n      <th>1</th>\n      <td>2012-01-01 01:00:01</td>\n      <td>2</td>\n      <td>92.0</td>\n      <td>2012-01-01 01:00:01</td>\n      <td>2012-01-01</td>\n      <td>2011-12-26</td>\n      <td>2012-01</td>\n    </tr>\n    <tr>\n      <th>2</th>\n      <td>2012-01-01 02:00:01</td>\n      <td>3</td>\n      <td>96.0</td>\n      <td>2012-01-01 02:00:01</td>\n      <td>2012-01-01</td>\n      <td>2011-12-26</td>\n      <td>2012-01</td>\n    </tr>\n    <tr>\n      <th>3</th>\n      <td>2012-01-01 03:00:01</td>\n      <td>4</td>\n      <td>92.0</td>\n      <td>2012-01-01 03:00:01</td>\n      <td>2012-01-01</td>\n      <td>2011-12-26</td>\n      <td>2012-01</td>\n    </tr>\n    <tr>\n      <th>4</th>\n      <td>2012-01-01 04:00:01</td>\n      <td>5</td>\n      <td>91.0</td>\n      <td>2012-01-01 04:00:01</td>\n      <td>2012-01-01</td>\n      <td>2011-12-26</td>\n      <td>2012-01</td>\n    </tr>\n    <tr>\n      <th>...</th>\n      <td>...</td>\n      <td>...</td>\n      <td>...</td>\n      <td>...</td>\n      <td>...</td>\n      <td>...</td>\n      <td>...</td>\n    </tr>\n    <tr>\n      <th>2179</th>\n      <td>2012-03-31 19:00:01</td>\n      <td>2180</td>\n      <td>110.0</td>\n      <td>2012-03-31 19:00:01</td>\n      <td>2012-03-31</td>\n      <td>2012-03-26</td>\n      <td>2012-03</td>\n    </tr>\n    <tr>\n      <th>2180</th>\n      <td>2012-03-31 20:00:01</td>\n      <td>2181</td>\n      <td>116.0</td>\n      <td>2012-03-31 20:00:01</td>\n      <td>2012-03-31</td>\n      <td>2012-03-26</td>\n      <td>2012-03</td>\n    </tr>\n    <tr>\n      <th>2181</th>\n      <td>2012-03-31 21:00:01</td>\n      <td>2182</td>\n      <td>105.0</td>\n      <td>2012-03-31 21:00:01</td>\n      <td>2012-03-31</td>\n      <td>2012-03-26</td>\n      <td>2012-03</td>\n    </tr>\n    <tr>\n      <th>2182</th>\n      <td>2012-03-31 22:00:01</td>\n      <td>2183</td>\n      <td>95.0</td>\n      <td>2012-03-31 22:00:01</td>\n      <td>2012-03-31</td>\n      <td>2012-03-26</td>\n      <td>2012-03</td>\n    </tr>\n    <tr>\n      <th>2183</th>\n      <td>2012-03-31 23:00:01</td>\n      <td>2184</td>\n      <td>94.0</td>\n      <td>2012-03-31 23:00:01</td>\n      <td>2012-03-31</td>\n      <td>2012-03-26</td>\n      <td>2012-03</td>\n    </tr>\n  </tbody>\n</table>\n<p>2184 rows × 7 columns</p>\n</div>"
     },
     "execution_count": 275,
     "metadata": {},
     "output_type": "execute_result"
    }
   ],
   "source": [
    "df_reduced.reset_index(inplace=True)\n",
    "df_reduced['date'] = pd.to_datetime(df_reduced['date'])\n",
    "# Добавление столбцов 'hour', 'day' и 'week'\n",
    "df_reduced['hour'] = df_reduced['date'].astype(str)\n",
    "df_reduced['day'] = df_reduced['date'].dt.strftime('%Y-%m-%d %H:%M:%S').apply(lambda x: x.split(' ')[0]).astype(str)\n",
    "df_reduced['week'] = df_reduced['date'].dt.to_period(\"W-SUN\").apply(lambda x: x.start_time).astype(str)\n",
    "df_reduced['month'] = df_reduced['date'].dt.strftime('%Y-%m').astype(str)\n",
    "\n",
    "# Вывод результата\n",
    "df_reduced"
   ],
   "metadata": {
    "collapsed": false,
    "ExecuteTime": {
     "end_time": "2024-03-16T05:27:31.267544Z",
     "start_time": "2024-03-16T05:27:31.075402Z"
    }
   },
   "id": "61b96ff495fea426",
   "execution_count": 275
  },
  {
   "cell_type": "code",
   "outputs": [
    {
     "name": "stdout",
     "output_type": "stream",
     "text": [
      "<class 'pandas.core.frame.DataFrame'>\n",
      "RangeIndex: 2184 entries, 0 to 2183\n",
      "Data columns (total 7 columns):\n",
      " #   Column  Non-Null Count  Dtype         \n",
      "---  ------  --------------  -----         \n",
      " 0   date    2184 non-null   datetime64[ns]\n",
      " 1   id      2184 non-null   int64         \n",
      " 2   value   2184 non-null   float64       \n",
      " 3   hour    2184 non-null   object        \n",
      " 4   day     2184 non-null   object        \n",
      " 5   week    2184 non-null   object        \n",
      " 6   month   2184 non-null   object        \n",
      "dtypes: datetime64[ns](1), float64(1), int64(1), object(4)\n",
      "memory usage: 119.6+ KB\n"
     ]
    }
   ],
   "source": [
    "df_reduced.info()"
   ],
   "metadata": {
    "collapsed": false,
    "ExecuteTime": {
     "end_time": "2024-03-16T05:27:31.276985Z",
     "start_time": "2024-03-16T05:27:31.269191Z"
    }
   },
   "id": "220b84073976f285",
   "execution_count": 276
  },
  {
   "cell_type": "code",
   "outputs": [
    {
     "name": "stdout",
     "output_type": "stream",
     "text": [
      "S_df.shape (2294, 2184)\n",
      "Y_hier_df.shape (8736, 3)\n",
      "tags['month'] ['2012-01' '2012-02' '2012-03']\n"
     ]
    },
    {
     "name": "stderr",
     "output_type": "stream",
     "text": [
      "/home/olga/hse_master/develop_tools/fast_api/fast_api_tutorial/venv/lib/python3.10/site-packages/sklearn/preprocessing/_encoders.py:975: FutureWarning: `sparse` was renamed to `sparse_output` in version 1.2 and will be removed in 1.4. `sparse_output` is ignored unless you leave `sparse` to its default value.\n",
      "  warnings.warn(\n"
     ]
    }
   ],
   "source": [
    "df_reduced = df_reduced.rename(columns={'value': 'y', 'date': 'ds'})\n",
    "# Create hierarchical structure and constraints\n",
    "hierarchy_levels = [\n",
    "    ['month'],\n",
    "    ['month', 'week'],\n",
    "    ['month', 'week', 'day'],\n",
    "    ['month', 'week', 'day', 'hour']\n",
    "]\n",
    "Y_hier_df, S_df, tags = aggregate(df=df_reduced, spec=hierarchy_levels)\n",
    "Y_hier_df = Y_hier_df.reset_index()\n",
    "print('S_df.shape', S_df.shape)\n",
    "print('Y_hier_df.shape', Y_hier_df.shape)\n",
    "print(\"tags['month']\", tags['month'])"
   ],
   "metadata": {
    "collapsed": false,
    "ExecuteTime": {
     "end_time": "2024-03-16T05:27:31.981663Z",
     "start_time": "2024-03-16T05:27:31.278494Z"
    }
   },
   "id": "6504940699b84f26",
   "execution_count": 277
  },
  {
   "cell_type": "code",
   "outputs": [
    {
     "data": {
      "text/plain": "{'month': array(['2012-01', '2012-02', '2012-03'], dtype=object),\n 'month/week': array(['2012-01/2011-12-26', '2012-01/2012-01-02', '2012-01/2012-01-09',\n        '2012-01/2012-01-16', '2012-01/2012-01-23', '2012-01/2012-01-30',\n        '2012-02/2012-01-30', '2012-02/2012-02-06', '2012-02/2012-02-13',\n        '2012-02/2012-02-20', '2012-02/2012-02-27', '2012-03/2012-02-27',\n        '2012-03/2012-03-05', '2012-03/2012-03-12', '2012-03/2012-03-19',\n        '2012-03/2012-03-26'], dtype=object),\n 'month/week/day': array(['2012-01/2011-12-26/2012-01-01', '2012-01/2012-01-02/2012-01-02',\n        '2012-01/2012-01-02/2012-01-03', '2012-01/2012-01-02/2012-01-04',\n        '2012-01/2012-01-02/2012-01-05', '2012-01/2012-01-02/2012-01-06',\n        '2012-01/2012-01-02/2012-01-07', '2012-01/2012-01-02/2012-01-08',\n        '2012-01/2012-01-09/2012-01-09', '2012-01/2012-01-09/2012-01-10',\n        '2012-01/2012-01-09/2012-01-11', '2012-01/2012-01-09/2012-01-12',\n        '2012-01/2012-01-09/2012-01-13', '2012-01/2012-01-09/2012-01-14',\n        '2012-01/2012-01-09/2012-01-15', '2012-01/2012-01-16/2012-01-16',\n        '2012-01/2012-01-16/2012-01-17', '2012-01/2012-01-16/2012-01-18',\n        '2012-01/2012-01-16/2012-01-19', '2012-01/2012-01-16/2012-01-20',\n        '2012-01/2012-01-16/2012-01-21', '2012-01/2012-01-16/2012-01-22',\n        '2012-01/2012-01-23/2012-01-23', '2012-01/2012-01-23/2012-01-24',\n        '2012-01/2012-01-23/2012-01-25', '2012-01/2012-01-23/2012-01-26',\n        '2012-01/2012-01-23/2012-01-27', '2012-01/2012-01-23/2012-01-28',\n        '2012-01/2012-01-23/2012-01-29', '2012-01/2012-01-30/2012-01-30',\n        '2012-01/2012-01-30/2012-01-31', '2012-02/2012-01-30/2012-02-01',\n        '2012-02/2012-01-30/2012-02-02', '2012-02/2012-01-30/2012-02-03',\n        '2012-02/2012-01-30/2012-02-04', '2012-02/2012-01-30/2012-02-05',\n        '2012-02/2012-02-06/2012-02-06', '2012-02/2012-02-06/2012-02-07',\n        '2012-02/2012-02-06/2012-02-08', '2012-02/2012-02-06/2012-02-09',\n        '2012-02/2012-02-06/2012-02-10', '2012-02/2012-02-06/2012-02-11',\n        '2012-02/2012-02-06/2012-02-12', '2012-02/2012-02-13/2012-02-13',\n        '2012-02/2012-02-13/2012-02-14', '2012-02/2012-02-13/2012-02-15',\n        '2012-02/2012-02-13/2012-02-16', '2012-02/2012-02-13/2012-02-17',\n        '2012-02/2012-02-13/2012-02-18', '2012-02/2012-02-13/2012-02-19',\n        '2012-02/2012-02-20/2012-02-20', '2012-02/2012-02-20/2012-02-21',\n        '2012-02/2012-02-20/2012-02-22', '2012-02/2012-02-20/2012-02-23',\n        '2012-02/2012-02-20/2012-02-24', '2012-02/2012-02-20/2012-02-25',\n        '2012-02/2012-02-20/2012-02-26', '2012-02/2012-02-27/2012-02-27',\n        '2012-02/2012-02-27/2012-02-28', '2012-02/2012-02-27/2012-02-29',\n        '2012-03/2012-02-27/2012-03-01', '2012-03/2012-02-27/2012-03-02',\n        '2012-03/2012-02-27/2012-03-03', '2012-03/2012-02-27/2012-03-04',\n        '2012-03/2012-03-05/2012-03-05', '2012-03/2012-03-05/2012-03-06',\n        '2012-03/2012-03-05/2012-03-07', '2012-03/2012-03-05/2012-03-08',\n        '2012-03/2012-03-05/2012-03-09', '2012-03/2012-03-05/2012-03-10',\n        '2012-03/2012-03-05/2012-03-11', '2012-03/2012-03-12/2012-03-12',\n        '2012-03/2012-03-12/2012-03-13', '2012-03/2012-03-12/2012-03-14',\n        '2012-03/2012-03-12/2012-03-15', '2012-03/2012-03-12/2012-03-16',\n        '2012-03/2012-03-12/2012-03-17', '2012-03/2012-03-12/2012-03-18',\n        '2012-03/2012-03-19/2012-03-19', '2012-03/2012-03-19/2012-03-20',\n        '2012-03/2012-03-19/2012-03-21', '2012-03/2012-03-19/2012-03-22',\n        '2012-03/2012-03-19/2012-03-23', '2012-03/2012-03-19/2012-03-24',\n        '2012-03/2012-03-19/2012-03-25', '2012-03/2012-03-26/2012-03-26',\n        '2012-03/2012-03-26/2012-03-27', '2012-03/2012-03-26/2012-03-28',\n        '2012-03/2012-03-26/2012-03-29', '2012-03/2012-03-26/2012-03-30',\n        '2012-03/2012-03-26/2012-03-31'], dtype=object),\n 'month/week/day/hour': array(['2012-01/2011-12-26/2012-01-01/2012-01-01 00:00:01',\n        '2012-01/2011-12-26/2012-01-01/2012-01-01 01:00:01',\n        '2012-01/2011-12-26/2012-01-01/2012-01-01 02:00:01', ...,\n        '2012-03/2012-03-26/2012-03-31/2012-03-31 21:00:01',\n        '2012-03/2012-03-26/2012-03-31/2012-03-31 22:00:01',\n        '2012-03/2012-03-26/2012-03-31/2012-03-31 23:00:01'], dtype=object)}"
     },
     "execution_count": 278,
     "metadata": {},
     "output_type": "execute_result"
    }
   ],
   "source": [
    "tags"
   ],
   "metadata": {
    "collapsed": false,
    "ExecuteTime": {
     "end_time": "2024-03-16T05:27:31.989554Z",
     "start_time": "2024-03-16T05:27:31.983659Z"
    }
   },
   "id": "1aa166466d3ce74e",
   "execution_count": 278
  },
  {
   "cell_type": "code",
   "outputs": [
    {
     "data": {
      "text/plain": "                                                   2012-01/2011-12-26/2012-01-01/2012-01-01 00:00:01  \\\n2012-01                                                                                          1.0   \n2012-02                                                                                          0.0   \n2012-03                                                                                          0.0   \n2012-01/2011-12-26                                                                               1.0   \n2012-01/2012-01-02                                                                               0.0   \n...                                                                                              ...   \n2012-03/2012-03-26/2012-03-31/2012-03-31 19:00:01                                                0.0   \n2012-03/2012-03-26/2012-03-31/2012-03-31 20:00:01                                                0.0   \n2012-03/2012-03-26/2012-03-31/2012-03-31 21:00:01                                                0.0   \n2012-03/2012-03-26/2012-03-31/2012-03-31 22:00:01                                                0.0   \n2012-03/2012-03-26/2012-03-31/2012-03-31 23:00:01                                                0.0   \n\n                                                   2012-01/2011-12-26/2012-01-01/2012-01-01 01:00:01  \\\n2012-01                                                                                          1.0   \n2012-02                                                                                          0.0   \n2012-03                                                                                          0.0   \n2012-01/2011-12-26                                                                               1.0   \n2012-01/2012-01-02                                                                               0.0   \n...                                                                                              ...   \n2012-03/2012-03-26/2012-03-31/2012-03-31 19:00:01                                                0.0   \n2012-03/2012-03-26/2012-03-31/2012-03-31 20:00:01                                                0.0   \n2012-03/2012-03-26/2012-03-31/2012-03-31 21:00:01                                                0.0   \n2012-03/2012-03-26/2012-03-31/2012-03-31 22:00:01                                                0.0   \n2012-03/2012-03-26/2012-03-31/2012-03-31 23:00:01                                                0.0   \n\n                                                   2012-01/2011-12-26/2012-01-01/2012-01-01 02:00:01  \\\n2012-01                                                                                          1.0   \n2012-02                                                                                          0.0   \n2012-03                                                                                          0.0   \n2012-01/2011-12-26                                                                               1.0   \n2012-01/2012-01-02                                                                               0.0   \n...                                                                                              ...   \n2012-03/2012-03-26/2012-03-31/2012-03-31 19:00:01                                                0.0   \n2012-03/2012-03-26/2012-03-31/2012-03-31 20:00:01                                                0.0   \n2012-03/2012-03-26/2012-03-31/2012-03-31 21:00:01                                                0.0   \n2012-03/2012-03-26/2012-03-31/2012-03-31 22:00:01                                                0.0   \n2012-03/2012-03-26/2012-03-31/2012-03-31 23:00:01                                                0.0   \n\n                                                   2012-01/2011-12-26/2012-01-01/2012-01-01 03:00:01  \\\n2012-01                                                                                          1.0   \n2012-02                                                                                          0.0   \n2012-03                                                                                          0.0   \n2012-01/2011-12-26                                                                               1.0   \n2012-01/2012-01-02                                                                               0.0   \n...                                                                                              ...   \n2012-03/2012-03-26/2012-03-31/2012-03-31 19:00:01                                                0.0   \n2012-03/2012-03-26/2012-03-31/2012-03-31 20:00:01                                                0.0   \n2012-03/2012-03-26/2012-03-31/2012-03-31 21:00:01                                                0.0   \n2012-03/2012-03-26/2012-03-31/2012-03-31 22:00:01                                                0.0   \n2012-03/2012-03-26/2012-03-31/2012-03-31 23:00:01                                                0.0   \n\n                                                   2012-01/2011-12-26/2012-01-01/2012-01-01 04:00:01  \\\n2012-01                                                                                          1.0   \n2012-02                                                                                          0.0   \n2012-03                                                                                          0.0   \n2012-01/2011-12-26                                                                               1.0   \n2012-01/2012-01-02                                                                               0.0   \n...                                                                                              ...   \n2012-03/2012-03-26/2012-03-31/2012-03-31 19:00:01                                                0.0   \n2012-03/2012-03-26/2012-03-31/2012-03-31 20:00:01                                                0.0   \n2012-03/2012-03-26/2012-03-31/2012-03-31 21:00:01                                                0.0   \n2012-03/2012-03-26/2012-03-31/2012-03-31 22:00:01                                                0.0   \n2012-03/2012-03-26/2012-03-31/2012-03-31 23:00:01                                                0.0   \n\n                                                   2012-01/2011-12-26/2012-01-01/2012-01-01 05:00:01  \\\n2012-01                                                                                          1.0   \n2012-02                                                                                          0.0   \n2012-03                                                                                          0.0   \n2012-01/2011-12-26                                                                               1.0   \n2012-01/2012-01-02                                                                               0.0   \n...                                                                                              ...   \n2012-03/2012-03-26/2012-03-31/2012-03-31 19:00:01                                                0.0   \n2012-03/2012-03-26/2012-03-31/2012-03-31 20:00:01                                                0.0   \n2012-03/2012-03-26/2012-03-31/2012-03-31 21:00:01                                                0.0   \n2012-03/2012-03-26/2012-03-31/2012-03-31 22:00:01                                                0.0   \n2012-03/2012-03-26/2012-03-31/2012-03-31 23:00:01                                                0.0   \n\n                                                   2012-01/2011-12-26/2012-01-01/2012-01-01 06:00:01  \\\n2012-01                                                                                          1.0   \n2012-02                                                                                          0.0   \n2012-03                                                                                          0.0   \n2012-01/2011-12-26                                                                               1.0   \n2012-01/2012-01-02                                                                               0.0   \n...                                                                                              ...   \n2012-03/2012-03-26/2012-03-31/2012-03-31 19:00:01                                                0.0   \n2012-03/2012-03-26/2012-03-31/2012-03-31 20:00:01                                                0.0   \n2012-03/2012-03-26/2012-03-31/2012-03-31 21:00:01                                                0.0   \n2012-03/2012-03-26/2012-03-31/2012-03-31 22:00:01                                                0.0   \n2012-03/2012-03-26/2012-03-31/2012-03-31 23:00:01                                                0.0   \n\n                                                   2012-01/2011-12-26/2012-01-01/2012-01-01 07:00:01  \\\n2012-01                                                                                          1.0   \n2012-02                                                                                          0.0   \n2012-03                                                                                          0.0   \n2012-01/2011-12-26                                                                               1.0   \n2012-01/2012-01-02                                                                               0.0   \n...                                                                                              ...   \n2012-03/2012-03-26/2012-03-31/2012-03-31 19:00:01                                                0.0   \n2012-03/2012-03-26/2012-03-31/2012-03-31 20:00:01                                                0.0   \n2012-03/2012-03-26/2012-03-31/2012-03-31 21:00:01                                                0.0   \n2012-03/2012-03-26/2012-03-31/2012-03-31 22:00:01                                                0.0   \n2012-03/2012-03-26/2012-03-31/2012-03-31 23:00:01                                                0.0   \n\n                                                   2012-01/2011-12-26/2012-01-01/2012-01-01 08:00:01  \\\n2012-01                                                                                          1.0   \n2012-02                                                                                          0.0   \n2012-03                                                                                          0.0   \n2012-01/2011-12-26                                                                               1.0   \n2012-01/2012-01-02                                                                               0.0   \n...                                                                                              ...   \n2012-03/2012-03-26/2012-03-31/2012-03-31 19:00:01                                                0.0   \n2012-03/2012-03-26/2012-03-31/2012-03-31 20:00:01                                                0.0   \n2012-03/2012-03-26/2012-03-31/2012-03-31 21:00:01                                                0.0   \n2012-03/2012-03-26/2012-03-31/2012-03-31 22:00:01                                                0.0   \n2012-03/2012-03-26/2012-03-31/2012-03-31 23:00:01                                                0.0   \n\n                                                   2012-01/2011-12-26/2012-01-01/2012-01-01 09:00:01  \\\n2012-01                                                                                          1.0   \n2012-02                                                                                          0.0   \n2012-03                                                                                          0.0   \n2012-01/2011-12-26                                                                               1.0   \n2012-01/2012-01-02                                                                               0.0   \n...                                                                                              ...   \n2012-03/2012-03-26/2012-03-31/2012-03-31 19:00:01                                                0.0   \n2012-03/2012-03-26/2012-03-31/2012-03-31 20:00:01                                                0.0   \n2012-03/2012-03-26/2012-03-31/2012-03-31 21:00:01                                                0.0   \n2012-03/2012-03-26/2012-03-31/2012-03-31 22:00:01                                                0.0   \n2012-03/2012-03-26/2012-03-31/2012-03-31 23:00:01                                                0.0   \n\n                                                   ...  \\\n2012-01                                            ...   \n2012-02                                            ...   \n2012-03                                            ...   \n2012-01/2011-12-26                                 ...   \n2012-01/2012-01-02                                 ...   \n...                                                ...   \n2012-03/2012-03-26/2012-03-31/2012-03-31 19:00:01  ...   \n2012-03/2012-03-26/2012-03-31/2012-03-31 20:00:01  ...   \n2012-03/2012-03-26/2012-03-31/2012-03-31 21:00:01  ...   \n2012-03/2012-03-26/2012-03-31/2012-03-31 22:00:01  ...   \n2012-03/2012-03-26/2012-03-31/2012-03-31 23:00:01  ...   \n\n                                                   2012-03/2012-03-26/2012-03-31/2012-03-31 14:00:01  \\\n2012-01                                                                                          0.0   \n2012-02                                                                                          0.0   \n2012-03                                                                                          1.0   \n2012-01/2011-12-26                                                                               0.0   \n2012-01/2012-01-02                                                                               0.0   \n...                                                                                              ...   \n2012-03/2012-03-26/2012-03-31/2012-03-31 19:00:01                                                0.0   \n2012-03/2012-03-26/2012-03-31/2012-03-31 20:00:01                                                0.0   \n2012-03/2012-03-26/2012-03-31/2012-03-31 21:00:01                                                0.0   \n2012-03/2012-03-26/2012-03-31/2012-03-31 22:00:01                                                0.0   \n2012-03/2012-03-26/2012-03-31/2012-03-31 23:00:01                                                0.0   \n\n                                                   2012-03/2012-03-26/2012-03-31/2012-03-31 15:00:01  \\\n2012-01                                                                                          0.0   \n2012-02                                                                                          0.0   \n2012-03                                                                                          1.0   \n2012-01/2011-12-26                                                                               0.0   \n2012-01/2012-01-02                                                                               0.0   \n...                                                                                              ...   \n2012-03/2012-03-26/2012-03-31/2012-03-31 19:00:01                                                0.0   \n2012-03/2012-03-26/2012-03-31/2012-03-31 20:00:01                                                0.0   \n2012-03/2012-03-26/2012-03-31/2012-03-31 21:00:01                                                0.0   \n2012-03/2012-03-26/2012-03-31/2012-03-31 22:00:01                                                0.0   \n2012-03/2012-03-26/2012-03-31/2012-03-31 23:00:01                                                0.0   \n\n                                                   2012-03/2012-03-26/2012-03-31/2012-03-31 16:00:01  \\\n2012-01                                                                                          0.0   \n2012-02                                                                                          0.0   \n2012-03                                                                                          1.0   \n2012-01/2011-12-26                                                                               0.0   \n2012-01/2012-01-02                                                                               0.0   \n...                                                                                              ...   \n2012-03/2012-03-26/2012-03-31/2012-03-31 19:00:01                                                0.0   \n2012-03/2012-03-26/2012-03-31/2012-03-31 20:00:01                                                0.0   \n2012-03/2012-03-26/2012-03-31/2012-03-31 21:00:01                                                0.0   \n2012-03/2012-03-26/2012-03-31/2012-03-31 22:00:01                                                0.0   \n2012-03/2012-03-26/2012-03-31/2012-03-31 23:00:01                                                0.0   \n\n                                                   2012-03/2012-03-26/2012-03-31/2012-03-31 17:00:01  \\\n2012-01                                                                                          0.0   \n2012-02                                                                                          0.0   \n2012-03                                                                                          1.0   \n2012-01/2011-12-26                                                                               0.0   \n2012-01/2012-01-02                                                                               0.0   \n...                                                                                              ...   \n2012-03/2012-03-26/2012-03-31/2012-03-31 19:00:01                                                0.0   \n2012-03/2012-03-26/2012-03-31/2012-03-31 20:00:01                                                0.0   \n2012-03/2012-03-26/2012-03-31/2012-03-31 21:00:01                                                0.0   \n2012-03/2012-03-26/2012-03-31/2012-03-31 22:00:01                                                0.0   \n2012-03/2012-03-26/2012-03-31/2012-03-31 23:00:01                                                0.0   \n\n                                                   2012-03/2012-03-26/2012-03-31/2012-03-31 18:00:01  \\\n2012-01                                                                                          0.0   \n2012-02                                                                                          0.0   \n2012-03                                                                                          1.0   \n2012-01/2011-12-26                                                                               0.0   \n2012-01/2012-01-02                                                                               0.0   \n...                                                                                              ...   \n2012-03/2012-03-26/2012-03-31/2012-03-31 19:00:01                                                0.0   \n2012-03/2012-03-26/2012-03-31/2012-03-31 20:00:01                                                0.0   \n2012-03/2012-03-26/2012-03-31/2012-03-31 21:00:01                                                0.0   \n2012-03/2012-03-26/2012-03-31/2012-03-31 22:00:01                                                0.0   \n2012-03/2012-03-26/2012-03-31/2012-03-31 23:00:01                                                0.0   \n\n                                                   2012-03/2012-03-26/2012-03-31/2012-03-31 19:00:01  \\\n2012-01                                                                                          0.0   \n2012-02                                                                                          0.0   \n2012-03                                                                                          1.0   \n2012-01/2011-12-26                                                                               0.0   \n2012-01/2012-01-02                                                                               0.0   \n...                                                                                              ...   \n2012-03/2012-03-26/2012-03-31/2012-03-31 19:00:01                                                1.0   \n2012-03/2012-03-26/2012-03-31/2012-03-31 20:00:01                                                0.0   \n2012-03/2012-03-26/2012-03-31/2012-03-31 21:00:01                                                0.0   \n2012-03/2012-03-26/2012-03-31/2012-03-31 22:00:01                                                0.0   \n2012-03/2012-03-26/2012-03-31/2012-03-31 23:00:01                                                0.0   \n\n                                                   2012-03/2012-03-26/2012-03-31/2012-03-31 20:00:01  \\\n2012-01                                                                                          0.0   \n2012-02                                                                                          0.0   \n2012-03                                                                                          1.0   \n2012-01/2011-12-26                                                                               0.0   \n2012-01/2012-01-02                                                                               0.0   \n...                                                                                              ...   \n2012-03/2012-03-26/2012-03-31/2012-03-31 19:00:01                                                0.0   \n2012-03/2012-03-26/2012-03-31/2012-03-31 20:00:01                                                1.0   \n2012-03/2012-03-26/2012-03-31/2012-03-31 21:00:01                                                0.0   \n2012-03/2012-03-26/2012-03-31/2012-03-31 22:00:01                                                0.0   \n2012-03/2012-03-26/2012-03-31/2012-03-31 23:00:01                                                0.0   \n\n                                                   2012-03/2012-03-26/2012-03-31/2012-03-31 21:00:01  \\\n2012-01                                                                                          0.0   \n2012-02                                                                                          0.0   \n2012-03                                                                                          1.0   \n2012-01/2011-12-26                                                                               0.0   \n2012-01/2012-01-02                                                                               0.0   \n...                                                                                              ...   \n2012-03/2012-03-26/2012-03-31/2012-03-31 19:00:01                                                0.0   \n2012-03/2012-03-26/2012-03-31/2012-03-31 20:00:01                                                0.0   \n2012-03/2012-03-26/2012-03-31/2012-03-31 21:00:01                                                1.0   \n2012-03/2012-03-26/2012-03-31/2012-03-31 22:00:01                                                0.0   \n2012-03/2012-03-26/2012-03-31/2012-03-31 23:00:01                                                0.0   \n\n                                                   2012-03/2012-03-26/2012-03-31/2012-03-31 22:00:01  \\\n2012-01                                                                                          0.0   \n2012-02                                                                                          0.0   \n2012-03                                                                                          1.0   \n2012-01/2011-12-26                                                                               0.0   \n2012-01/2012-01-02                                                                               0.0   \n...                                                                                              ...   \n2012-03/2012-03-26/2012-03-31/2012-03-31 19:00:01                                                0.0   \n2012-03/2012-03-26/2012-03-31/2012-03-31 20:00:01                                                0.0   \n2012-03/2012-03-26/2012-03-31/2012-03-31 21:00:01                                                0.0   \n2012-03/2012-03-26/2012-03-31/2012-03-31 22:00:01                                                1.0   \n2012-03/2012-03-26/2012-03-31/2012-03-31 23:00:01                                                0.0   \n\n                                                   2012-03/2012-03-26/2012-03-31/2012-03-31 23:00:01  \n2012-01                                                                                          0.0  \n2012-02                                                                                          0.0  \n2012-03                                                                                          1.0  \n2012-01/2011-12-26                                                                               0.0  \n2012-01/2012-01-02                                                                               0.0  \n...                                                                                              ...  \n2012-03/2012-03-26/2012-03-31/2012-03-31 19:00:01                                                0.0  \n2012-03/2012-03-26/2012-03-31/2012-03-31 20:00:01                                                0.0  \n2012-03/2012-03-26/2012-03-31/2012-03-31 21:00:01                                                0.0  \n2012-03/2012-03-26/2012-03-31/2012-03-31 22:00:01                                                0.0  \n2012-03/2012-03-26/2012-03-31/2012-03-31 23:00:01                                                1.0  \n\n[2294 rows x 2184 columns]",
      "text/html": "<div>\n<style scoped>\n    .dataframe tbody tr th:only-of-type {\n        vertical-align: middle;\n    }\n\n    .dataframe tbody tr th {\n        vertical-align: top;\n    }\n\n    .dataframe thead th {\n        text-align: right;\n    }\n</style>\n<table border=\"1\" class=\"dataframe\">\n  <thead>\n    <tr style=\"text-align: right;\">\n      <th></th>\n      <th>2012-01/2011-12-26/2012-01-01/2012-01-01 00:00:01</th>\n      <th>2012-01/2011-12-26/2012-01-01/2012-01-01 01:00:01</th>\n      <th>2012-01/2011-12-26/2012-01-01/2012-01-01 02:00:01</th>\n      <th>2012-01/2011-12-26/2012-01-01/2012-01-01 03:00:01</th>\n      <th>2012-01/2011-12-26/2012-01-01/2012-01-01 04:00:01</th>\n      <th>2012-01/2011-12-26/2012-01-01/2012-01-01 05:00:01</th>\n      <th>2012-01/2011-12-26/2012-01-01/2012-01-01 06:00:01</th>\n      <th>2012-01/2011-12-26/2012-01-01/2012-01-01 07:00:01</th>\n      <th>2012-01/2011-12-26/2012-01-01/2012-01-01 08:00:01</th>\n      <th>2012-01/2011-12-26/2012-01-01/2012-01-01 09:00:01</th>\n      <th>...</th>\n      <th>2012-03/2012-03-26/2012-03-31/2012-03-31 14:00:01</th>\n      <th>2012-03/2012-03-26/2012-03-31/2012-03-31 15:00:01</th>\n      <th>2012-03/2012-03-26/2012-03-31/2012-03-31 16:00:01</th>\n      <th>2012-03/2012-03-26/2012-03-31/2012-03-31 17:00:01</th>\n      <th>2012-03/2012-03-26/2012-03-31/2012-03-31 18:00:01</th>\n      <th>2012-03/2012-03-26/2012-03-31/2012-03-31 19:00:01</th>\n      <th>2012-03/2012-03-26/2012-03-31/2012-03-31 20:00:01</th>\n      <th>2012-03/2012-03-26/2012-03-31/2012-03-31 21:00:01</th>\n      <th>2012-03/2012-03-26/2012-03-31/2012-03-31 22:00:01</th>\n      <th>2012-03/2012-03-26/2012-03-31/2012-03-31 23:00:01</th>\n    </tr>\n  </thead>\n  <tbody>\n    <tr>\n      <th>2012-01</th>\n      <td>1.0</td>\n      <td>1.0</td>\n      <td>1.0</td>\n      <td>1.0</td>\n      <td>1.0</td>\n      <td>1.0</td>\n      <td>1.0</td>\n      <td>1.0</td>\n      <td>1.0</td>\n      <td>1.0</td>\n      <td>...</td>\n      <td>0.0</td>\n      <td>0.0</td>\n      <td>0.0</td>\n      <td>0.0</td>\n      <td>0.0</td>\n      <td>0.0</td>\n      <td>0.0</td>\n      <td>0.0</td>\n      <td>0.0</td>\n      <td>0.0</td>\n    </tr>\n    <tr>\n      <th>2012-02</th>\n      <td>0.0</td>\n      <td>0.0</td>\n      <td>0.0</td>\n      <td>0.0</td>\n      <td>0.0</td>\n      <td>0.0</td>\n      <td>0.0</td>\n      <td>0.0</td>\n      <td>0.0</td>\n      <td>0.0</td>\n      <td>...</td>\n      <td>0.0</td>\n      <td>0.0</td>\n      <td>0.0</td>\n      <td>0.0</td>\n      <td>0.0</td>\n      <td>0.0</td>\n      <td>0.0</td>\n      <td>0.0</td>\n      <td>0.0</td>\n      <td>0.0</td>\n    </tr>\n    <tr>\n      <th>2012-03</th>\n      <td>0.0</td>\n      <td>0.0</td>\n      <td>0.0</td>\n      <td>0.0</td>\n      <td>0.0</td>\n      <td>0.0</td>\n      <td>0.0</td>\n      <td>0.0</td>\n      <td>0.0</td>\n      <td>0.0</td>\n      <td>...</td>\n      <td>1.0</td>\n      <td>1.0</td>\n      <td>1.0</td>\n      <td>1.0</td>\n      <td>1.0</td>\n      <td>1.0</td>\n      <td>1.0</td>\n      <td>1.0</td>\n      <td>1.0</td>\n      <td>1.0</td>\n    </tr>\n    <tr>\n      <th>2012-01/2011-12-26</th>\n      <td>1.0</td>\n      <td>1.0</td>\n      <td>1.0</td>\n      <td>1.0</td>\n      <td>1.0</td>\n      <td>1.0</td>\n      <td>1.0</td>\n      <td>1.0</td>\n      <td>1.0</td>\n      <td>1.0</td>\n      <td>...</td>\n      <td>0.0</td>\n      <td>0.0</td>\n      <td>0.0</td>\n      <td>0.0</td>\n      <td>0.0</td>\n      <td>0.0</td>\n      <td>0.0</td>\n      <td>0.0</td>\n      <td>0.0</td>\n      <td>0.0</td>\n    </tr>\n    <tr>\n      <th>2012-01/2012-01-02</th>\n      <td>0.0</td>\n      <td>0.0</td>\n      <td>0.0</td>\n      <td>0.0</td>\n      <td>0.0</td>\n      <td>0.0</td>\n      <td>0.0</td>\n      <td>0.0</td>\n      <td>0.0</td>\n      <td>0.0</td>\n      <td>...</td>\n      <td>0.0</td>\n      <td>0.0</td>\n      <td>0.0</td>\n      <td>0.0</td>\n      <td>0.0</td>\n      <td>0.0</td>\n      <td>0.0</td>\n      <td>0.0</td>\n      <td>0.0</td>\n      <td>0.0</td>\n    </tr>\n    <tr>\n      <th>...</th>\n      <td>...</td>\n      <td>...</td>\n      <td>...</td>\n      <td>...</td>\n      <td>...</td>\n      <td>...</td>\n      <td>...</td>\n      <td>...</td>\n      <td>...</td>\n      <td>...</td>\n      <td>...</td>\n      <td>...</td>\n      <td>...</td>\n      <td>...</td>\n      <td>...</td>\n      <td>...</td>\n      <td>...</td>\n      <td>...</td>\n      <td>...</td>\n      <td>...</td>\n      <td>...</td>\n    </tr>\n    <tr>\n      <th>2012-03/2012-03-26/2012-03-31/2012-03-31 19:00:01</th>\n      <td>0.0</td>\n      <td>0.0</td>\n      <td>0.0</td>\n      <td>0.0</td>\n      <td>0.0</td>\n      <td>0.0</td>\n      <td>0.0</td>\n      <td>0.0</td>\n      <td>0.0</td>\n      <td>0.0</td>\n      <td>...</td>\n      <td>0.0</td>\n      <td>0.0</td>\n      <td>0.0</td>\n      <td>0.0</td>\n      <td>0.0</td>\n      <td>1.0</td>\n      <td>0.0</td>\n      <td>0.0</td>\n      <td>0.0</td>\n      <td>0.0</td>\n    </tr>\n    <tr>\n      <th>2012-03/2012-03-26/2012-03-31/2012-03-31 20:00:01</th>\n      <td>0.0</td>\n      <td>0.0</td>\n      <td>0.0</td>\n      <td>0.0</td>\n      <td>0.0</td>\n      <td>0.0</td>\n      <td>0.0</td>\n      <td>0.0</td>\n      <td>0.0</td>\n      <td>0.0</td>\n      <td>...</td>\n      <td>0.0</td>\n      <td>0.0</td>\n      <td>0.0</td>\n      <td>0.0</td>\n      <td>0.0</td>\n      <td>0.0</td>\n      <td>1.0</td>\n      <td>0.0</td>\n      <td>0.0</td>\n      <td>0.0</td>\n    </tr>\n    <tr>\n      <th>2012-03/2012-03-26/2012-03-31/2012-03-31 21:00:01</th>\n      <td>0.0</td>\n      <td>0.0</td>\n      <td>0.0</td>\n      <td>0.0</td>\n      <td>0.0</td>\n      <td>0.0</td>\n      <td>0.0</td>\n      <td>0.0</td>\n      <td>0.0</td>\n      <td>0.0</td>\n      <td>...</td>\n      <td>0.0</td>\n      <td>0.0</td>\n      <td>0.0</td>\n      <td>0.0</td>\n      <td>0.0</td>\n      <td>0.0</td>\n      <td>0.0</td>\n      <td>1.0</td>\n      <td>0.0</td>\n      <td>0.0</td>\n    </tr>\n    <tr>\n      <th>2012-03/2012-03-26/2012-03-31/2012-03-31 22:00:01</th>\n      <td>0.0</td>\n      <td>0.0</td>\n      <td>0.0</td>\n      <td>0.0</td>\n      <td>0.0</td>\n      <td>0.0</td>\n      <td>0.0</td>\n      <td>0.0</td>\n      <td>0.0</td>\n      <td>0.0</td>\n      <td>...</td>\n      <td>0.0</td>\n      <td>0.0</td>\n      <td>0.0</td>\n      <td>0.0</td>\n      <td>0.0</td>\n      <td>0.0</td>\n      <td>0.0</td>\n      <td>0.0</td>\n      <td>1.0</td>\n      <td>0.0</td>\n    </tr>\n    <tr>\n      <th>2012-03/2012-03-26/2012-03-31/2012-03-31 23:00:01</th>\n      <td>0.0</td>\n      <td>0.0</td>\n      <td>0.0</td>\n      <td>0.0</td>\n      <td>0.0</td>\n      <td>0.0</td>\n      <td>0.0</td>\n      <td>0.0</td>\n      <td>0.0</td>\n      <td>0.0</td>\n      <td>...</td>\n      <td>0.0</td>\n      <td>0.0</td>\n      <td>0.0</td>\n      <td>0.0</td>\n      <td>0.0</td>\n      <td>0.0</td>\n      <td>0.0</td>\n      <td>0.0</td>\n      <td>0.0</td>\n      <td>1.0</td>\n    </tr>\n  </tbody>\n</table>\n<p>2294 rows × 2184 columns</p>\n</div>"
     },
     "execution_count": 279,
     "metadata": {},
     "output_type": "execute_result"
    }
   ],
   "source": [
    "S_df"
   ],
   "metadata": {
    "collapsed": false,
    "ExecuteTime": {
     "end_time": "2024-03-16T05:27:32.020143Z",
     "start_time": "2024-03-16T05:27:31.991179Z"
    }
   },
   "id": "9f464dea3d45859d",
   "execution_count": 279
  },
  {
   "cell_type": "code",
   "outputs": [
    {
     "name": "stdout",
     "output_type": "stream",
     "text": [
      "<class 'pandas.core.frame.DataFrame'>\n",
      "Index: 2294 entries, 2012-01 to 2012-03/2012-03-26/2012-03-31/2012-03-31 23:00:01\n",
      "Columns: 2184 entries, 2012-01/2011-12-26/2012-01-01/2012-01-01 00:00:01 to 2012-03/2012-03-26/2012-03-31/2012-03-31 23:00:01\n",
      "dtypes: float32(2184)\n",
      "memory usage: 19.1+ MB\n"
     ]
    }
   ],
   "source": [
    "S_df.info()"
   ],
   "metadata": {
    "collapsed": false,
    "ExecuteTime": {
     "end_time": "2024-03-16T05:27:32.110315Z",
     "start_time": "2024-03-16T05:27:32.021570Z"
    }
   },
   "id": "fd0620e72cc4577d",
   "execution_count": 280
  },
  {
   "cell_type": "code",
   "outputs": [
    {
     "data": {
      "text/plain": "                                              unique_id                  ds  \\\n0                                               2012-01 2012-01-01 00:00:01   \n1                                               2012-01 2012-01-01 01:00:01   \n2                                               2012-01 2012-01-01 02:00:01   \n3                                               2012-01 2012-01-01 03:00:01   \n4                                               2012-01 2012-01-01 04:00:01   \n...                                                 ...                 ...   \n8731  2012-03/2012-03-26/2012-03-31/2012-03-31 19:00:01 2012-03-31 19:00:01   \n8732  2012-03/2012-03-26/2012-03-31/2012-03-31 20:00:01 2012-03-31 20:00:01   \n8733  2012-03/2012-03-26/2012-03-31/2012-03-31 21:00:01 2012-03-31 21:00:01   \n8734  2012-03/2012-03-26/2012-03-31/2012-03-31 22:00:01 2012-03-31 22:00:01   \n8735  2012-03/2012-03-26/2012-03-31/2012-03-31 23:00:01 2012-03-31 23:00:01   \n\n          y  \n0      69.0  \n1      92.0  \n2      96.0  \n3      92.0  \n4      91.0  \n...     ...  \n8731  110.0  \n8732  116.0  \n8733  105.0  \n8734   95.0  \n8735   94.0  \n\n[8736 rows x 3 columns]",
      "text/html": "<div>\n<style scoped>\n    .dataframe tbody tr th:only-of-type {\n        vertical-align: middle;\n    }\n\n    .dataframe tbody tr th {\n        vertical-align: top;\n    }\n\n    .dataframe thead th {\n        text-align: right;\n    }\n</style>\n<table border=\"1\" class=\"dataframe\">\n  <thead>\n    <tr style=\"text-align: right;\">\n      <th></th>\n      <th>unique_id</th>\n      <th>ds</th>\n      <th>y</th>\n    </tr>\n  </thead>\n  <tbody>\n    <tr>\n      <th>0</th>\n      <td>2012-01</td>\n      <td>2012-01-01 00:00:01</td>\n      <td>69.0</td>\n    </tr>\n    <tr>\n      <th>1</th>\n      <td>2012-01</td>\n      <td>2012-01-01 01:00:01</td>\n      <td>92.0</td>\n    </tr>\n    <tr>\n      <th>2</th>\n      <td>2012-01</td>\n      <td>2012-01-01 02:00:01</td>\n      <td>96.0</td>\n    </tr>\n    <tr>\n      <th>3</th>\n      <td>2012-01</td>\n      <td>2012-01-01 03:00:01</td>\n      <td>92.0</td>\n    </tr>\n    <tr>\n      <th>4</th>\n      <td>2012-01</td>\n      <td>2012-01-01 04:00:01</td>\n      <td>91.0</td>\n    </tr>\n    <tr>\n      <th>...</th>\n      <td>...</td>\n      <td>...</td>\n      <td>...</td>\n    </tr>\n    <tr>\n      <th>8731</th>\n      <td>2012-03/2012-03-26/2012-03-31/2012-03-31 19:00:01</td>\n      <td>2012-03-31 19:00:01</td>\n      <td>110.0</td>\n    </tr>\n    <tr>\n      <th>8732</th>\n      <td>2012-03/2012-03-26/2012-03-31/2012-03-31 20:00:01</td>\n      <td>2012-03-31 20:00:01</td>\n      <td>116.0</td>\n    </tr>\n    <tr>\n      <th>8733</th>\n      <td>2012-03/2012-03-26/2012-03-31/2012-03-31 21:00:01</td>\n      <td>2012-03-31 21:00:01</td>\n      <td>105.0</td>\n    </tr>\n    <tr>\n      <th>8734</th>\n      <td>2012-03/2012-03-26/2012-03-31/2012-03-31 22:00:01</td>\n      <td>2012-03-31 22:00:01</td>\n      <td>95.0</td>\n    </tr>\n    <tr>\n      <th>8735</th>\n      <td>2012-03/2012-03-26/2012-03-31/2012-03-31 23:00:01</td>\n      <td>2012-03-31 23:00:01</td>\n      <td>94.0</td>\n    </tr>\n  </tbody>\n</table>\n<p>8736 rows × 3 columns</p>\n</div>"
     },
     "execution_count": 281,
     "metadata": {},
     "output_type": "execute_result"
    }
   ],
   "source": [
    "Y_hier_df"
   ],
   "metadata": {
    "collapsed": false,
    "ExecuteTime": {
     "end_time": "2024-03-16T05:27:32.122764Z",
     "start_time": "2024-03-16T05:27:32.111568Z"
    }
   },
   "id": "ec7bf49cbbed7fce",
   "execution_count": 281
  },
  {
   "cell_type": "code",
   "outputs": [],
   "source": [],
   "metadata": {
    "collapsed": false,
    "ExecuteTime": {
     "end_time": "2024-03-16T05:27:32.127316Z",
     "start_time": "2024-03-16T05:27:32.125207Z"
    }
   },
   "id": "e1f826be922c3e50",
   "execution_count": 281
  },
  {
   "cell_type": "markdown",
   "source": [
    "## We have the hierarchical setup ready, so let us build a set of baseline forecasts: we will use the last 7 days as test set."
   ],
   "metadata": {
    "collapsed": false
   },
   "id": "a9d459b28a2f6dcd"
  },
  {
   "cell_type": "code",
   "outputs": [],
   "source": [
    "FH=7"
   ],
   "metadata": {
    "collapsed": false,
    "ExecuteTime": {
     "end_time": "2024-03-16T05:27:32.131507Z",
     "start_time": "2024-03-16T05:27:32.128701Z"
    }
   },
   "id": "7b566182673e92f3",
   "execution_count": 282
  },
  {
   "cell_type": "code",
   "outputs": [
    {
     "name": "stdout",
     "output_type": "stream",
     "text": [
      "<class 'pandas.core.frame.DataFrame'>\n",
      "Index: 5782 entries, 2012-01 to 2012-03/2012-03-26/2012-03-31\n",
      "Data columns (total 2 columns):\n",
      " #   Column  Non-Null Count  Dtype         \n",
      "---  ------  --------------  -----         \n",
      " 0   ds      5782 non-null   datetime64[ns]\n",
      " 1   y       5782 non-null   float64       \n",
      "dtypes: datetime64[ns](1), float64(1)\n",
      "memory usage: 135.5+ KB\n",
      "<class 'pandas.core.frame.DataFrame'>\n",
      "Index: 2954 entries, 2012-01 to 2012-03/2012-03-26/2012-03-31/2012-03-31 23:00:01\n",
      "Data columns (total 2 columns):\n",
      " #   Column  Non-Null Count  Dtype         \n",
      "---  ------  --------------  -----         \n",
      " 0   ds      2954 non-null   datetime64[ns]\n",
      " 1   y       2954 non-null   float64       \n",
      "dtypes: datetime64[ns](1), float64(1)\n",
      "memory usage: 69.2+ KB\n"
     ]
    },
    {
     "data": {
      "text/plain": "(None, None)"
     },
     "execution_count": 283,
     "metadata": {},
     "output_type": "execute_result"
    }
   ],
   "source": [
    "# Split train/test sets\n",
    "Y_test_df  = Y_hier_df.groupby('unique_id').tail(FH)\n",
    "Y_train_df = Y_hier_df.drop(Y_test_df.index)\n",
    "\n",
    "Y_test_df = Y_test_df.set_index('unique_id')\n",
    "Y_train_df = Y_train_df.set_index('unique_id')\n",
    "\n",
    "Y_train_df.info(), Y_test_df.info()"
   ],
   "metadata": {
    "collapsed": false,
    "ExecuteTime": {
     "end_time": "2024-03-16T05:27:32.153593Z",
     "start_time": "2024-03-16T05:27:32.132906Z"
    }
   },
   "id": "55b508a016e76f15",
   "execution_count": 283
  },
  {
   "cell_type": "code",
   "outputs": [
    {
     "data": {
      "text/plain": "                                               ds      y\nunique_id                                               \n2012-01                       2012-01-01 00:00:01   69.0\n2012-01                       2012-01-01 01:00:01   92.0\n2012-01                       2012-01-01 02:00:01   96.0\n2012-01                       2012-01-01 03:00:01   92.0\n2012-01                       2012-01-01 04:00:01   91.0\n...                                           ...    ...\n2012-03/2012-03-26/2012-03-31 2012-03-31 12:00:01  128.0\n2012-03/2012-03-26/2012-03-31 2012-03-31 13:00:01  127.0\n2012-03/2012-03-26/2012-03-31 2012-03-31 14:00:01  120.0\n2012-03/2012-03-26/2012-03-31 2012-03-31 15:00:01  114.0\n2012-03/2012-03-26/2012-03-31 2012-03-31 16:00:01  103.0\n\n[5782 rows x 2 columns]",
      "text/html": "<div>\n<style scoped>\n    .dataframe tbody tr th:only-of-type {\n        vertical-align: middle;\n    }\n\n    .dataframe tbody tr th {\n        vertical-align: top;\n    }\n\n    .dataframe thead th {\n        text-align: right;\n    }\n</style>\n<table border=\"1\" class=\"dataframe\">\n  <thead>\n    <tr style=\"text-align: right;\">\n      <th></th>\n      <th>ds</th>\n      <th>y</th>\n    </tr>\n    <tr>\n      <th>unique_id</th>\n      <th></th>\n      <th></th>\n    </tr>\n  </thead>\n  <tbody>\n    <tr>\n      <th>2012-01</th>\n      <td>2012-01-01 00:00:01</td>\n      <td>69.0</td>\n    </tr>\n    <tr>\n      <th>2012-01</th>\n      <td>2012-01-01 01:00:01</td>\n      <td>92.0</td>\n    </tr>\n    <tr>\n      <th>2012-01</th>\n      <td>2012-01-01 02:00:01</td>\n      <td>96.0</td>\n    </tr>\n    <tr>\n      <th>2012-01</th>\n      <td>2012-01-01 03:00:01</td>\n      <td>92.0</td>\n    </tr>\n    <tr>\n      <th>2012-01</th>\n      <td>2012-01-01 04:00:01</td>\n      <td>91.0</td>\n    </tr>\n    <tr>\n      <th>...</th>\n      <td>...</td>\n      <td>...</td>\n    </tr>\n    <tr>\n      <th>2012-03/2012-03-26/2012-03-31</th>\n      <td>2012-03-31 12:00:01</td>\n      <td>128.0</td>\n    </tr>\n    <tr>\n      <th>2012-03/2012-03-26/2012-03-31</th>\n      <td>2012-03-31 13:00:01</td>\n      <td>127.0</td>\n    </tr>\n    <tr>\n      <th>2012-03/2012-03-26/2012-03-31</th>\n      <td>2012-03-31 14:00:01</td>\n      <td>120.0</td>\n    </tr>\n    <tr>\n      <th>2012-03/2012-03-26/2012-03-31</th>\n      <td>2012-03-31 15:00:01</td>\n      <td>114.0</td>\n    </tr>\n    <tr>\n      <th>2012-03/2012-03-26/2012-03-31</th>\n      <td>2012-03-31 16:00:01</td>\n      <td>103.0</td>\n    </tr>\n  </tbody>\n</table>\n<p>5782 rows × 2 columns</p>\n</div>"
     },
     "execution_count": 284,
     "metadata": {},
     "output_type": "execute_result"
    }
   ],
   "source": [
    "Y_train_df"
   ],
   "metadata": {
    "collapsed": false,
    "ExecuteTime": {
     "end_time": "2024-03-16T05:27:32.166132Z",
     "start_time": "2024-03-16T05:27:32.154977Z"
    }
   },
   "id": "b7615fed69afd293",
   "execution_count": 284
  },
  {
   "cell_type": "code",
   "outputs": [
    {
     "name": "stdout",
     "output_type": "stream",
     "text": [
      "<class 'pandas.core.frame.DataFrame'>\n",
      "Index: 5782 entries, 2012-01 to 2012-03/2012-03-26/2012-03-31\n",
      "Data columns (total 2 columns):\n",
      " #   Column  Non-Null Count  Dtype         \n",
      "---  ------  --------------  -----         \n",
      " 0   ds      5782 non-null   datetime64[ns]\n",
      " 1   y       5782 non-null   float64       \n",
      "dtypes: datetime64[ns](1), float64(1)\n",
      "memory usage: 135.5+ KB\n"
     ]
    }
   ],
   "source": [
    "Y_train_df.info()"
   ],
   "metadata": {
    "collapsed": false,
    "ExecuteTime": {
     "end_time": "2024-03-16T05:27:32.175647Z",
     "start_time": "2024-03-16T05:27:32.167694Z"
    }
   },
   "id": "d22963bf85209816",
   "execution_count": 285
  },
  {
   "cell_type": "code",
   "outputs": [
    {
     "data": {
      "text/plain": "                      ds      y  \\\n0    2012-01-31 17:00:01  105.0   \n1    2012-01-31 18:00:01  110.0   \n2    2012-01-31 19:00:01  121.0   \n3    2012-01-31 20:00:01  133.0   \n4    2012-01-31 21:00:01  115.0   \n...                  ...    ...   \n2949 2012-03-31 19:00:01  110.0   \n2950 2012-03-31 20:00:01  116.0   \n2951 2012-03-31 21:00:01  105.0   \n2952 2012-03-31 22:00:01   95.0   \n2953 2012-03-31 23:00:01   94.0   \n\n                                              unique_id  \n0                                               2012-01  \n1                                               2012-01  \n2                                               2012-01  \n3                                               2012-01  \n4                                               2012-01  \n...                                                 ...  \n2949  2012-03/2012-03-26/2012-03-31/2012-03-31 19:00:01  \n2950  2012-03/2012-03-26/2012-03-31/2012-03-31 20:00:01  \n2951  2012-03/2012-03-26/2012-03-31/2012-03-31 21:00:01  \n2952  2012-03/2012-03-26/2012-03-31/2012-03-31 22:00:01  \n2953  2012-03/2012-03-26/2012-03-31/2012-03-31 23:00:01  \n\n[2954 rows x 3 columns]",
      "text/html": "<div>\n<style scoped>\n    .dataframe tbody tr th:only-of-type {\n        vertical-align: middle;\n    }\n\n    .dataframe tbody tr th {\n        vertical-align: top;\n    }\n\n    .dataframe thead th {\n        text-align: right;\n    }\n</style>\n<table border=\"1\" class=\"dataframe\">\n  <thead>\n    <tr style=\"text-align: right;\">\n      <th></th>\n      <th>ds</th>\n      <th>y</th>\n      <th>unique_id</th>\n    </tr>\n  </thead>\n  <tbody>\n    <tr>\n      <th>0</th>\n      <td>2012-01-31 17:00:01</td>\n      <td>105.0</td>\n      <td>2012-01</td>\n    </tr>\n    <tr>\n      <th>1</th>\n      <td>2012-01-31 18:00:01</td>\n      <td>110.0</td>\n      <td>2012-01</td>\n    </tr>\n    <tr>\n      <th>2</th>\n      <td>2012-01-31 19:00:01</td>\n      <td>121.0</td>\n      <td>2012-01</td>\n    </tr>\n    <tr>\n      <th>3</th>\n      <td>2012-01-31 20:00:01</td>\n      <td>133.0</td>\n      <td>2012-01</td>\n    </tr>\n    <tr>\n      <th>4</th>\n      <td>2012-01-31 21:00:01</td>\n      <td>115.0</td>\n      <td>2012-01</td>\n    </tr>\n    <tr>\n      <th>...</th>\n      <td>...</td>\n      <td>...</td>\n      <td>...</td>\n    </tr>\n    <tr>\n      <th>2949</th>\n      <td>2012-03-31 19:00:01</td>\n      <td>110.0</td>\n      <td>2012-03/2012-03-26/2012-03-31/2012-03-31 19:00:01</td>\n    </tr>\n    <tr>\n      <th>2950</th>\n      <td>2012-03-31 20:00:01</td>\n      <td>116.0</td>\n      <td>2012-03/2012-03-26/2012-03-31/2012-03-31 20:00:01</td>\n    </tr>\n    <tr>\n      <th>2951</th>\n      <td>2012-03-31 21:00:01</td>\n      <td>105.0</td>\n      <td>2012-03/2012-03-26/2012-03-31/2012-03-31 21:00:01</td>\n    </tr>\n    <tr>\n      <th>2952</th>\n      <td>2012-03-31 22:00:01</td>\n      <td>95.0</td>\n      <td>2012-03/2012-03-26/2012-03-31/2012-03-31 22:00:01</td>\n    </tr>\n    <tr>\n      <th>2953</th>\n      <td>2012-03-31 23:00:01</td>\n      <td>94.0</td>\n      <td>2012-03/2012-03-26/2012-03-31/2012-03-31 23:00:01</td>\n    </tr>\n  </tbody>\n</table>\n<p>2954 rows × 3 columns</p>\n</div>"
     },
     "execution_count": 286,
     "metadata": {},
     "output_type": "execute_result"
    }
   ],
   "source": [
    "# Создаем новый столбец со старым индексом\n",
    "Y_test_df['unique_id'] = Y_test_df.index\n",
    "\n",
    "# Сбрасываем индекс и заменяем его числовым индексом от 0 до длины датафрейма\n",
    "Y_test_df.reset_index(drop=True, inplace=True)\n",
    "\n",
    "# Устанавливаем новый индекс обратно на старый индекс\n",
    "# Y_test_df.set_index('unique_id', inplace=True)\n",
    "Y_test_df"
   ],
   "metadata": {
    "collapsed": false,
    "ExecuteTime": {
     "end_time": "2024-03-16T05:27:32.190316Z",
     "start_time": "2024-03-16T05:27:32.177126Z"
    }
   },
   "id": "b90063c447b71d9f",
   "execution_count": 286
  },
  {
   "cell_type": "code",
   "outputs": [
    {
     "data": {
      "text/plain": "                      ds      y                      unique_id\n0    2012-01-01 00:00:01   69.0                        2012-01\n1    2012-01-01 01:00:01   92.0                        2012-01\n2    2012-01-01 02:00:01   96.0                        2012-01\n3    2012-01-01 03:00:01   92.0                        2012-01\n4    2012-01-01 04:00:01   91.0                        2012-01\n...                  ...    ...                            ...\n5777 2012-03-31 12:00:01  128.0  2012-03/2012-03-26/2012-03-31\n5778 2012-03-31 13:00:01  127.0  2012-03/2012-03-26/2012-03-31\n5779 2012-03-31 14:00:01  120.0  2012-03/2012-03-26/2012-03-31\n5780 2012-03-31 15:00:01  114.0  2012-03/2012-03-26/2012-03-31\n5781 2012-03-31 16:00:01  103.0  2012-03/2012-03-26/2012-03-31\n\n[5782 rows x 3 columns]",
      "text/html": "<div>\n<style scoped>\n    .dataframe tbody tr th:only-of-type {\n        vertical-align: middle;\n    }\n\n    .dataframe tbody tr th {\n        vertical-align: top;\n    }\n\n    .dataframe thead th {\n        text-align: right;\n    }\n</style>\n<table border=\"1\" class=\"dataframe\">\n  <thead>\n    <tr style=\"text-align: right;\">\n      <th></th>\n      <th>ds</th>\n      <th>y</th>\n      <th>unique_id</th>\n    </tr>\n  </thead>\n  <tbody>\n    <tr>\n      <th>0</th>\n      <td>2012-01-01 00:00:01</td>\n      <td>69.0</td>\n      <td>2012-01</td>\n    </tr>\n    <tr>\n      <th>1</th>\n      <td>2012-01-01 01:00:01</td>\n      <td>92.0</td>\n      <td>2012-01</td>\n    </tr>\n    <tr>\n      <th>2</th>\n      <td>2012-01-01 02:00:01</td>\n      <td>96.0</td>\n      <td>2012-01</td>\n    </tr>\n    <tr>\n      <th>3</th>\n      <td>2012-01-01 03:00:01</td>\n      <td>92.0</td>\n      <td>2012-01</td>\n    </tr>\n    <tr>\n      <th>4</th>\n      <td>2012-01-01 04:00:01</td>\n      <td>91.0</td>\n      <td>2012-01</td>\n    </tr>\n    <tr>\n      <th>...</th>\n      <td>...</td>\n      <td>...</td>\n      <td>...</td>\n    </tr>\n    <tr>\n      <th>5777</th>\n      <td>2012-03-31 12:00:01</td>\n      <td>128.0</td>\n      <td>2012-03/2012-03-26/2012-03-31</td>\n    </tr>\n    <tr>\n      <th>5778</th>\n      <td>2012-03-31 13:00:01</td>\n      <td>127.0</td>\n      <td>2012-03/2012-03-26/2012-03-31</td>\n    </tr>\n    <tr>\n      <th>5779</th>\n      <td>2012-03-31 14:00:01</td>\n      <td>120.0</td>\n      <td>2012-03/2012-03-26/2012-03-31</td>\n    </tr>\n    <tr>\n      <th>5780</th>\n      <td>2012-03-31 15:00:01</td>\n      <td>114.0</td>\n      <td>2012-03/2012-03-26/2012-03-31</td>\n    </tr>\n    <tr>\n      <th>5781</th>\n      <td>2012-03-31 16:00:01</td>\n      <td>103.0</td>\n      <td>2012-03/2012-03-26/2012-03-31</td>\n    </tr>\n  </tbody>\n</table>\n<p>5782 rows × 3 columns</p>\n</div>"
     },
     "execution_count": 287,
     "metadata": {},
     "output_type": "execute_result"
    }
   ],
   "source": [
    "# Создаем новый столбец со старым индексом\n",
    "Y_train_df['unique_id'] = Y_train_df.index\n",
    "\n",
    "# Сбрасываем индекс и заменяем его числовым индексом от 0 до длины датафрейма\n",
    "Y_train_df.reset_index(drop=True, inplace=True)\n",
    "Y_train_df"
   ],
   "metadata": {
    "collapsed": false,
    "ExecuteTime": {
     "end_time": "2024-03-16T05:27:32.204102Z",
     "start_time": "2024-03-16T05:27:32.191807Z"
    }
   },
   "id": "c5a9fcbb3efd327f",
   "execution_count": 287
  },
  {
   "cell_type": "code",
   "outputs": [],
   "source": [],
   "metadata": {
    "collapsed": false,
    "ExecuteTime": {
     "end_time": "2024-03-16T05:27:32.207777Z",
     "start_time": "2024-03-16T05:27:32.205301Z"
    }
   },
   "id": "958ab5bfdc32d162",
   "execution_count": 287
  },
  {
   "cell_type": "markdown",
   "source": [
    "## попытка сделать предсказание без реконсиляции"
   ],
   "metadata": {
    "collapsed": false
   },
   "id": "3397f2c27b7546bf"
  },
  {
   "cell_type": "code",
   "outputs": [],
   "source": [
    "metric = \"mse\"\n",
    "stat_level = \"month/week/day/hour\""
   ],
   "metadata": {
    "collapsed": false,
    "ExecuteTime": {
     "end_time": "2024-03-16T05:27:32.212271Z",
     "start_time": "2024-03-16T05:27:32.209129Z"
    }
   },
   "id": "8f703fdf8506fb7e",
   "execution_count": 288
  },
  {
   "cell_type": "code",
   "outputs": [
    {
     "data": {
      "text/plain": "(                      ds      y                      unique_id\n 735  2012-01-31 15:00:01  100.0                        2012-01\n 736  2012-01-31 16:00:01  103.0                        2012-01\n 1424 2012-02-29 15:00:01  106.0                        2012-02\n 1425 2012-02-29 16:00:01  161.0                        2012-02\n 2161 2012-03-31 15:00:01  114.0                        2012-03\n ...                  ...    ...                            ...\n 5747 2012-03-29 16:00:01  107.0  2012-03/2012-03-26/2012-03-29\n 5763 2012-03-30 15:00:01   99.0  2012-03/2012-03-26/2012-03-30\n 5764 2012-03-30 16:00:01   99.0  2012-03/2012-03-26/2012-03-30\n 5780 2012-03-31 15:00:01  114.0  2012-03/2012-03-26/2012-03-31\n 5781 2012-03-31 16:00:01  103.0  2012-03/2012-03-26/2012-03-31\n \n [220 rows x 3 columns],\n                       ds      y  \\\n 5    2012-01-31 22:00:01  105.0   \n 6    2012-01-31 23:00:01   94.0   \n 12   2012-02-29 22:00:01  109.0   \n 13   2012-02-29 23:00:01   97.0   \n 19   2012-03-31 22:00:01   95.0   \n ...                  ...    ...   \n 2949 2012-03-31 19:00:01  110.0   \n 2950 2012-03-31 20:00:01  116.0   \n 2951 2012-03-31 21:00:01  105.0   \n 2952 2012-03-31 22:00:01   95.0   \n 2953 2012-03-31 23:00:01   94.0   \n \n                                               unique_id  \n 5                                               2012-01  \n 6                                               2012-01  \n 12                                              2012-02  \n 13                                              2012-02  \n 19                                              2012-03  \n ...                                                 ...  \n 2949  2012-03/2012-03-26/2012-03-31/2012-03-31 19:00:01  \n 2950  2012-03/2012-03-26/2012-03-31/2012-03-31 20:00:01  \n 2951  2012-03/2012-03-26/2012-03-31/2012-03-31 21:00:01  \n 2952  2012-03/2012-03-26/2012-03-31/2012-03-31 22:00:01  \n 2953  2012-03/2012-03-26/2012-03-31/2012-03-31 23:00:01  \n \n [2404 rows x 3 columns])"
     },
     "execution_count": 289,
     "metadata": {},
     "output_type": "execute_result"
    }
   ],
   "source": [
    "Y_train_df.groupby(\"unique_id\").tail(2), Y_test_df.groupby(\"unique_id\").tail(2)"
   ],
   "metadata": {
    "collapsed": false,
    "ExecuteTime": {
     "end_time": "2024-03-16T05:27:32.227747Z",
     "start_time": "2024-03-16T05:27:32.214103Z"
    }
   },
   "id": "2a70a21840c3dc40",
   "execution_count": 289
  },
  {
   "cell_type": "code",
   "outputs": [],
   "source": [
    "import numpy as np\n",
    "import pandas as pd\n",
    "\n",
    "# compute base forecast no coherent\n",
    "from statsforecast.models import (\n",
    "    Naive,\n",
    "    AutoARIMA,\n",
    "    HoltWinters,\n",
    "    CrostonClassic as Croston, \n",
    "    HistoricAverage,\n",
    "    DynamicOptimizedTheta as DOT,\n",
    "    SeasonalNaive,\n",
    "    ETS,\n",
    "    IMAPA,\n",
    "    RandomWalkWithDrift,\n",
    "    SeasonalExponentialSmoothing,\n",
    "    SeasonalWindowAverage,\n",
    "    SimpleExponentialSmoothing,\n",
    "    TSB,\n",
    "    WindowAverage,\n",
    "    DynamicOptimizedTheta,\n",
    "    AutoETS,\n",
    "    AutoCES\n",
    ")\n",
    "from statsforecast.core import StatsForecast\n",
    "\n",
    "#obtain hierarchical reconciliation methods and evaluation\n",
    "from hierarchicalforecast.utils import aggregate\n",
    "from hierarchicalforecast.methods import BottomUp, TopDown\n",
    "from hierarchicalforecast.core import HierarchicalReconciliation"
   ],
   "metadata": {
    "collapsed": false,
    "ExecuteTime": {
     "end_time": "2024-03-16T05:27:32.233241Z",
     "start_time": "2024-03-16T05:27:32.228975Z"
    }
   },
   "id": "80c167b7b27ea138",
   "execution_count": 290
  },
  {
   "cell_type": "code",
   "outputs": [
    {
     "name": "stderr",
     "output_type": "stream",
     "text": [
      "/home/olga/hse_master/develop_tools/fast_api/fast_api_tutorial/venv/lib/python3.10/site-packages/statsforecast/core.py:399: FutureWarning: The `df` argument of the StatsForecast constructor as well as reusing stored dfs from other methods is deprecated and will raise an error in a future version. Please provide the `df` argument to the corresponding method instead, e.g. fit/forecast.\n",
      "  warnings.warn(\n"
     ]
    }
   ],
   "source": [
    "# Compute base Naive predictions\n",
    "# Careful identifying correct data freq, this data quarterly 'Q'\n",
    "# NG: Changed freq from Q to M since inut data is monthly\n",
    "# NG: Changed model from Naive to ARIMA since Naive output is already reconciled without doing anything\n",
    "SP = 5  \n",
    "fcst = StatsForecast(df=Y_train_df,\n",
    "                     models=[AutoARIMA(season_length=SP), AutoETS(season_length=SP)],\n",
    "                     freq='H', n_jobs=-1)"
   ],
   "metadata": {
    "collapsed": false,
    "ExecuteTime": {
     "end_time": "2024-03-16T05:27:32.244507Z",
     "start_time": "2024-03-16T05:27:32.234532Z"
    }
   },
   "id": "d7b0135051826ea8",
   "execution_count": 291
  },
  {
   "cell_type": "code",
   "outputs": [
    {
     "name": "stderr",
     "output_type": "stream",
     "text": [
      "/home/olga/hse_master/develop_tools/fast_api/fast_api_tutorial/venv/lib/python3.10/site-packages/statsforecast/core.py:399: FutureWarning: The `df` argument of the StatsForecast constructor as well as reusing stored dfs from other methods is deprecated and will raise an error in a future version. Please provide the `df` argument to the corresponding method instead, e.g. fit/forecast.\n",
      "  warnings.warn(\n",
      "/home/olga/hse_master/develop_tools/fast_api/fast_api_tutorial/venv/lib/python3.10/site-packages/statsforecast/core.py:417: FutureWarning: In a future version the predictions will have the id as a column. You can set the `NIXTLA_ID_AS_COL` environment variable to adopt the new behavior and to suppress this warning.\n",
      "  warnings.warn(\n",
      "/home/olga/hse_master/develop_tools/fast_api/fast_api_tutorial/venv/lib/python3.10/site-packages/statsforecast/core.py:417: FutureWarning: In a future version the predictions will have the id as a column. You can set the `NIXTLA_ID_AS_COL` environment variable to adopt the new behavior and to suppress this warning.\n",
      "  warnings.warn(\n"
     ]
    }
   ],
   "source": [
    "Y_hat_df = fcst.forecast(h=FH, fitted=True)\n",
    "Y_fitted_df = fcst.forecast_fitted_values()"
   ],
   "metadata": {
    "collapsed": false,
    "ExecuteTime": {
     "end_time": "2024-03-16T05:28:41.290991Z",
     "start_time": "2024-03-16T05:27:32.248778Z"
    }
   },
   "id": "caa63446160c60ab",
   "execution_count": 292
  },
  {
   "cell_type": "code",
   "outputs": [
    {
     "data": {
      "text/plain": "(                                               ds   AutoARIMA     AutoETS\n unique_id                                                                \n 2012-01                       2012-01-31 22:00:01  102.269241  102.999702\n 2012-01                       2012-01-31 23:00:01  101.871391  102.999702\n 2012-01/2011-12-26            2012-01-01 22:00:01   83.366928  109.000298\n 2012-01/2011-12-26            2012-01-01 23:00:01   83.274742  109.000298\n 2012-01/2011-12-26/2012-01-01 2012-01-01 22:00:01   83.366928  109.000298\n ...                                           ...         ...         ...\n 2012-03/2012-03-26/2012-03-29 2012-03-29 23:00:01   96.397438  106.996399\n 2012-03/2012-03-26/2012-03-30 2012-03-30 22:00:01   99.000000   99.000000\n 2012-03/2012-03-26/2012-03-30 2012-03-30 23:00:01   99.000000   99.000000\n 2012-03/2012-03-26/2012-03-31 2012-03-31 22:00:01   80.211235  103.001099\n 2012-03/2012-03-26/2012-03-31 2012-03-31 23:00:01   79.289597  103.001099\n \n [220 rows x 3 columns],\n                                                ds      y   AutoARIMA  \\\n unique_id                                                              \n 2012-01                       2012-01-31 15:00:01  100.0  104.823425   \n 2012-01                       2012-01-31 16:00:01  103.0  100.949173   \n 2012-01/2011-12-26            2012-01-01 15:00:01  112.0  105.979424   \n 2012-01/2011-12-26            2012-01-01 16:00:01  109.0  117.160042   \n 2012-01/2011-12-26/2012-01-01 2012-01-01 15:00:01  112.0  105.979424   \n ...                                           ...    ...         ...   \n 2012-03/2012-03-26/2012-03-29 2012-03-29 16:00:01  107.0   69.949448   \n 2012-03/2012-03-26/2012-03-30 2012-03-30 15:00:01   99.0  104.000000   \n 2012-03/2012-03-26/2012-03-30 2012-03-30 16:00:01   99.0   99.000000   \n 2012-03/2012-03-26/2012-03-31 2012-03-31 15:00:01  114.0  115.087929   \n 2012-03/2012-03-26/2012-03-31 2012-03-31 16:00:01  103.0  109.789658   \n \n                                   AutoETS  \n unique_id                                  \n 2012-01                        105.000504  \n 2012-01                        100.000504  \n 2012-01/2011-12-26             122.002502  \n 2012-01/2011-12-26             112.000999  \n 2012-01/2011-12-26/2012-01-01  122.002502  \n ...                                   ...  \n 2012-03/2012-03-26/2012-03-29   71.003502  \n 2012-03/2012-03-26/2012-03-30  104.000198  \n 2012-03/2012-03-26/2012-03-30   99.000504  \n 2012-03/2012-03-26/2012-03-31  120.000702  \n 2012-03/2012-03-26/2012-03-31  114.000603  \n \n [220 rows x 4 columns])"
     },
     "execution_count": 293,
     "metadata": {},
     "output_type": "execute_result"
    }
   ],
   "source": [
    "Y_hat_df.groupby(\"unique_id\").tail(2), Y_fitted_df.groupby(\"unique_id\").tail(2)"
   ],
   "metadata": {
    "collapsed": false,
    "ExecuteTime": {
     "end_time": "2024-03-16T05:28:41.308293Z",
     "start_time": "2024-03-16T05:28:41.292708Z"
    }
   },
   "id": "5e5b35d1df3547f3",
   "execution_count": 293
  },
  {
   "cell_type": "code",
   "outputs": [
    {
     "data": {
      "text/plain": "                                               ds   AutoARIMA     AutoETS\nunique_id                                                                \n2012-01                       2012-01-31 17:00:01  102.592194  102.999702\n2012-01                       2012-01-31 18:00:01  102.737717  102.999702\n2012-01                       2012-01-31 19:00:01  103.324272  102.999702\n2012-01                       2012-01-31 20:00:01  103.779823  102.999702\n2012-01                       2012-01-31 21:00:01  102.951683  102.999702\n...                                           ...         ...         ...\n2012-03/2012-03-26/2012-03-31 2012-03-31 19:00:01   86.063492  103.001099\n2012-03/2012-03-26/2012-03-31 2012-03-31 20:00:01   83.396271  103.001099\n2012-03/2012-03-26/2012-03-31 2012-03-31 21:00:01   81.524620  103.001099\n2012-03/2012-03-26/2012-03-31 2012-03-31 22:00:01   80.211235  103.001099\n2012-03/2012-03-26/2012-03-31 2012-03-31 23:00:01   79.289597  103.001099\n\n[770 rows x 3 columns]",
      "text/html": "<div>\n<style scoped>\n    .dataframe tbody tr th:only-of-type {\n        vertical-align: middle;\n    }\n\n    .dataframe tbody tr th {\n        vertical-align: top;\n    }\n\n    .dataframe thead th {\n        text-align: right;\n    }\n</style>\n<table border=\"1\" class=\"dataframe\">\n  <thead>\n    <tr style=\"text-align: right;\">\n      <th></th>\n      <th>ds</th>\n      <th>AutoARIMA</th>\n      <th>AutoETS</th>\n    </tr>\n    <tr>\n      <th>unique_id</th>\n      <th></th>\n      <th></th>\n      <th></th>\n    </tr>\n  </thead>\n  <tbody>\n    <tr>\n      <th>2012-01</th>\n      <td>2012-01-31 17:00:01</td>\n      <td>102.592194</td>\n      <td>102.999702</td>\n    </tr>\n    <tr>\n      <th>2012-01</th>\n      <td>2012-01-31 18:00:01</td>\n      <td>102.737717</td>\n      <td>102.999702</td>\n    </tr>\n    <tr>\n      <th>2012-01</th>\n      <td>2012-01-31 19:00:01</td>\n      <td>103.324272</td>\n      <td>102.999702</td>\n    </tr>\n    <tr>\n      <th>2012-01</th>\n      <td>2012-01-31 20:00:01</td>\n      <td>103.779823</td>\n      <td>102.999702</td>\n    </tr>\n    <tr>\n      <th>2012-01</th>\n      <td>2012-01-31 21:00:01</td>\n      <td>102.951683</td>\n      <td>102.999702</td>\n    </tr>\n    <tr>\n      <th>...</th>\n      <td>...</td>\n      <td>...</td>\n      <td>...</td>\n    </tr>\n    <tr>\n      <th>2012-03/2012-03-26/2012-03-31</th>\n      <td>2012-03-31 19:00:01</td>\n      <td>86.063492</td>\n      <td>103.001099</td>\n    </tr>\n    <tr>\n      <th>2012-03/2012-03-26/2012-03-31</th>\n      <td>2012-03-31 20:00:01</td>\n      <td>83.396271</td>\n      <td>103.001099</td>\n    </tr>\n    <tr>\n      <th>2012-03/2012-03-26/2012-03-31</th>\n      <td>2012-03-31 21:00:01</td>\n      <td>81.524620</td>\n      <td>103.001099</td>\n    </tr>\n    <tr>\n      <th>2012-03/2012-03-26/2012-03-31</th>\n      <td>2012-03-31 22:00:01</td>\n      <td>80.211235</td>\n      <td>103.001099</td>\n    </tr>\n    <tr>\n      <th>2012-03/2012-03-26/2012-03-31</th>\n      <td>2012-03-31 23:00:01</td>\n      <td>79.289597</td>\n      <td>103.001099</td>\n    </tr>\n  </tbody>\n</table>\n<p>770 rows × 3 columns</p>\n</div>"
     },
     "execution_count": 294,
     "metadata": {},
     "output_type": "execute_result"
    }
   ],
   "source": [
    "Y_hat_df"
   ],
   "metadata": {
    "collapsed": false,
    "ExecuteTime": {
     "end_time": "2024-03-16T05:28:41.319855Z",
     "start_time": "2024-03-16T05:28:41.309713Z"
    }
   },
   "id": "8554ed875c29ecdb",
   "execution_count": 294
  },
  {
   "cell_type": "code",
   "outputs": [
    {
     "data": {
      "text/plain": "                                               ds      y   AutoARIMA  \\\nunique_id                                                              \n2012-01                       2012-01-01 00:00:01   69.0   60.922459   \n2012-01                       2012-01-01 01:00:01   92.0   69.693207   \n2012-01                       2012-01-01 02:00:01   96.0   94.830650   \n2012-01                       2012-01-01 03:00:01   92.0   91.101509   \n2012-01                       2012-01-01 04:00:01   91.0   90.194138   \n...                                           ...    ...         ...   \n2012-03/2012-03-26/2012-03-31 2012-03-31 12:00:01  128.0  128.403442   \n2012-03/2012-03-26/2012-03-31 2012-03-31 13:00:01  127.0  128.701721   \n2012-03/2012-03-26/2012-03-31 2012-03-31 14:00:01  120.0  126.298279   \n2012-03/2012-03-26/2012-03-31 2012-03-31 15:00:01  114.0  115.087929   \n2012-03/2012-03-26/2012-03-31 2012-03-31 16:00:01  103.0  109.789658   \n\n                                  AutoETS  \nunique_id                                  \n2012-01                         69.123726  \n2012-01                         69.000015  \n2012-01                         91.997704  \n2012-01                         95.999603  \n2012-01                         92.000397  \n...                                   ...  \n2012-03/2012-03-26/2012-03-31  126.999802  \n2012-03/2012-03-26/2012-03-31  127.999901  \n2012-03/2012-03-26/2012-03-31  127.000099  \n2012-03/2012-03-26/2012-03-31  120.000702  \n2012-03/2012-03-26/2012-03-31  114.000603  \n\n[5782 rows x 4 columns]",
      "text/html": "<div>\n<style scoped>\n    .dataframe tbody tr th:only-of-type {\n        vertical-align: middle;\n    }\n\n    .dataframe tbody tr th {\n        vertical-align: top;\n    }\n\n    .dataframe thead th {\n        text-align: right;\n    }\n</style>\n<table border=\"1\" class=\"dataframe\">\n  <thead>\n    <tr style=\"text-align: right;\">\n      <th></th>\n      <th>ds</th>\n      <th>y</th>\n      <th>AutoARIMA</th>\n      <th>AutoETS</th>\n    </tr>\n    <tr>\n      <th>unique_id</th>\n      <th></th>\n      <th></th>\n      <th></th>\n      <th></th>\n    </tr>\n  </thead>\n  <tbody>\n    <tr>\n      <th>2012-01</th>\n      <td>2012-01-01 00:00:01</td>\n      <td>69.0</td>\n      <td>60.922459</td>\n      <td>69.123726</td>\n    </tr>\n    <tr>\n      <th>2012-01</th>\n      <td>2012-01-01 01:00:01</td>\n      <td>92.0</td>\n      <td>69.693207</td>\n      <td>69.000015</td>\n    </tr>\n    <tr>\n      <th>2012-01</th>\n      <td>2012-01-01 02:00:01</td>\n      <td>96.0</td>\n      <td>94.830650</td>\n      <td>91.997704</td>\n    </tr>\n    <tr>\n      <th>2012-01</th>\n      <td>2012-01-01 03:00:01</td>\n      <td>92.0</td>\n      <td>91.101509</td>\n      <td>95.999603</td>\n    </tr>\n    <tr>\n      <th>2012-01</th>\n      <td>2012-01-01 04:00:01</td>\n      <td>91.0</td>\n      <td>90.194138</td>\n      <td>92.000397</td>\n    </tr>\n    <tr>\n      <th>...</th>\n      <td>...</td>\n      <td>...</td>\n      <td>...</td>\n      <td>...</td>\n    </tr>\n    <tr>\n      <th>2012-03/2012-03-26/2012-03-31</th>\n      <td>2012-03-31 12:00:01</td>\n      <td>128.0</td>\n      <td>128.403442</td>\n      <td>126.999802</td>\n    </tr>\n    <tr>\n      <th>2012-03/2012-03-26/2012-03-31</th>\n      <td>2012-03-31 13:00:01</td>\n      <td>127.0</td>\n      <td>128.701721</td>\n      <td>127.999901</td>\n    </tr>\n    <tr>\n      <th>2012-03/2012-03-26/2012-03-31</th>\n      <td>2012-03-31 14:00:01</td>\n      <td>120.0</td>\n      <td>126.298279</td>\n      <td>127.000099</td>\n    </tr>\n    <tr>\n      <th>2012-03/2012-03-26/2012-03-31</th>\n      <td>2012-03-31 15:00:01</td>\n      <td>114.0</td>\n      <td>115.087929</td>\n      <td>120.000702</td>\n    </tr>\n    <tr>\n      <th>2012-03/2012-03-26/2012-03-31</th>\n      <td>2012-03-31 16:00:01</td>\n      <td>103.0</td>\n      <td>109.789658</td>\n      <td>114.000603</td>\n    </tr>\n  </tbody>\n</table>\n<p>5782 rows × 4 columns</p>\n</div>"
     },
     "execution_count": 295,
     "metadata": {},
     "output_type": "execute_result"
    }
   ],
   "source": [
    "Y_fitted_df"
   ],
   "metadata": {
    "collapsed": false,
    "ExecuteTime": {
     "end_time": "2024-03-16T05:28:41.333309Z",
     "start_time": "2024-03-16T05:28:41.321010Z"
    }
   },
   "id": "457eb7a4f207d202",
   "execution_count": 295
  },
  {
   "cell_type": "code",
   "outputs": [],
   "source": [
    "# You can select a reconciler from our collection\n",
    "reconcilers = [BottomUp()] # MinTrace(method='mint_shrink')\n",
    "hrec = HierarchicalReconciliation(reconcilers=reconcilers)"
   ],
   "metadata": {
    "collapsed": false,
    "ExecuteTime": {
     "end_time": "2024-03-16T05:28:41.338191Z",
     "start_time": "2024-03-16T05:28:41.334777Z"
    }
   },
   "id": "799ae57ca2abae26",
   "execution_count": 296
  },
  {
   "cell_type": "code",
   "outputs": [
    {
     "ename": "ValueError",
     "evalue": "Length of values (70070) does not match length of index (770)",
     "output_type": "error",
     "traceback": [
      "\u001B[0;31m---------------------------------------------------------------------------\u001B[0m",
      "\u001B[0;31mValueError\u001B[0m                                Traceback (most recent call last)",
      "Cell \u001B[0;32mIn[297], line 1\u001B[0m\n\u001B[0;32m----> 1\u001B[0m Y_rec_df \u001B[38;5;241m=\u001B[39m \u001B[43mhrec\u001B[49m\u001B[38;5;241;43m.\u001B[39;49m\u001B[43mreconcile\u001B[49m\u001B[43m(\u001B[49m\u001B[43mY_h\u001B[49m\u001B[38;5;241;43m=\u001B[39;49m\u001B[43mY_hat_df\u001B[49m\u001B[43m,\u001B[49m\u001B[43m \u001B[49m\n\u001B[1;32m      2\u001B[0m \u001B[43m                          \u001B[49m\u001B[43mY_df\u001B[49m\u001B[38;5;241;43m=\u001B[39;49m\u001B[43mY_fitted_df\u001B[49m\u001B[43m,\u001B[49m\n\u001B[1;32m      3\u001B[0m \u001B[43m                          \u001B[49m\u001B[43mS\u001B[49m\u001B[38;5;241;43m=\u001B[39;49m\u001B[43mS_df\u001B[49m\u001B[43m,\u001B[49m\u001B[43m \u001B[49m\u001B[43mtags\u001B[49m\u001B[38;5;241;43m=\u001B[39;49m\u001B[43mtags\u001B[49m\u001B[43m)\u001B[49m\n\u001B[1;32m      4\u001B[0m Y_rec_df\u001B[38;5;241m.\u001B[39mgroupby(\u001B[38;5;124m'\u001B[39m\u001B[38;5;124munique_id\u001B[39m\u001B[38;5;124m'\u001B[39m)\u001B[38;5;241m.\u001B[39mhead(\u001B[38;5;241m2\u001B[39m)\n",
      "File \u001B[0;32m~/hse_master/develop_tools/fast_api/fast_api_tutorial/venv/lib/python3.10/site-packages/hierarchicalforecast/core.py:71\u001B[0m, in \u001B[0;36mHierarchicalReconciliation.reconcile\u001B[0;34m(self, Y_h, Y_df, S, tags)\u001B[0m\n\u001B[1;32m     69\u001B[0m kwargs \u001B[38;5;241m=\u001B[39m {key: common_vals[key] \u001B[38;5;28;01mfor\u001B[39;00m key \u001B[38;5;129;01min\u001B[39;00m kwargs}\n\u001B[1;32m     70\u001B[0m fcsts_model \u001B[38;5;241m=\u001B[39m reconcile_fn(y_hat\u001B[38;5;241m=\u001B[39my_hat_model, \u001B[38;5;241m*\u001B[39m\u001B[38;5;241m*\u001B[39mkwargs)\n\u001B[0;32m---> 71\u001B[0m \u001B[43mfcsts\u001B[49m\u001B[43m[\u001B[49m\u001B[38;5;124;43mf\u001B[39;49m\u001B[38;5;124;43m'\u001B[39;49m\u001B[38;5;132;43;01m{\u001B[39;49;00m\u001B[43mmodel_name\u001B[49m\u001B[38;5;132;43;01m}\u001B[39;49;00m\u001B[38;5;124;43m/\u001B[39;49m\u001B[38;5;132;43;01m{\u001B[39;49;00m\u001B[43mreconcile_fn_name\u001B[49m\u001B[38;5;132;43;01m}\u001B[39;49;00m\u001B[38;5;124;43m'\u001B[39;49m\u001B[43m]\u001B[49m \u001B[38;5;241m=\u001B[39m fcsts_model\u001B[38;5;241m.\u001B[39mflatten()\n\u001B[1;32m     72\u001B[0m \u001B[38;5;28;01mif\u001B[39;00m has_fitted:\n\u001B[1;32m     73\u001B[0m     \u001B[38;5;28;01mdel\u001B[39;00m common_vals[\u001B[38;5;124m'\u001B[39m\u001B[38;5;124my_hat_insample\u001B[39m\u001B[38;5;124m'\u001B[39m]\n",
      "File \u001B[0;32m~/hse_master/develop_tools/fast_api/fast_api_tutorial/venv/lib/python3.10/site-packages/pandas/core/frame.py:4091\u001B[0m, in \u001B[0;36mDataFrame.__setitem__\u001B[0;34m(self, key, value)\u001B[0m\n\u001B[1;32m   4088\u001B[0m     \u001B[38;5;28mself\u001B[39m\u001B[38;5;241m.\u001B[39m_setitem_array([key], value)\n\u001B[1;32m   4089\u001B[0m \u001B[38;5;28;01melse\u001B[39;00m:\n\u001B[1;32m   4090\u001B[0m     \u001B[38;5;66;03m# set column\u001B[39;00m\n\u001B[0;32m-> 4091\u001B[0m     \u001B[38;5;28;43mself\u001B[39;49m\u001B[38;5;241;43m.\u001B[39;49m\u001B[43m_set_item\u001B[49m\u001B[43m(\u001B[49m\u001B[43mkey\u001B[49m\u001B[43m,\u001B[49m\u001B[43m \u001B[49m\u001B[43mvalue\u001B[49m\u001B[43m)\u001B[49m\n",
      "File \u001B[0;32m~/hse_master/develop_tools/fast_api/fast_api_tutorial/venv/lib/python3.10/site-packages/pandas/core/frame.py:4300\u001B[0m, in \u001B[0;36mDataFrame._set_item\u001B[0;34m(self, key, value)\u001B[0m\n\u001B[1;32m   4290\u001B[0m \u001B[38;5;28;01mdef\u001B[39;00m \u001B[38;5;21m_set_item\u001B[39m(\u001B[38;5;28mself\u001B[39m, key, value) \u001B[38;5;241m-\u001B[39m\u001B[38;5;241m>\u001B[39m \u001B[38;5;28;01mNone\u001B[39;00m:\n\u001B[1;32m   4291\u001B[0m \u001B[38;5;250m    \u001B[39m\u001B[38;5;124;03m\"\"\"\u001B[39;00m\n\u001B[1;32m   4292\u001B[0m \u001B[38;5;124;03m    Add series to DataFrame in specified column.\u001B[39;00m\n\u001B[1;32m   4293\u001B[0m \n\u001B[0;32m   (...)\u001B[0m\n\u001B[1;32m   4298\u001B[0m \u001B[38;5;124;03m    ensure homogeneity.\u001B[39;00m\n\u001B[1;32m   4299\u001B[0m \u001B[38;5;124;03m    \"\"\"\u001B[39;00m\n\u001B[0;32m-> 4300\u001B[0m     value, refs \u001B[38;5;241m=\u001B[39m \u001B[38;5;28;43mself\u001B[39;49m\u001B[38;5;241;43m.\u001B[39;49m\u001B[43m_sanitize_column\u001B[49m\u001B[43m(\u001B[49m\u001B[43mvalue\u001B[49m\u001B[43m)\u001B[49m\n\u001B[1;32m   4302\u001B[0m     \u001B[38;5;28;01mif\u001B[39;00m (\n\u001B[1;32m   4303\u001B[0m         key \u001B[38;5;129;01min\u001B[39;00m \u001B[38;5;28mself\u001B[39m\u001B[38;5;241m.\u001B[39mcolumns\n\u001B[1;32m   4304\u001B[0m         \u001B[38;5;129;01mand\u001B[39;00m value\u001B[38;5;241m.\u001B[39mndim \u001B[38;5;241m==\u001B[39m \u001B[38;5;241m1\u001B[39m\n\u001B[1;32m   4305\u001B[0m         \u001B[38;5;129;01mand\u001B[39;00m \u001B[38;5;129;01mnot\u001B[39;00m \u001B[38;5;28misinstance\u001B[39m(value\u001B[38;5;241m.\u001B[39mdtype, ExtensionDtype)\n\u001B[1;32m   4306\u001B[0m     ):\n\u001B[1;32m   4307\u001B[0m         \u001B[38;5;66;03m# broadcast across multiple columns if necessary\u001B[39;00m\n\u001B[1;32m   4308\u001B[0m         \u001B[38;5;28;01mif\u001B[39;00m \u001B[38;5;129;01mnot\u001B[39;00m \u001B[38;5;28mself\u001B[39m\u001B[38;5;241m.\u001B[39mcolumns\u001B[38;5;241m.\u001B[39mis_unique \u001B[38;5;129;01mor\u001B[39;00m \u001B[38;5;28misinstance\u001B[39m(\u001B[38;5;28mself\u001B[39m\u001B[38;5;241m.\u001B[39mcolumns, MultiIndex):\n",
      "File \u001B[0;32m~/hse_master/develop_tools/fast_api/fast_api_tutorial/venv/lib/python3.10/site-packages/pandas/core/frame.py:5039\u001B[0m, in \u001B[0;36mDataFrame._sanitize_column\u001B[0;34m(self, value)\u001B[0m\n\u001B[1;32m   5036\u001B[0m     \u001B[38;5;28;01mreturn\u001B[39;00m _reindex_for_setitem(value, \u001B[38;5;28mself\u001B[39m\u001B[38;5;241m.\u001B[39mindex)\n\u001B[1;32m   5038\u001B[0m \u001B[38;5;28;01mif\u001B[39;00m is_list_like(value):\n\u001B[0;32m-> 5039\u001B[0m     \u001B[43mcom\u001B[49m\u001B[38;5;241;43m.\u001B[39;49m\u001B[43mrequire_length_match\u001B[49m\u001B[43m(\u001B[49m\u001B[43mvalue\u001B[49m\u001B[43m,\u001B[49m\u001B[43m \u001B[49m\u001B[38;5;28;43mself\u001B[39;49m\u001B[38;5;241;43m.\u001B[39;49m\u001B[43mindex\u001B[49m\u001B[43m)\u001B[49m\n\u001B[1;32m   5040\u001B[0m \u001B[38;5;28;01mreturn\u001B[39;00m sanitize_array(value, \u001B[38;5;28mself\u001B[39m\u001B[38;5;241m.\u001B[39mindex, copy\u001B[38;5;241m=\u001B[39m\u001B[38;5;28;01mTrue\u001B[39;00m, allow_2d\u001B[38;5;241m=\u001B[39m\u001B[38;5;28;01mTrue\u001B[39;00m), \u001B[38;5;28;01mNone\u001B[39;00m\n",
      "File \u001B[0;32m~/hse_master/develop_tools/fast_api/fast_api_tutorial/venv/lib/python3.10/site-packages/pandas/core/common.py:561\u001B[0m, in \u001B[0;36mrequire_length_match\u001B[0;34m(data, index)\u001B[0m\n\u001B[1;32m    557\u001B[0m \u001B[38;5;250m\u001B[39m\u001B[38;5;124;03m\"\"\"\u001B[39;00m\n\u001B[1;32m    558\u001B[0m \u001B[38;5;124;03mCheck the length of data matches the length of the index.\u001B[39;00m\n\u001B[1;32m    559\u001B[0m \u001B[38;5;124;03m\"\"\"\u001B[39;00m\n\u001B[1;32m    560\u001B[0m \u001B[38;5;28;01mif\u001B[39;00m \u001B[38;5;28mlen\u001B[39m(data) \u001B[38;5;241m!=\u001B[39m \u001B[38;5;28mlen\u001B[39m(index):\n\u001B[0;32m--> 561\u001B[0m     \u001B[38;5;28;01mraise\u001B[39;00m \u001B[38;5;167;01mValueError\u001B[39;00m(\n\u001B[1;32m    562\u001B[0m         \u001B[38;5;124m\"\u001B[39m\u001B[38;5;124mLength of values \u001B[39m\u001B[38;5;124m\"\u001B[39m\n\u001B[1;32m    563\u001B[0m         \u001B[38;5;124mf\u001B[39m\u001B[38;5;124m\"\u001B[39m\u001B[38;5;124m(\u001B[39m\u001B[38;5;132;01m{\u001B[39;00m\u001B[38;5;28mlen\u001B[39m(data)\u001B[38;5;132;01m}\u001B[39;00m\u001B[38;5;124m) \u001B[39m\u001B[38;5;124m\"\u001B[39m\n\u001B[1;32m    564\u001B[0m         \u001B[38;5;124m\"\u001B[39m\u001B[38;5;124mdoes not match length of index \u001B[39m\u001B[38;5;124m\"\u001B[39m\n\u001B[1;32m    565\u001B[0m         \u001B[38;5;124mf\u001B[39m\u001B[38;5;124m\"\u001B[39m\u001B[38;5;124m(\u001B[39m\u001B[38;5;132;01m{\u001B[39;00m\u001B[38;5;28mlen\u001B[39m(index)\u001B[38;5;132;01m}\u001B[39;00m\u001B[38;5;124m)\u001B[39m\u001B[38;5;124m\"\u001B[39m\n\u001B[1;32m    566\u001B[0m     )\n",
      "\u001B[0;31mValueError\u001B[0m: Length of values (70070) does not match length of index (770)"
     ]
    }
   ],
   "source": [
    "Y_rec_df = hrec.reconcile(Y_h=Y_hat_df, \n",
    "                          Y_df=Y_fitted_df,\n",
    "                          S=S_df, tags=tags)\n",
    "Y_rec_df.groupby('unique_id').head(2)"
   ],
   "metadata": {
    "collapsed": false,
    "ExecuteTime": {
     "end_time": "2024-03-16T05:28:41.559263Z",
     "start_time": "2024-03-16T05:28:41.339655Z"
    }
   },
   "id": "5c5f44ab1c04f6e6",
   "execution_count": 297
  },
  {
   "cell_type": "code",
   "outputs": [
    {
     "data": {
      "text/plain": "                                                   2012-01/2011-12-26/2012-01-01/2012-01-01 00:00:01  \\\n2012-01                                                                                          1.0   \n2012-02                                                                                          0.0   \n2012-03                                                                                          0.0   \n2012-01/2011-12-26                                                                               1.0   \n2012-01/2012-01-02                                                                               0.0   \n...                                                                                              ...   \n2012-03/2012-03-26/2012-03-31/2012-03-31 19:00:01                                                0.0   \n2012-03/2012-03-26/2012-03-31/2012-03-31 20:00:01                                                0.0   \n2012-03/2012-03-26/2012-03-31/2012-03-31 21:00:01                                                0.0   \n2012-03/2012-03-26/2012-03-31/2012-03-31 22:00:01                                                0.0   \n2012-03/2012-03-26/2012-03-31/2012-03-31 23:00:01                                                0.0   \n\n                                                   2012-01/2011-12-26/2012-01-01/2012-01-01 01:00:01  \\\n2012-01                                                                                          1.0   \n2012-02                                                                                          0.0   \n2012-03                                                                                          0.0   \n2012-01/2011-12-26                                                                               1.0   \n2012-01/2012-01-02                                                                               0.0   \n...                                                                                              ...   \n2012-03/2012-03-26/2012-03-31/2012-03-31 19:00:01                                                0.0   \n2012-03/2012-03-26/2012-03-31/2012-03-31 20:00:01                                                0.0   \n2012-03/2012-03-26/2012-03-31/2012-03-31 21:00:01                                                0.0   \n2012-03/2012-03-26/2012-03-31/2012-03-31 22:00:01                                                0.0   \n2012-03/2012-03-26/2012-03-31/2012-03-31 23:00:01                                                0.0   \n\n                                                   2012-01/2011-12-26/2012-01-01/2012-01-01 02:00:01  \\\n2012-01                                                                                          1.0   \n2012-02                                                                                          0.0   \n2012-03                                                                                          0.0   \n2012-01/2011-12-26                                                                               1.0   \n2012-01/2012-01-02                                                                               0.0   \n...                                                                                              ...   \n2012-03/2012-03-26/2012-03-31/2012-03-31 19:00:01                                                0.0   \n2012-03/2012-03-26/2012-03-31/2012-03-31 20:00:01                                                0.0   \n2012-03/2012-03-26/2012-03-31/2012-03-31 21:00:01                                                0.0   \n2012-03/2012-03-26/2012-03-31/2012-03-31 22:00:01                                                0.0   \n2012-03/2012-03-26/2012-03-31/2012-03-31 23:00:01                                                0.0   \n\n                                                   2012-01/2011-12-26/2012-01-01/2012-01-01 03:00:01  \\\n2012-01                                                                                          1.0   \n2012-02                                                                                          0.0   \n2012-03                                                                                          0.0   \n2012-01/2011-12-26                                                                               1.0   \n2012-01/2012-01-02                                                                               0.0   \n...                                                                                              ...   \n2012-03/2012-03-26/2012-03-31/2012-03-31 19:00:01                                                0.0   \n2012-03/2012-03-26/2012-03-31/2012-03-31 20:00:01                                                0.0   \n2012-03/2012-03-26/2012-03-31/2012-03-31 21:00:01                                                0.0   \n2012-03/2012-03-26/2012-03-31/2012-03-31 22:00:01                                                0.0   \n2012-03/2012-03-26/2012-03-31/2012-03-31 23:00:01                                                0.0   \n\n                                                   2012-01/2011-12-26/2012-01-01/2012-01-01 04:00:01  \\\n2012-01                                                                                          1.0   \n2012-02                                                                                          0.0   \n2012-03                                                                                          0.0   \n2012-01/2011-12-26                                                                               1.0   \n2012-01/2012-01-02                                                                               0.0   \n...                                                                                              ...   \n2012-03/2012-03-26/2012-03-31/2012-03-31 19:00:01                                                0.0   \n2012-03/2012-03-26/2012-03-31/2012-03-31 20:00:01                                                0.0   \n2012-03/2012-03-26/2012-03-31/2012-03-31 21:00:01                                                0.0   \n2012-03/2012-03-26/2012-03-31/2012-03-31 22:00:01                                                0.0   \n2012-03/2012-03-26/2012-03-31/2012-03-31 23:00:01                                                0.0   \n\n                                                   2012-01/2011-12-26/2012-01-01/2012-01-01 05:00:01  \\\n2012-01                                                                                          1.0   \n2012-02                                                                                          0.0   \n2012-03                                                                                          0.0   \n2012-01/2011-12-26                                                                               1.0   \n2012-01/2012-01-02                                                                               0.0   \n...                                                                                              ...   \n2012-03/2012-03-26/2012-03-31/2012-03-31 19:00:01                                                0.0   \n2012-03/2012-03-26/2012-03-31/2012-03-31 20:00:01                                                0.0   \n2012-03/2012-03-26/2012-03-31/2012-03-31 21:00:01                                                0.0   \n2012-03/2012-03-26/2012-03-31/2012-03-31 22:00:01                                                0.0   \n2012-03/2012-03-26/2012-03-31/2012-03-31 23:00:01                                                0.0   \n\n                                                   2012-01/2011-12-26/2012-01-01/2012-01-01 06:00:01  \\\n2012-01                                                                                          1.0   \n2012-02                                                                                          0.0   \n2012-03                                                                                          0.0   \n2012-01/2011-12-26                                                                               1.0   \n2012-01/2012-01-02                                                                               0.0   \n...                                                                                              ...   \n2012-03/2012-03-26/2012-03-31/2012-03-31 19:00:01                                                0.0   \n2012-03/2012-03-26/2012-03-31/2012-03-31 20:00:01                                                0.0   \n2012-03/2012-03-26/2012-03-31/2012-03-31 21:00:01                                                0.0   \n2012-03/2012-03-26/2012-03-31/2012-03-31 22:00:01                                                0.0   \n2012-03/2012-03-26/2012-03-31/2012-03-31 23:00:01                                                0.0   \n\n                                                   2012-01/2011-12-26/2012-01-01/2012-01-01 07:00:01  \\\n2012-01                                                                                          1.0   \n2012-02                                                                                          0.0   \n2012-03                                                                                          0.0   \n2012-01/2011-12-26                                                                               1.0   \n2012-01/2012-01-02                                                                               0.0   \n...                                                                                              ...   \n2012-03/2012-03-26/2012-03-31/2012-03-31 19:00:01                                                0.0   \n2012-03/2012-03-26/2012-03-31/2012-03-31 20:00:01                                                0.0   \n2012-03/2012-03-26/2012-03-31/2012-03-31 21:00:01                                                0.0   \n2012-03/2012-03-26/2012-03-31/2012-03-31 22:00:01                                                0.0   \n2012-03/2012-03-26/2012-03-31/2012-03-31 23:00:01                                                0.0   \n\n                                                   2012-01/2011-12-26/2012-01-01/2012-01-01 08:00:01  \\\n2012-01                                                                                          1.0   \n2012-02                                                                                          0.0   \n2012-03                                                                                          0.0   \n2012-01/2011-12-26                                                                               1.0   \n2012-01/2012-01-02                                                                               0.0   \n...                                                                                              ...   \n2012-03/2012-03-26/2012-03-31/2012-03-31 19:00:01                                                0.0   \n2012-03/2012-03-26/2012-03-31/2012-03-31 20:00:01                                                0.0   \n2012-03/2012-03-26/2012-03-31/2012-03-31 21:00:01                                                0.0   \n2012-03/2012-03-26/2012-03-31/2012-03-31 22:00:01                                                0.0   \n2012-03/2012-03-26/2012-03-31/2012-03-31 23:00:01                                                0.0   \n\n                                                   2012-01/2011-12-26/2012-01-01/2012-01-01 09:00:01  \\\n2012-01                                                                                          1.0   \n2012-02                                                                                          0.0   \n2012-03                                                                                          0.0   \n2012-01/2011-12-26                                                                               1.0   \n2012-01/2012-01-02                                                                               0.0   \n...                                                                                              ...   \n2012-03/2012-03-26/2012-03-31/2012-03-31 19:00:01                                                0.0   \n2012-03/2012-03-26/2012-03-31/2012-03-31 20:00:01                                                0.0   \n2012-03/2012-03-26/2012-03-31/2012-03-31 21:00:01                                                0.0   \n2012-03/2012-03-26/2012-03-31/2012-03-31 22:00:01                                                0.0   \n2012-03/2012-03-26/2012-03-31/2012-03-31 23:00:01                                                0.0   \n\n                                                   ...  \\\n2012-01                                            ...   \n2012-02                                            ...   \n2012-03                                            ...   \n2012-01/2011-12-26                                 ...   \n2012-01/2012-01-02                                 ...   \n...                                                ...   \n2012-03/2012-03-26/2012-03-31/2012-03-31 19:00:01  ...   \n2012-03/2012-03-26/2012-03-31/2012-03-31 20:00:01  ...   \n2012-03/2012-03-26/2012-03-31/2012-03-31 21:00:01  ...   \n2012-03/2012-03-26/2012-03-31/2012-03-31 22:00:01  ...   \n2012-03/2012-03-26/2012-03-31/2012-03-31 23:00:01  ...   \n\n                                                   2012-03/2012-03-26/2012-03-31/2012-03-31 14:00:01  \\\n2012-01                                                                                          0.0   \n2012-02                                                                                          0.0   \n2012-03                                                                                          1.0   \n2012-01/2011-12-26                                                                               0.0   \n2012-01/2012-01-02                                                                               0.0   \n...                                                                                              ...   \n2012-03/2012-03-26/2012-03-31/2012-03-31 19:00:01                                                0.0   \n2012-03/2012-03-26/2012-03-31/2012-03-31 20:00:01                                                0.0   \n2012-03/2012-03-26/2012-03-31/2012-03-31 21:00:01                                                0.0   \n2012-03/2012-03-26/2012-03-31/2012-03-31 22:00:01                                                0.0   \n2012-03/2012-03-26/2012-03-31/2012-03-31 23:00:01                                                0.0   \n\n                                                   2012-03/2012-03-26/2012-03-31/2012-03-31 15:00:01  \\\n2012-01                                                                                          0.0   \n2012-02                                                                                          0.0   \n2012-03                                                                                          1.0   \n2012-01/2011-12-26                                                                               0.0   \n2012-01/2012-01-02                                                                               0.0   \n...                                                                                              ...   \n2012-03/2012-03-26/2012-03-31/2012-03-31 19:00:01                                                0.0   \n2012-03/2012-03-26/2012-03-31/2012-03-31 20:00:01                                                0.0   \n2012-03/2012-03-26/2012-03-31/2012-03-31 21:00:01                                                0.0   \n2012-03/2012-03-26/2012-03-31/2012-03-31 22:00:01                                                0.0   \n2012-03/2012-03-26/2012-03-31/2012-03-31 23:00:01                                                0.0   \n\n                                                   2012-03/2012-03-26/2012-03-31/2012-03-31 16:00:01  \\\n2012-01                                                                                          0.0   \n2012-02                                                                                          0.0   \n2012-03                                                                                          1.0   \n2012-01/2011-12-26                                                                               0.0   \n2012-01/2012-01-02                                                                               0.0   \n...                                                                                              ...   \n2012-03/2012-03-26/2012-03-31/2012-03-31 19:00:01                                                0.0   \n2012-03/2012-03-26/2012-03-31/2012-03-31 20:00:01                                                0.0   \n2012-03/2012-03-26/2012-03-31/2012-03-31 21:00:01                                                0.0   \n2012-03/2012-03-26/2012-03-31/2012-03-31 22:00:01                                                0.0   \n2012-03/2012-03-26/2012-03-31/2012-03-31 23:00:01                                                0.0   \n\n                                                   2012-03/2012-03-26/2012-03-31/2012-03-31 17:00:01  \\\n2012-01                                                                                          0.0   \n2012-02                                                                                          0.0   \n2012-03                                                                                          1.0   \n2012-01/2011-12-26                                                                               0.0   \n2012-01/2012-01-02                                                                               0.0   \n...                                                                                              ...   \n2012-03/2012-03-26/2012-03-31/2012-03-31 19:00:01                                                0.0   \n2012-03/2012-03-26/2012-03-31/2012-03-31 20:00:01                                                0.0   \n2012-03/2012-03-26/2012-03-31/2012-03-31 21:00:01                                                0.0   \n2012-03/2012-03-26/2012-03-31/2012-03-31 22:00:01                                                0.0   \n2012-03/2012-03-26/2012-03-31/2012-03-31 23:00:01                                                0.0   \n\n                                                   2012-03/2012-03-26/2012-03-31/2012-03-31 18:00:01  \\\n2012-01                                                                                          0.0   \n2012-02                                                                                          0.0   \n2012-03                                                                                          1.0   \n2012-01/2011-12-26                                                                               0.0   \n2012-01/2012-01-02                                                                               0.0   \n...                                                                                              ...   \n2012-03/2012-03-26/2012-03-31/2012-03-31 19:00:01                                                0.0   \n2012-03/2012-03-26/2012-03-31/2012-03-31 20:00:01                                                0.0   \n2012-03/2012-03-26/2012-03-31/2012-03-31 21:00:01                                                0.0   \n2012-03/2012-03-26/2012-03-31/2012-03-31 22:00:01                                                0.0   \n2012-03/2012-03-26/2012-03-31/2012-03-31 23:00:01                                                0.0   \n\n                                                   2012-03/2012-03-26/2012-03-31/2012-03-31 19:00:01  \\\n2012-01                                                                                          0.0   \n2012-02                                                                                          0.0   \n2012-03                                                                                          1.0   \n2012-01/2011-12-26                                                                               0.0   \n2012-01/2012-01-02                                                                               0.0   \n...                                                                                              ...   \n2012-03/2012-03-26/2012-03-31/2012-03-31 19:00:01                                                1.0   \n2012-03/2012-03-26/2012-03-31/2012-03-31 20:00:01                                                0.0   \n2012-03/2012-03-26/2012-03-31/2012-03-31 21:00:01                                                0.0   \n2012-03/2012-03-26/2012-03-31/2012-03-31 22:00:01                                                0.0   \n2012-03/2012-03-26/2012-03-31/2012-03-31 23:00:01                                                0.0   \n\n                                                   2012-03/2012-03-26/2012-03-31/2012-03-31 20:00:01  \\\n2012-01                                                                                          0.0   \n2012-02                                                                                          0.0   \n2012-03                                                                                          1.0   \n2012-01/2011-12-26                                                                               0.0   \n2012-01/2012-01-02                                                                               0.0   \n...                                                                                              ...   \n2012-03/2012-03-26/2012-03-31/2012-03-31 19:00:01                                                0.0   \n2012-03/2012-03-26/2012-03-31/2012-03-31 20:00:01                                                1.0   \n2012-03/2012-03-26/2012-03-31/2012-03-31 21:00:01                                                0.0   \n2012-03/2012-03-26/2012-03-31/2012-03-31 22:00:01                                                0.0   \n2012-03/2012-03-26/2012-03-31/2012-03-31 23:00:01                                                0.0   \n\n                                                   2012-03/2012-03-26/2012-03-31/2012-03-31 21:00:01  \\\n2012-01                                                                                          0.0   \n2012-02                                                                                          0.0   \n2012-03                                                                                          1.0   \n2012-01/2011-12-26                                                                               0.0   \n2012-01/2012-01-02                                                                               0.0   \n...                                                                                              ...   \n2012-03/2012-03-26/2012-03-31/2012-03-31 19:00:01                                                0.0   \n2012-03/2012-03-26/2012-03-31/2012-03-31 20:00:01                                                0.0   \n2012-03/2012-03-26/2012-03-31/2012-03-31 21:00:01                                                1.0   \n2012-03/2012-03-26/2012-03-31/2012-03-31 22:00:01                                                0.0   \n2012-03/2012-03-26/2012-03-31/2012-03-31 23:00:01                                                0.0   \n\n                                                   2012-03/2012-03-26/2012-03-31/2012-03-31 22:00:01  \\\n2012-01                                                                                          0.0   \n2012-02                                                                                          0.0   \n2012-03                                                                                          1.0   \n2012-01/2011-12-26                                                                               0.0   \n2012-01/2012-01-02                                                                               0.0   \n...                                                                                              ...   \n2012-03/2012-03-26/2012-03-31/2012-03-31 19:00:01                                                0.0   \n2012-03/2012-03-26/2012-03-31/2012-03-31 20:00:01                                                0.0   \n2012-03/2012-03-26/2012-03-31/2012-03-31 21:00:01                                                0.0   \n2012-03/2012-03-26/2012-03-31/2012-03-31 22:00:01                                                1.0   \n2012-03/2012-03-26/2012-03-31/2012-03-31 23:00:01                                                0.0   \n\n                                                   2012-03/2012-03-26/2012-03-31/2012-03-31 23:00:01  \n2012-01                                                                                          0.0  \n2012-02                                                                                          0.0  \n2012-03                                                                                          1.0  \n2012-01/2011-12-26                                                                               0.0  \n2012-01/2012-01-02                                                                               0.0  \n...                                                                                              ...  \n2012-03/2012-03-26/2012-03-31/2012-03-31 19:00:01                                                0.0  \n2012-03/2012-03-26/2012-03-31/2012-03-31 20:00:01                                                0.0  \n2012-03/2012-03-26/2012-03-31/2012-03-31 21:00:01                                                0.0  \n2012-03/2012-03-26/2012-03-31/2012-03-31 22:00:01                                                0.0  \n2012-03/2012-03-26/2012-03-31/2012-03-31 23:00:01                                                1.0  \n\n[2294 rows x 2184 columns]",
      "text/html": "<div>\n<style scoped>\n    .dataframe tbody tr th:only-of-type {\n        vertical-align: middle;\n    }\n\n    .dataframe tbody tr th {\n        vertical-align: top;\n    }\n\n    .dataframe thead th {\n        text-align: right;\n    }\n</style>\n<table border=\"1\" class=\"dataframe\">\n  <thead>\n    <tr style=\"text-align: right;\">\n      <th></th>\n      <th>2012-01/2011-12-26/2012-01-01/2012-01-01 00:00:01</th>\n      <th>2012-01/2011-12-26/2012-01-01/2012-01-01 01:00:01</th>\n      <th>2012-01/2011-12-26/2012-01-01/2012-01-01 02:00:01</th>\n      <th>2012-01/2011-12-26/2012-01-01/2012-01-01 03:00:01</th>\n      <th>2012-01/2011-12-26/2012-01-01/2012-01-01 04:00:01</th>\n      <th>2012-01/2011-12-26/2012-01-01/2012-01-01 05:00:01</th>\n      <th>2012-01/2011-12-26/2012-01-01/2012-01-01 06:00:01</th>\n      <th>2012-01/2011-12-26/2012-01-01/2012-01-01 07:00:01</th>\n      <th>2012-01/2011-12-26/2012-01-01/2012-01-01 08:00:01</th>\n      <th>2012-01/2011-12-26/2012-01-01/2012-01-01 09:00:01</th>\n      <th>...</th>\n      <th>2012-03/2012-03-26/2012-03-31/2012-03-31 14:00:01</th>\n      <th>2012-03/2012-03-26/2012-03-31/2012-03-31 15:00:01</th>\n      <th>2012-03/2012-03-26/2012-03-31/2012-03-31 16:00:01</th>\n      <th>2012-03/2012-03-26/2012-03-31/2012-03-31 17:00:01</th>\n      <th>2012-03/2012-03-26/2012-03-31/2012-03-31 18:00:01</th>\n      <th>2012-03/2012-03-26/2012-03-31/2012-03-31 19:00:01</th>\n      <th>2012-03/2012-03-26/2012-03-31/2012-03-31 20:00:01</th>\n      <th>2012-03/2012-03-26/2012-03-31/2012-03-31 21:00:01</th>\n      <th>2012-03/2012-03-26/2012-03-31/2012-03-31 22:00:01</th>\n      <th>2012-03/2012-03-26/2012-03-31/2012-03-31 23:00:01</th>\n    </tr>\n  </thead>\n  <tbody>\n    <tr>\n      <th>2012-01</th>\n      <td>1.0</td>\n      <td>1.0</td>\n      <td>1.0</td>\n      <td>1.0</td>\n      <td>1.0</td>\n      <td>1.0</td>\n      <td>1.0</td>\n      <td>1.0</td>\n      <td>1.0</td>\n      <td>1.0</td>\n      <td>...</td>\n      <td>0.0</td>\n      <td>0.0</td>\n      <td>0.0</td>\n      <td>0.0</td>\n      <td>0.0</td>\n      <td>0.0</td>\n      <td>0.0</td>\n      <td>0.0</td>\n      <td>0.0</td>\n      <td>0.0</td>\n    </tr>\n    <tr>\n      <th>2012-02</th>\n      <td>0.0</td>\n      <td>0.0</td>\n      <td>0.0</td>\n      <td>0.0</td>\n      <td>0.0</td>\n      <td>0.0</td>\n      <td>0.0</td>\n      <td>0.0</td>\n      <td>0.0</td>\n      <td>0.0</td>\n      <td>...</td>\n      <td>0.0</td>\n      <td>0.0</td>\n      <td>0.0</td>\n      <td>0.0</td>\n      <td>0.0</td>\n      <td>0.0</td>\n      <td>0.0</td>\n      <td>0.0</td>\n      <td>0.0</td>\n      <td>0.0</td>\n    </tr>\n    <tr>\n      <th>2012-03</th>\n      <td>0.0</td>\n      <td>0.0</td>\n      <td>0.0</td>\n      <td>0.0</td>\n      <td>0.0</td>\n      <td>0.0</td>\n      <td>0.0</td>\n      <td>0.0</td>\n      <td>0.0</td>\n      <td>0.0</td>\n      <td>...</td>\n      <td>1.0</td>\n      <td>1.0</td>\n      <td>1.0</td>\n      <td>1.0</td>\n      <td>1.0</td>\n      <td>1.0</td>\n      <td>1.0</td>\n      <td>1.0</td>\n      <td>1.0</td>\n      <td>1.0</td>\n    </tr>\n    <tr>\n      <th>2012-01/2011-12-26</th>\n      <td>1.0</td>\n      <td>1.0</td>\n      <td>1.0</td>\n      <td>1.0</td>\n      <td>1.0</td>\n      <td>1.0</td>\n      <td>1.0</td>\n      <td>1.0</td>\n      <td>1.0</td>\n      <td>1.0</td>\n      <td>...</td>\n      <td>0.0</td>\n      <td>0.0</td>\n      <td>0.0</td>\n      <td>0.0</td>\n      <td>0.0</td>\n      <td>0.0</td>\n      <td>0.0</td>\n      <td>0.0</td>\n      <td>0.0</td>\n      <td>0.0</td>\n    </tr>\n    <tr>\n      <th>2012-01/2012-01-02</th>\n      <td>0.0</td>\n      <td>0.0</td>\n      <td>0.0</td>\n      <td>0.0</td>\n      <td>0.0</td>\n      <td>0.0</td>\n      <td>0.0</td>\n      <td>0.0</td>\n      <td>0.0</td>\n      <td>0.0</td>\n      <td>...</td>\n      <td>0.0</td>\n      <td>0.0</td>\n      <td>0.0</td>\n      <td>0.0</td>\n      <td>0.0</td>\n      <td>0.0</td>\n      <td>0.0</td>\n      <td>0.0</td>\n      <td>0.0</td>\n      <td>0.0</td>\n    </tr>\n    <tr>\n      <th>...</th>\n      <td>...</td>\n      <td>...</td>\n      <td>...</td>\n      <td>...</td>\n      <td>...</td>\n      <td>...</td>\n      <td>...</td>\n      <td>...</td>\n      <td>...</td>\n      <td>...</td>\n      <td>...</td>\n      <td>...</td>\n      <td>...</td>\n      <td>...</td>\n      <td>...</td>\n      <td>...</td>\n      <td>...</td>\n      <td>...</td>\n      <td>...</td>\n      <td>...</td>\n      <td>...</td>\n    </tr>\n    <tr>\n      <th>2012-03/2012-03-26/2012-03-31/2012-03-31 19:00:01</th>\n      <td>0.0</td>\n      <td>0.0</td>\n      <td>0.0</td>\n      <td>0.0</td>\n      <td>0.0</td>\n      <td>0.0</td>\n      <td>0.0</td>\n      <td>0.0</td>\n      <td>0.0</td>\n      <td>0.0</td>\n      <td>...</td>\n      <td>0.0</td>\n      <td>0.0</td>\n      <td>0.0</td>\n      <td>0.0</td>\n      <td>0.0</td>\n      <td>1.0</td>\n      <td>0.0</td>\n      <td>0.0</td>\n      <td>0.0</td>\n      <td>0.0</td>\n    </tr>\n    <tr>\n      <th>2012-03/2012-03-26/2012-03-31/2012-03-31 20:00:01</th>\n      <td>0.0</td>\n      <td>0.0</td>\n      <td>0.0</td>\n      <td>0.0</td>\n      <td>0.0</td>\n      <td>0.0</td>\n      <td>0.0</td>\n      <td>0.0</td>\n      <td>0.0</td>\n      <td>0.0</td>\n      <td>...</td>\n      <td>0.0</td>\n      <td>0.0</td>\n      <td>0.0</td>\n      <td>0.0</td>\n      <td>0.0</td>\n      <td>0.0</td>\n      <td>1.0</td>\n      <td>0.0</td>\n      <td>0.0</td>\n      <td>0.0</td>\n    </tr>\n    <tr>\n      <th>2012-03/2012-03-26/2012-03-31/2012-03-31 21:00:01</th>\n      <td>0.0</td>\n      <td>0.0</td>\n      <td>0.0</td>\n      <td>0.0</td>\n      <td>0.0</td>\n      <td>0.0</td>\n      <td>0.0</td>\n      <td>0.0</td>\n      <td>0.0</td>\n      <td>0.0</td>\n      <td>...</td>\n      <td>0.0</td>\n      <td>0.0</td>\n      <td>0.0</td>\n      <td>0.0</td>\n      <td>0.0</td>\n      <td>0.0</td>\n      <td>0.0</td>\n      <td>1.0</td>\n      <td>0.0</td>\n      <td>0.0</td>\n    </tr>\n    <tr>\n      <th>2012-03/2012-03-26/2012-03-31/2012-03-31 22:00:01</th>\n      <td>0.0</td>\n      <td>0.0</td>\n      <td>0.0</td>\n      <td>0.0</td>\n      <td>0.0</td>\n      <td>0.0</td>\n      <td>0.0</td>\n      <td>0.0</td>\n      <td>0.0</td>\n      <td>0.0</td>\n      <td>...</td>\n      <td>0.0</td>\n      <td>0.0</td>\n      <td>0.0</td>\n      <td>0.0</td>\n      <td>0.0</td>\n      <td>0.0</td>\n      <td>0.0</td>\n      <td>0.0</td>\n      <td>1.0</td>\n      <td>0.0</td>\n    </tr>\n    <tr>\n      <th>2012-03/2012-03-26/2012-03-31/2012-03-31 23:00:01</th>\n      <td>0.0</td>\n      <td>0.0</td>\n      <td>0.0</td>\n      <td>0.0</td>\n      <td>0.0</td>\n      <td>0.0</td>\n      <td>0.0</td>\n      <td>0.0</td>\n      <td>0.0</td>\n      <td>0.0</td>\n      <td>...</td>\n      <td>0.0</td>\n      <td>0.0</td>\n      <td>0.0</td>\n      <td>0.0</td>\n      <td>0.0</td>\n      <td>0.0</td>\n      <td>0.0</td>\n      <td>0.0</td>\n      <td>0.0</td>\n      <td>1.0</td>\n    </tr>\n  </tbody>\n</table>\n<p>2294 rows × 2184 columns</p>\n</div>"
     },
     "execution_count": 299,
     "metadata": {},
     "output_type": "execute_result"
    }
   ],
   "source": [
    "S_df"
   ],
   "metadata": {
    "collapsed": false,
    "ExecuteTime": {
     "end_time": "2024-03-16T06:19:32.313924Z",
     "start_time": "2024-03-16T06:19:32.288506Z"
    }
   },
   "id": "af7f402a1b1ce6c5",
   "execution_count": 299
  },
  {
   "cell_type": "code",
   "outputs": [
    {
     "name": "stdout",
     "output_type": "stream",
     "text": [
      "<class 'pandas.core.frame.DataFrame'>\n",
      "Index: 2294 entries, 2012-01 to 2012-03/2012-03-26/2012-03-31/2012-03-31 23:00:01\n",
      "Columns: 2184 entries, 2012-01/2011-12-26/2012-01-01/2012-01-01 00:00:01 to 2012-03/2012-03-26/2012-03-31/2012-03-31 23:00:01\n",
      "dtypes: float32(2184)\n",
      "memory usage: 19.2+ MB\n"
     ]
    }
   ],
   "source": [
    "S_df.info()"
   ],
   "metadata": {
    "collapsed": false,
    "ExecuteTime": {
     "end_time": "2024-03-16T06:19:32.975185Z",
     "start_time": "2024-03-16T06:19:32.958921Z"
    }
   },
   "id": "8cfbac909feced67",
   "execution_count": 300
  },
  {
   "cell_type": "code",
   "outputs": [
    {
     "data": {
      "text/plain": "                                               ds   AutoARIMA     AutoETS\nunique_id                                                                \n2012-01                       2012-01-31 17:00:01  102.592194  102.999702\n2012-01                       2012-01-31 18:00:01  102.737717  102.999702\n2012-01                       2012-01-31 19:00:01  103.324272  102.999702\n2012-01                       2012-01-31 20:00:01  103.779823  102.999702\n2012-01                       2012-01-31 21:00:01  102.951683  102.999702\n...                                           ...         ...         ...\n2012-03/2012-03-26/2012-03-31 2012-03-31 19:00:01   86.063492  103.001099\n2012-03/2012-03-26/2012-03-31 2012-03-31 20:00:01   83.396271  103.001099\n2012-03/2012-03-26/2012-03-31 2012-03-31 21:00:01   81.524620  103.001099\n2012-03/2012-03-26/2012-03-31 2012-03-31 22:00:01   80.211235  103.001099\n2012-03/2012-03-26/2012-03-31 2012-03-31 23:00:01   79.289597  103.001099\n\n[770 rows x 3 columns]",
      "text/html": "<div>\n<style scoped>\n    .dataframe tbody tr th:only-of-type {\n        vertical-align: middle;\n    }\n\n    .dataframe tbody tr th {\n        vertical-align: top;\n    }\n\n    .dataframe thead th {\n        text-align: right;\n    }\n</style>\n<table border=\"1\" class=\"dataframe\">\n  <thead>\n    <tr style=\"text-align: right;\">\n      <th></th>\n      <th>ds</th>\n      <th>AutoARIMA</th>\n      <th>AutoETS</th>\n    </tr>\n    <tr>\n      <th>unique_id</th>\n      <th></th>\n      <th></th>\n      <th></th>\n    </tr>\n  </thead>\n  <tbody>\n    <tr>\n      <th>2012-01</th>\n      <td>2012-01-31 17:00:01</td>\n      <td>102.592194</td>\n      <td>102.999702</td>\n    </tr>\n    <tr>\n      <th>2012-01</th>\n      <td>2012-01-31 18:00:01</td>\n      <td>102.737717</td>\n      <td>102.999702</td>\n    </tr>\n    <tr>\n      <th>2012-01</th>\n      <td>2012-01-31 19:00:01</td>\n      <td>103.324272</td>\n      <td>102.999702</td>\n    </tr>\n    <tr>\n      <th>2012-01</th>\n      <td>2012-01-31 20:00:01</td>\n      <td>103.779823</td>\n      <td>102.999702</td>\n    </tr>\n    <tr>\n      <th>2012-01</th>\n      <td>2012-01-31 21:00:01</td>\n      <td>102.951683</td>\n      <td>102.999702</td>\n    </tr>\n    <tr>\n      <th>...</th>\n      <td>...</td>\n      <td>...</td>\n      <td>...</td>\n    </tr>\n    <tr>\n      <th>2012-03/2012-03-26/2012-03-31</th>\n      <td>2012-03-31 19:00:01</td>\n      <td>86.063492</td>\n      <td>103.001099</td>\n    </tr>\n    <tr>\n      <th>2012-03/2012-03-26/2012-03-31</th>\n      <td>2012-03-31 20:00:01</td>\n      <td>83.396271</td>\n      <td>103.001099</td>\n    </tr>\n    <tr>\n      <th>2012-03/2012-03-26/2012-03-31</th>\n      <td>2012-03-31 21:00:01</td>\n      <td>81.524620</td>\n      <td>103.001099</td>\n    </tr>\n    <tr>\n      <th>2012-03/2012-03-26/2012-03-31</th>\n      <td>2012-03-31 22:00:01</td>\n      <td>80.211235</td>\n      <td>103.001099</td>\n    </tr>\n    <tr>\n      <th>2012-03/2012-03-26/2012-03-31</th>\n      <td>2012-03-31 23:00:01</td>\n      <td>79.289597</td>\n      <td>103.001099</td>\n    </tr>\n  </tbody>\n</table>\n<p>770 rows × 3 columns</p>\n</div>"
     },
     "execution_count": 301,
     "metadata": {},
     "output_type": "execute_result"
    }
   ],
   "source": [
    "Y_hat_df"
   ],
   "metadata": {
    "collapsed": false,
    "ExecuteTime": {
     "end_time": "2024-03-16T06:19:32.985464Z",
     "start_time": "2024-03-16T06:19:32.976515Z"
    }
   },
   "id": "4a1c491254b45249",
   "execution_count": 301
  },
  {
   "cell_type": "code",
   "outputs": [
    {
     "name": "stdout",
     "output_type": "stream",
     "text": [
      "<class 'pandas.core.frame.DataFrame'>\n",
      "Index: 770 entries, 2012-01 to 2012-03/2012-03-26/2012-03-31\n",
      "Data columns (total 3 columns):\n",
      " #   Column     Non-Null Count  Dtype         \n",
      "---  ------     --------------  -----         \n",
      " 0   ds         770 non-null    datetime64[ns]\n",
      " 1   AutoARIMA  770 non-null    float32       \n",
      " 2   AutoETS    770 non-null    float32       \n",
      "dtypes: datetime64[ns](1), float32(2)\n",
      "memory usage: 34.2+ KB\n"
     ]
    }
   ],
   "source": [
    "Y_hat_df.info()"
   ],
   "metadata": {
    "collapsed": false
   },
   "id": "50b5fb8cb58ee20",
   "execution_count": 302
  },
  {
   "cell_type": "code",
   "outputs": [
    {
     "data": {
      "text/plain": "                                               ds      y   AutoARIMA  \\\nunique_id                                                              \n2012-01                       2012-01-01 00:00:01   69.0   60.922459   \n2012-01                       2012-01-01 01:00:01   92.0   69.693207   \n2012-01                       2012-01-01 02:00:01   96.0   94.830650   \n2012-01                       2012-01-01 03:00:01   92.0   91.101509   \n2012-01                       2012-01-01 04:00:01   91.0   90.194138   \n...                                           ...    ...         ...   \n2012-03/2012-03-26/2012-03-31 2012-03-31 12:00:01  128.0  128.403442   \n2012-03/2012-03-26/2012-03-31 2012-03-31 13:00:01  127.0  128.701721   \n2012-03/2012-03-26/2012-03-31 2012-03-31 14:00:01  120.0  126.298279   \n2012-03/2012-03-26/2012-03-31 2012-03-31 15:00:01  114.0  115.087929   \n2012-03/2012-03-26/2012-03-31 2012-03-31 16:00:01  103.0  109.789658   \n\n                                  AutoETS  \nunique_id                                  \n2012-01                         69.123726  \n2012-01                         69.000015  \n2012-01                         91.997704  \n2012-01                         95.999603  \n2012-01                         92.000397  \n...                                   ...  \n2012-03/2012-03-26/2012-03-31  126.999802  \n2012-03/2012-03-26/2012-03-31  127.999901  \n2012-03/2012-03-26/2012-03-31  127.000099  \n2012-03/2012-03-26/2012-03-31  120.000702  \n2012-03/2012-03-26/2012-03-31  114.000603  \n\n[5782 rows x 4 columns]",
      "text/html": "<div>\n<style scoped>\n    .dataframe tbody tr th:only-of-type {\n        vertical-align: middle;\n    }\n\n    .dataframe tbody tr th {\n        vertical-align: top;\n    }\n\n    .dataframe thead th {\n        text-align: right;\n    }\n</style>\n<table border=\"1\" class=\"dataframe\">\n  <thead>\n    <tr style=\"text-align: right;\">\n      <th></th>\n      <th>ds</th>\n      <th>y</th>\n      <th>AutoARIMA</th>\n      <th>AutoETS</th>\n    </tr>\n    <tr>\n      <th>unique_id</th>\n      <th></th>\n      <th></th>\n      <th></th>\n      <th></th>\n    </tr>\n  </thead>\n  <tbody>\n    <tr>\n      <th>2012-01</th>\n      <td>2012-01-01 00:00:01</td>\n      <td>69.0</td>\n      <td>60.922459</td>\n      <td>69.123726</td>\n    </tr>\n    <tr>\n      <th>2012-01</th>\n      <td>2012-01-01 01:00:01</td>\n      <td>92.0</td>\n      <td>69.693207</td>\n      <td>69.000015</td>\n    </tr>\n    <tr>\n      <th>2012-01</th>\n      <td>2012-01-01 02:00:01</td>\n      <td>96.0</td>\n      <td>94.830650</td>\n      <td>91.997704</td>\n    </tr>\n    <tr>\n      <th>2012-01</th>\n      <td>2012-01-01 03:00:01</td>\n      <td>92.0</td>\n      <td>91.101509</td>\n      <td>95.999603</td>\n    </tr>\n    <tr>\n      <th>2012-01</th>\n      <td>2012-01-01 04:00:01</td>\n      <td>91.0</td>\n      <td>90.194138</td>\n      <td>92.000397</td>\n    </tr>\n    <tr>\n      <th>...</th>\n      <td>...</td>\n      <td>...</td>\n      <td>...</td>\n      <td>...</td>\n    </tr>\n    <tr>\n      <th>2012-03/2012-03-26/2012-03-31</th>\n      <td>2012-03-31 12:00:01</td>\n      <td>128.0</td>\n      <td>128.403442</td>\n      <td>126.999802</td>\n    </tr>\n    <tr>\n      <th>2012-03/2012-03-26/2012-03-31</th>\n      <td>2012-03-31 13:00:01</td>\n      <td>127.0</td>\n      <td>128.701721</td>\n      <td>127.999901</td>\n    </tr>\n    <tr>\n      <th>2012-03/2012-03-26/2012-03-31</th>\n      <td>2012-03-31 14:00:01</td>\n      <td>120.0</td>\n      <td>126.298279</td>\n      <td>127.000099</td>\n    </tr>\n    <tr>\n      <th>2012-03/2012-03-26/2012-03-31</th>\n      <td>2012-03-31 15:00:01</td>\n      <td>114.0</td>\n      <td>115.087929</td>\n      <td>120.000702</td>\n    </tr>\n    <tr>\n      <th>2012-03/2012-03-26/2012-03-31</th>\n      <td>2012-03-31 16:00:01</td>\n      <td>103.0</td>\n      <td>109.789658</td>\n      <td>114.000603</td>\n    </tr>\n  </tbody>\n</table>\n<p>5782 rows × 4 columns</p>\n</div>"
     },
     "execution_count": 303,
     "metadata": {},
     "output_type": "execute_result"
    }
   ],
   "source": [
    "Y_fitted_df"
   ],
   "metadata": {
    "collapsed": false
   },
   "id": "d51930e14bf1bb79",
   "execution_count": 303
  },
  {
   "cell_type": "code",
   "outputs": [],
   "source": [
    "from sklearn.metrics import mean_squared_error as mse"
   ],
   "metadata": {
    "collapsed": false
   },
   "id": "419ee4ce7631bc66",
   "execution_count": 304
  },
  {
   "cell_type": "code",
   "outputs": [
    {
     "name": "stdout",
     "output_type": "stream",
     "text": [
      "MSE для AutoARIMA: 177.22064208984375\n",
      "MSE для AutoETS: 201.31861877441406\n"
     ]
    }
   ],
   "source": [
    "# Вычисляем MSE для AutoARIMA\n",
    "mse_autoarima = mse(Y_fitted_df['y'], Y_fitted_df['AutoARIMA'])\n",
    "\n",
    "# Вычисляем MSE для AutoETS\n",
    "mse_autoets = mse(Y_fitted_df['y'], Y_fitted_df['AutoETS'])\n",
    "\n",
    "print(f\"MSE для AutoARIMA: {mse_autoarima}\")\n",
    "print(f\"MSE для AutoETS: {mse_autoets}\")"
   ],
   "metadata": {
    "collapsed": false
   },
   "id": "3c1194cb3636b8d3",
   "execution_count": 305
  },
  {
   "cell_type": "code",
   "outputs": [
    {
     "name": "stdout",
     "output_type": "stream",
     "text": [
      "MAE: 7.881965\n"
     ]
    }
   ],
   "source": [
    "from sklearn.metrics import mean_absolute_error\n",
    "\n",
    "# Фактические и прогнозные значения\n",
    "actual_values = Y_fitted_df['y']\n",
    "predicted_values = Y_fitted_df['AutoARIMA']  # или другой столбец с прогнозными значениями\n",
    "\n",
    "# Вычисление MAE\n",
    "mae = mean_absolute_error(actual_values, predicted_values)\n",
    "print(\"MAE:\", mae)"
   ],
   "metadata": {
    "collapsed": false
   },
   "id": "84cb1a73c43b8e09",
   "execution_count": 306
  },
  {
   "cell_type": "code",
   "outputs": [
    {
     "name": "stdout",
     "output_type": "stream",
     "text": [
      "<class 'pandas.core.frame.DataFrame'>\n",
      "Index: 5782 entries, 2012-01 to 2012-03/2012-03-26/2012-03-31\n",
      "Data columns (total 4 columns):\n",
      " #   Column     Non-Null Count  Dtype         \n",
      "---  ------     --------------  -----         \n",
      " 0   ds         5782 non-null   datetime64[ns]\n",
      " 1   y          5782 non-null   float32       \n",
      " 2   AutoARIMA  5782 non-null   float32       \n",
      " 3   AutoETS    5782 non-null   float32       \n",
      "dtypes: datetime64[ns](1), float32(3)\n",
      "memory usage: 287.1+ KB\n"
     ]
    }
   ],
   "source": [
    "Y_fitted_df.info()"
   ],
   "metadata": {
    "collapsed": false
   },
   "id": "ad482f7d7c9f50ba",
   "execution_count": 307
  },
  {
   "cell_type": "code",
   "outputs": [
    {
     "data": {
      "text/plain": "{'month': array(['2012-01', '2012-02', '2012-03'], dtype=object),\n 'month/week': array(['2012-01/2011-12-26', '2012-01/2012-01-02', '2012-01/2012-01-09',\n        '2012-01/2012-01-16', '2012-01/2012-01-23', '2012-01/2012-01-30',\n        '2012-02/2012-01-30', '2012-02/2012-02-06', '2012-02/2012-02-13',\n        '2012-02/2012-02-20', '2012-02/2012-02-27', '2012-03/2012-02-27',\n        '2012-03/2012-03-05', '2012-03/2012-03-12', '2012-03/2012-03-19',\n        '2012-03/2012-03-26'], dtype=object),\n 'month/week/day': array(['2012-01/2011-12-26/2012-01-01', '2012-01/2012-01-02/2012-01-02',\n        '2012-01/2012-01-02/2012-01-03', '2012-01/2012-01-02/2012-01-04',\n        '2012-01/2012-01-02/2012-01-05', '2012-01/2012-01-02/2012-01-06',\n        '2012-01/2012-01-02/2012-01-07', '2012-01/2012-01-02/2012-01-08',\n        '2012-01/2012-01-09/2012-01-09', '2012-01/2012-01-09/2012-01-10',\n        '2012-01/2012-01-09/2012-01-11', '2012-01/2012-01-09/2012-01-12',\n        '2012-01/2012-01-09/2012-01-13', '2012-01/2012-01-09/2012-01-14',\n        '2012-01/2012-01-09/2012-01-15', '2012-01/2012-01-16/2012-01-16',\n        '2012-01/2012-01-16/2012-01-17', '2012-01/2012-01-16/2012-01-18',\n        '2012-01/2012-01-16/2012-01-19', '2012-01/2012-01-16/2012-01-20',\n        '2012-01/2012-01-16/2012-01-21', '2012-01/2012-01-16/2012-01-22',\n        '2012-01/2012-01-23/2012-01-23', '2012-01/2012-01-23/2012-01-24',\n        '2012-01/2012-01-23/2012-01-25', '2012-01/2012-01-23/2012-01-26',\n        '2012-01/2012-01-23/2012-01-27', '2012-01/2012-01-23/2012-01-28',\n        '2012-01/2012-01-23/2012-01-29', '2012-01/2012-01-30/2012-01-30',\n        '2012-01/2012-01-30/2012-01-31', '2012-02/2012-01-30/2012-02-01',\n        '2012-02/2012-01-30/2012-02-02', '2012-02/2012-01-30/2012-02-03',\n        '2012-02/2012-01-30/2012-02-04', '2012-02/2012-01-30/2012-02-05',\n        '2012-02/2012-02-06/2012-02-06', '2012-02/2012-02-06/2012-02-07',\n        '2012-02/2012-02-06/2012-02-08', '2012-02/2012-02-06/2012-02-09',\n        '2012-02/2012-02-06/2012-02-10', '2012-02/2012-02-06/2012-02-11',\n        '2012-02/2012-02-06/2012-02-12', '2012-02/2012-02-13/2012-02-13',\n        '2012-02/2012-02-13/2012-02-14', '2012-02/2012-02-13/2012-02-15',\n        '2012-02/2012-02-13/2012-02-16', '2012-02/2012-02-13/2012-02-17',\n        '2012-02/2012-02-13/2012-02-18', '2012-02/2012-02-13/2012-02-19',\n        '2012-02/2012-02-20/2012-02-20', '2012-02/2012-02-20/2012-02-21',\n        '2012-02/2012-02-20/2012-02-22', '2012-02/2012-02-20/2012-02-23',\n        '2012-02/2012-02-20/2012-02-24', '2012-02/2012-02-20/2012-02-25',\n        '2012-02/2012-02-20/2012-02-26', '2012-02/2012-02-27/2012-02-27',\n        '2012-02/2012-02-27/2012-02-28', '2012-02/2012-02-27/2012-02-29',\n        '2012-03/2012-02-27/2012-03-01', '2012-03/2012-02-27/2012-03-02',\n        '2012-03/2012-02-27/2012-03-03', '2012-03/2012-02-27/2012-03-04',\n        '2012-03/2012-03-05/2012-03-05', '2012-03/2012-03-05/2012-03-06',\n        '2012-03/2012-03-05/2012-03-07', '2012-03/2012-03-05/2012-03-08',\n        '2012-03/2012-03-05/2012-03-09', '2012-03/2012-03-05/2012-03-10',\n        '2012-03/2012-03-05/2012-03-11', '2012-03/2012-03-12/2012-03-12',\n        '2012-03/2012-03-12/2012-03-13', '2012-03/2012-03-12/2012-03-14',\n        '2012-03/2012-03-12/2012-03-15', '2012-03/2012-03-12/2012-03-16',\n        '2012-03/2012-03-12/2012-03-17', '2012-03/2012-03-12/2012-03-18',\n        '2012-03/2012-03-19/2012-03-19', '2012-03/2012-03-19/2012-03-20',\n        '2012-03/2012-03-19/2012-03-21', '2012-03/2012-03-19/2012-03-22',\n        '2012-03/2012-03-19/2012-03-23', '2012-03/2012-03-19/2012-03-24',\n        '2012-03/2012-03-19/2012-03-25', '2012-03/2012-03-26/2012-03-26',\n        '2012-03/2012-03-26/2012-03-27', '2012-03/2012-03-26/2012-03-28',\n        '2012-03/2012-03-26/2012-03-29', '2012-03/2012-03-26/2012-03-30',\n        '2012-03/2012-03-26/2012-03-31'], dtype=object),\n 'month/week/day/hour': array(['2012-01/2011-12-26/2012-01-01/2012-01-01 00:00:01',\n        '2012-01/2011-12-26/2012-01-01/2012-01-01 01:00:01',\n        '2012-01/2011-12-26/2012-01-01/2012-01-01 02:00:01', ...,\n        '2012-03/2012-03-26/2012-03-31/2012-03-31 21:00:01',\n        '2012-03/2012-03-26/2012-03-31/2012-03-31 22:00:01',\n        '2012-03/2012-03-26/2012-03-31/2012-03-31 23:00:01'], dtype=object)}"
     },
     "execution_count": 308,
     "metadata": {},
     "output_type": "execute_result"
    }
   ],
   "source": [
    "tags"
   ],
   "metadata": {
    "collapsed": false
   },
   "id": "2ea0a6b61225195d",
   "execution_count": 308
  },
  {
   "cell_type": "code",
   "outputs": [
    {
     "ename": "AttributeError",
     "evalue": "'dict' object has no attribute 'info'",
     "output_type": "error",
     "traceback": [
      "\u001B[0;31m---------------------------------------------------------------------------\u001B[0m",
      "\u001B[0;31mAttributeError\u001B[0m                            Traceback (most recent call last)",
      "Cell \u001B[0;32mIn[309], line 1\u001B[0m\n\u001B[0;32m----> 1\u001B[0m \u001B[43mtags\u001B[49m\u001B[38;5;241;43m.\u001B[39;49m\u001B[43minfo\u001B[49m()\n",
      "\u001B[0;31mAttributeError\u001B[0m: 'dict' object has no attribute 'info'"
     ]
    }
   ],
   "source": [
    "tags.info()"
   ],
   "metadata": {
    "collapsed": false
   },
   "id": "aa1cfa5d4e458234",
   "execution_count": 309
  },
  {
   "cell_type": "code",
   "outputs": [],
   "source": [
    "# You can select a reconciler from our collection\n",
    "reconcilers = [\n",
    "      BottomUp(),\n",
    "      TopDown(method='forecast_proportions'),\n",
    "      # TopDown(method='average_proportions'),\n",
    "      # TopDown(method='proportion_averages'),\n",
    "      MinTrace(method='ols'),\n",
    "      # MinTrace(method='wls_var'),\n",
    "      # MinTrace(method='mint_shrink'),\n",
    "      # #ERM(method='reg_bu', lambda_reg=100) # Extremely inneficient\n",
    "      ERM(method='closed')\n",
    "]\n",
    "hrec = HierarchicalReconciliation(reconcilers=reconcilers)"
   ],
   "metadata": {
    "collapsed": false
   },
   "id": "5c817876f1d6a87c",
   "execution_count": null
  },
  {
   "cell_type": "code",
   "outputs": [
    {
     "ename": "ValueError",
     "evalue": "Length of values (70070) does not match length of index (770)",
     "output_type": "error",
     "traceback": [
      "\u001B[0;31m---------------------------------------------------------------------------\u001B[0m",
      "\u001B[0;31mValueError\u001B[0m                                Traceback (most recent call last)",
      "Cell \u001B[0;32mIn[310], line 1\u001B[0m\n\u001B[0;32m----> 1\u001B[0m Y_rec_df \u001B[38;5;241m=\u001B[39m \u001B[43mhrec\u001B[49m\u001B[38;5;241;43m.\u001B[39;49m\u001B[43mreconcile\u001B[49m\u001B[43m(\u001B[49m\u001B[43mY_h\u001B[49m\u001B[38;5;241;43m=\u001B[39;49m\u001B[43mY_hat_df\u001B[49m\u001B[43m,\u001B[49m\u001B[43m \u001B[49m\n\u001B[1;32m      2\u001B[0m \u001B[43m                          \u001B[49m\u001B[43mY_df\u001B[49m\u001B[38;5;241;43m=\u001B[39;49m\u001B[43mY_fitted_df\u001B[49m\u001B[43m,\u001B[49m\n\u001B[1;32m      3\u001B[0m \u001B[43m                          \u001B[49m\u001B[43mS\u001B[49m\u001B[38;5;241;43m=\u001B[39;49m\u001B[43mS_df\u001B[49m\u001B[43m,\u001B[49m\u001B[43m \u001B[49m\u001B[43mtags\u001B[49m\u001B[38;5;241;43m=\u001B[39;49m\u001B[43mtags\u001B[49m\u001B[43m)\u001B[49m\n\u001B[1;32m      4\u001B[0m Y_rec_df\u001B[38;5;241m.\u001B[39mgroupby(\u001B[38;5;124m'\u001B[39m\u001B[38;5;124munique_id\u001B[39m\u001B[38;5;124m'\u001B[39m)\u001B[38;5;241m.\u001B[39mhead(FH)\n",
      "File \u001B[0;32m~/hse_master/develop_tools/fast_api/fast_api_tutorial/venv/lib/python3.10/site-packages/hierarchicalforecast/core.py:71\u001B[0m, in \u001B[0;36mHierarchicalReconciliation.reconcile\u001B[0;34m(self, Y_h, Y_df, S, tags)\u001B[0m\n\u001B[1;32m     69\u001B[0m kwargs \u001B[38;5;241m=\u001B[39m {key: common_vals[key] \u001B[38;5;28;01mfor\u001B[39;00m key \u001B[38;5;129;01min\u001B[39;00m kwargs}\n\u001B[1;32m     70\u001B[0m fcsts_model \u001B[38;5;241m=\u001B[39m reconcile_fn(y_hat\u001B[38;5;241m=\u001B[39my_hat_model, \u001B[38;5;241m*\u001B[39m\u001B[38;5;241m*\u001B[39mkwargs)\n\u001B[0;32m---> 71\u001B[0m \u001B[43mfcsts\u001B[49m\u001B[43m[\u001B[49m\u001B[38;5;124;43mf\u001B[39;49m\u001B[38;5;124;43m'\u001B[39;49m\u001B[38;5;132;43;01m{\u001B[39;49;00m\u001B[43mmodel_name\u001B[49m\u001B[38;5;132;43;01m}\u001B[39;49;00m\u001B[38;5;124;43m/\u001B[39;49m\u001B[38;5;132;43;01m{\u001B[39;49;00m\u001B[43mreconcile_fn_name\u001B[49m\u001B[38;5;132;43;01m}\u001B[39;49;00m\u001B[38;5;124;43m'\u001B[39;49m\u001B[43m]\u001B[49m \u001B[38;5;241m=\u001B[39m fcsts_model\u001B[38;5;241m.\u001B[39mflatten()\n\u001B[1;32m     72\u001B[0m \u001B[38;5;28;01mif\u001B[39;00m has_fitted:\n\u001B[1;32m     73\u001B[0m     \u001B[38;5;28;01mdel\u001B[39;00m common_vals[\u001B[38;5;124m'\u001B[39m\u001B[38;5;124my_hat_insample\u001B[39m\u001B[38;5;124m'\u001B[39m]\n",
      "File \u001B[0;32m~/hse_master/develop_tools/fast_api/fast_api_tutorial/venv/lib/python3.10/site-packages/pandas/core/frame.py:4091\u001B[0m, in \u001B[0;36mDataFrame.__setitem__\u001B[0;34m(self, key, value)\u001B[0m\n\u001B[1;32m   4088\u001B[0m     \u001B[38;5;28mself\u001B[39m\u001B[38;5;241m.\u001B[39m_setitem_array([key], value)\n\u001B[1;32m   4089\u001B[0m \u001B[38;5;28;01melse\u001B[39;00m:\n\u001B[1;32m   4090\u001B[0m     \u001B[38;5;66;03m# set column\u001B[39;00m\n\u001B[0;32m-> 4091\u001B[0m     \u001B[38;5;28;43mself\u001B[39;49m\u001B[38;5;241;43m.\u001B[39;49m\u001B[43m_set_item\u001B[49m\u001B[43m(\u001B[49m\u001B[43mkey\u001B[49m\u001B[43m,\u001B[49m\u001B[43m \u001B[49m\u001B[43mvalue\u001B[49m\u001B[43m)\u001B[49m\n",
      "File \u001B[0;32m~/hse_master/develop_tools/fast_api/fast_api_tutorial/venv/lib/python3.10/site-packages/pandas/core/frame.py:4300\u001B[0m, in \u001B[0;36mDataFrame._set_item\u001B[0;34m(self, key, value)\u001B[0m\n\u001B[1;32m   4290\u001B[0m \u001B[38;5;28;01mdef\u001B[39;00m \u001B[38;5;21m_set_item\u001B[39m(\u001B[38;5;28mself\u001B[39m, key, value) \u001B[38;5;241m-\u001B[39m\u001B[38;5;241m>\u001B[39m \u001B[38;5;28;01mNone\u001B[39;00m:\n\u001B[1;32m   4291\u001B[0m \u001B[38;5;250m    \u001B[39m\u001B[38;5;124;03m\"\"\"\u001B[39;00m\n\u001B[1;32m   4292\u001B[0m \u001B[38;5;124;03m    Add series to DataFrame in specified column.\u001B[39;00m\n\u001B[1;32m   4293\u001B[0m \n\u001B[0;32m   (...)\u001B[0m\n\u001B[1;32m   4298\u001B[0m \u001B[38;5;124;03m    ensure homogeneity.\u001B[39;00m\n\u001B[1;32m   4299\u001B[0m \u001B[38;5;124;03m    \"\"\"\u001B[39;00m\n\u001B[0;32m-> 4300\u001B[0m     value, refs \u001B[38;5;241m=\u001B[39m \u001B[38;5;28;43mself\u001B[39;49m\u001B[38;5;241;43m.\u001B[39;49m\u001B[43m_sanitize_column\u001B[49m\u001B[43m(\u001B[49m\u001B[43mvalue\u001B[49m\u001B[43m)\u001B[49m\n\u001B[1;32m   4302\u001B[0m     \u001B[38;5;28;01mif\u001B[39;00m (\n\u001B[1;32m   4303\u001B[0m         key \u001B[38;5;129;01min\u001B[39;00m \u001B[38;5;28mself\u001B[39m\u001B[38;5;241m.\u001B[39mcolumns\n\u001B[1;32m   4304\u001B[0m         \u001B[38;5;129;01mand\u001B[39;00m value\u001B[38;5;241m.\u001B[39mndim \u001B[38;5;241m==\u001B[39m \u001B[38;5;241m1\u001B[39m\n\u001B[1;32m   4305\u001B[0m         \u001B[38;5;129;01mand\u001B[39;00m \u001B[38;5;129;01mnot\u001B[39;00m \u001B[38;5;28misinstance\u001B[39m(value\u001B[38;5;241m.\u001B[39mdtype, ExtensionDtype)\n\u001B[1;32m   4306\u001B[0m     ):\n\u001B[1;32m   4307\u001B[0m         \u001B[38;5;66;03m# broadcast across multiple columns if necessary\u001B[39;00m\n\u001B[1;32m   4308\u001B[0m         \u001B[38;5;28;01mif\u001B[39;00m \u001B[38;5;129;01mnot\u001B[39;00m \u001B[38;5;28mself\u001B[39m\u001B[38;5;241m.\u001B[39mcolumns\u001B[38;5;241m.\u001B[39mis_unique \u001B[38;5;129;01mor\u001B[39;00m \u001B[38;5;28misinstance\u001B[39m(\u001B[38;5;28mself\u001B[39m\u001B[38;5;241m.\u001B[39mcolumns, MultiIndex):\n",
      "File \u001B[0;32m~/hse_master/develop_tools/fast_api/fast_api_tutorial/venv/lib/python3.10/site-packages/pandas/core/frame.py:5039\u001B[0m, in \u001B[0;36mDataFrame._sanitize_column\u001B[0;34m(self, value)\u001B[0m\n\u001B[1;32m   5036\u001B[0m     \u001B[38;5;28;01mreturn\u001B[39;00m _reindex_for_setitem(value, \u001B[38;5;28mself\u001B[39m\u001B[38;5;241m.\u001B[39mindex)\n\u001B[1;32m   5038\u001B[0m \u001B[38;5;28;01mif\u001B[39;00m is_list_like(value):\n\u001B[0;32m-> 5039\u001B[0m     \u001B[43mcom\u001B[49m\u001B[38;5;241;43m.\u001B[39;49m\u001B[43mrequire_length_match\u001B[49m\u001B[43m(\u001B[49m\u001B[43mvalue\u001B[49m\u001B[43m,\u001B[49m\u001B[43m \u001B[49m\u001B[38;5;28;43mself\u001B[39;49m\u001B[38;5;241;43m.\u001B[39;49m\u001B[43mindex\u001B[49m\u001B[43m)\u001B[49m\n\u001B[1;32m   5040\u001B[0m \u001B[38;5;28;01mreturn\u001B[39;00m sanitize_array(value, \u001B[38;5;28mself\u001B[39m\u001B[38;5;241m.\u001B[39mindex, copy\u001B[38;5;241m=\u001B[39m\u001B[38;5;28;01mTrue\u001B[39;00m, allow_2d\u001B[38;5;241m=\u001B[39m\u001B[38;5;28;01mTrue\u001B[39;00m), \u001B[38;5;28;01mNone\u001B[39;00m\n",
      "File \u001B[0;32m~/hse_master/develop_tools/fast_api/fast_api_tutorial/venv/lib/python3.10/site-packages/pandas/core/common.py:561\u001B[0m, in \u001B[0;36mrequire_length_match\u001B[0;34m(data, index)\u001B[0m\n\u001B[1;32m    557\u001B[0m \u001B[38;5;250m\u001B[39m\u001B[38;5;124;03m\"\"\"\u001B[39;00m\n\u001B[1;32m    558\u001B[0m \u001B[38;5;124;03mCheck the length of data matches the length of the index.\u001B[39;00m\n\u001B[1;32m    559\u001B[0m \u001B[38;5;124;03m\"\"\"\u001B[39;00m\n\u001B[1;32m    560\u001B[0m \u001B[38;5;28;01mif\u001B[39;00m \u001B[38;5;28mlen\u001B[39m(data) \u001B[38;5;241m!=\u001B[39m \u001B[38;5;28mlen\u001B[39m(index):\n\u001B[0;32m--> 561\u001B[0m     \u001B[38;5;28;01mraise\u001B[39;00m \u001B[38;5;167;01mValueError\u001B[39;00m(\n\u001B[1;32m    562\u001B[0m         \u001B[38;5;124m\"\u001B[39m\u001B[38;5;124mLength of values \u001B[39m\u001B[38;5;124m\"\u001B[39m\n\u001B[1;32m    563\u001B[0m         \u001B[38;5;124mf\u001B[39m\u001B[38;5;124m\"\u001B[39m\u001B[38;5;124m(\u001B[39m\u001B[38;5;132;01m{\u001B[39;00m\u001B[38;5;28mlen\u001B[39m(data)\u001B[38;5;132;01m}\u001B[39;00m\u001B[38;5;124m) \u001B[39m\u001B[38;5;124m\"\u001B[39m\n\u001B[1;32m    564\u001B[0m         \u001B[38;5;124m\"\u001B[39m\u001B[38;5;124mdoes not match length of index \u001B[39m\u001B[38;5;124m\"\u001B[39m\n\u001B[1;32m    565\u001B[0m         \u001B[38;5;124mf\u001B[39m\u001B[38;5;124m\"\u001B[39m\u001B[38;5;124m(\u001B[39m\u001B[38;5;132;01m{\u001B[39;00m\u001B[38;5;28mlen\u001B[39m(index)\u001B[38;5;132;01m}\u001B[39;00m\u001B[38;5;124m)\u001B[39m\u001B[38;5;124m\"\u001B[39m\n\u001B[1;32m    566\u001B[0m     )\n",
      "\u001B[0;31mValueError\u001B[0m: Length of values (70070) does not match length of index (770)"
     ]
    }
   ],
   "source": [
    "Y_rec_df = hrec.reconcile(Y_h=Y_hat_df, \n",
    "                          Y_df=Y_fitted_df,\n",
    "                          S=S_df, tags=tags)\n",
    "Y_rec_df.groupby('unique_id').head(FH)"
   ],
   "metadata": {
    "collapsed": false,
    "ExecuteTime": {
     "end_time": "2024-03-16T06:19:36.824484Z",
     "start_time": "2024-03-16T06:19:36.635239Z"
    }
   },
   "id": "7fb83ff0868ff0a5",
   "execution_count": 310
  },
  {
   "cell_type": "code",
   "outputs": [
    {
     "data": {
      "text/plain": "(770, 3)"
     },
     "execution_count": 311,
     "metadata": {},
     "output_type": "execute_result"
    }
   ],
   "source": [
    "Y_hat_df.shape"
   ],
   "metadata": {
    "collapsed": false,
    "ExecuteTime": {
     "end_time": "2024-03-16T06:19:37.068415Z",
     "start_time": "2024-03-16T06:19:37.064881Z"
    }
   },
   "id": "891a6654d22ff079",
   "execution_count": 311
  },
  {
   "cell_type": "code",
   "outputs": [
    {
     "data": {
      "text/plain": "(770,)"
     },
     "execution_count": 312,
     "metadata": {},
     "output_type": "execute_result"
    }
   ],
   "source": [
    "Y_hat_df.index.shape"
   ],
   "metadata": {
    "collapsed": false,
    "ExecuteTime": {
     "end_time": "2024-03-16T06:19:37.432523Z",
     "start_time": "2024-03-16T06:19:37.428453Z"
    }
   },
   "id": "60c97f7d4ddd98b4",
   "execution_count": 312
  },
  {
   "cell_type": "code",
   "outputs": [],
   "source": [],
   "metadata": {
    "collapsed": false
   },
   "id": "2b30cc9b9f66eadc"
  }
 ],
 "metadata": {
  "kernelspec": {
   "display_name": "Python 3",
   "language": "python",
   "name": "python3"
  },
  "language_info": {
   "codemirror_mode": {
    "name": "ipython",
    "version": 2
   },
   "file_extension": ".py",
   "mimetype": "text/x-python",
   "name": "python",
   "nbconvert_exporter": "python",
   "pygments_lexer": "ipython2",
   "version": "2.7.6"
  }
 },
 "nbformat": 4,
 "nbformat_minor": 5
}
